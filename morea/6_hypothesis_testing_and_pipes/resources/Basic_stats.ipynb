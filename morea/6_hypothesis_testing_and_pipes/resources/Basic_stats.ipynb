{
 "cells": [
  {
   "cell_type": "code",
   "execution_count": 3,
   "id": "0e9ef00f",
   "metadata": {},
   "outputs": [
    {
     "data": {
      "text/html": [
       "7.0023057781671"
      ],
      "text/latex": [
       "7.0023057781671"
      ],
      "text/markdown": [
       "7.0023057781671"
      ],
      "text/plain": [
       "[1] 7.002306"
      ]
     },
     "metadata": {},
     "output_type": "display_data"
    }
   ],
   "source": [
    "rnorm(1, 9, 3)\n",
    "rnorm(1, 17, 3)\n"
   ]
  },
  {
   "cell_type": "code",
   "execution_count": 6,
   "id": "39bf8e26",
   "metadata": {},
   "outputs": [
    {
     "data": {
      "text/html": [
       "15.0478225609358"
      ],
      "text/latex": [
       "15.0478225609358"
      ],
      "text/markdown": [
       "15.0478225609358"
      ],
      "text/plain": [
       "[1] 15.04782"
      ]
     },
     "metadata": {},
     "output_type": "display_data"
    }
   ],
   "source": [
    "rnorm(1, 17, 3)"
   ]
  },
  {
   "cell_type": "code",
   "execution_count": 27,
   "id": "fe505597",
   "metadata": {},
   "outputs": [
    {
     "name": "stderr",
     "output_type": "stream",
     "text": [
      "── \u001b[1mAttaching packages\u001b[22m ────────────────────────────────────────────────────────────────────────────────────────────────────────────── tidyverse 1.3.2 ──\n",
      "\u001b[32m✔\u001b[39m \u001b[34mggplot2\u001b[39m 3.3.6     \u001b[32m✔\u001b[39m \u001b[34mpurrr  \u001b[39m 0.3.4\n",
      "\u001b[32m✔\u001b[39m \u001b[34mtibble \u001b[39m 3.1.8     \u001b[32m✔\u001b[39m \u001b[34mdplyr  \u001b[39m 1.0.9\n",
      "\u001b[32m✔\u001b[39m \u001b[34mtidyr  \u001b[39m 1.2.0     \u001b[32m✔\u001b[39m \u001b[34mstringr\u001b[39m 1.4.1\n",
      "\u001b[32m✔\u001b[39m \u001b[34mreadr  \u001b[39m 2.1.2     \u001b[32m✔\u001b[39m \u001b[34mforcats\u001b[39m 0.5.2\n",
      "── \u001b[1mConflicts\u001b[22m ───────────────────────────────────────────────────────────────────────────────────────────────────────────────── tidyverse_conflicts() ──\n",
      "\u001b[31m✖\u001b[39m \u001b[34mdplyr\u001b[39m::\u001b[32mfilter()\u001b[39m masks \u001b[34mstats\u001b[39m::filter()\n",
      "\u001b[31m✖\u001b[39m \u001b[34mdplyr\u001b[39m::\u001b[32mlag()\u001b[39m    masks \u001b[34mstats\u001b[39m::lag()\n"
     ]
    }
   ],
   "source": [
    "library(tidyverse)"
   ]
  },
  {
   "cell_type": "markdown",
   "id": "2c3a18bc",
   "metadata": {},
   "source": [
    "### Data Types and Hypothesis Tests: continous Data\n",
    "\n",
    "* Used to assess both the central tendency and variability.\n",
    "* Some useful tests:\n",
    "\n",
    "| What you’re testing | Hypothesis Test |\n",
    "|---------------------|-----------------|\n",
    "| One mean to reference value | 1-sample t-test |\n",
    "| Means for two groups | 2-sample t-test, paired t-test|\n",
    "| Means for at least three groups | One-Way ANOVA, Two-Way ANOVA |\n",
    "| Compare specific groups from ANOVA | Post hoc tests |\n",
    "| One standard deviation to reference | 1 Sample Variance Test|\n",
    "| Standard deviations for two groups |  2 Sample Variance Test|\n",
    "| Correlation between two contin- uous variables | Pearson’s correlation coefficient|\n",
    "| Shape of distribution | Distribution tests for continuous data |\n",
    "| Presences of outlies Medians | Outlier tests|\n",
    "\n",
    "\n",
    "\n",
    "\n",
    "\n",
    "\n",
    "\n"
   ]
  },
  {
   "cell_type": "markdown",
   "id": "b9d9fa4d",
   "metadata": {},
   "source": [
    "### Data Types and Hypothesis Tests: Binary, Count and Categorical Data\n",
    "\n",
    "* Used to assess both the central tendency and variability.\n",
    "* Some useful tests:\n",
    "\n",
    "| What you’re testing | Hypothesis Test |\n",
    "|---------------------|-----------------|\n",
    "| One proportion to a target | 1 Proportions Test |\n",
    "| Proportions for two groups |  2 Proportions Test |\n",
    "| One rate to a target | 1 Sample Poisson Rate Test |\n",
    "| Rates for two groups | 2 Sample Poisson Rate Test |\n",
    "| Distribution test | Poisson Goodness-of-Fit Test |\n",
    "| Association between two variables | Chi-Squared Test of Independence categorical variables| \n",
    "| Do the proportions of values follow a hypothesized distribution? |  Chi-Square Goodness-of-Fit test"
   ]
  },
  {
   "cell_type": "markdown",
   "id": "7e27a5ba",
   "metadata": {},
   "source": [
    "\n",
    "### $\\chi^2$ goodness-of-fit test\n",
    "\n",
    "* The $\\chi^2$ goodness-of-fit test is one of the oldest hypothesis tests for categorical data.\n",
    "\n",
    "* Cateorical data refers to data with a \"nominal scale\"\n"
   ]
  },
  {
   "cell_type": "markdown",
   "id": "49772bd4",
   "metadata": {},
   "source": [
    "### The Card Radnomness Test\n",
    " * Ask 200 people to mentally choose two card suits. Is the choice random?\n",
    " * I.e., do people pickle the second card suit radnomly (p=uniform) or is the choice related to the first choice\n",
    "* About Rdata Files are a dump of your workspace\n",
    "  * You can save your worksapce to an Rdata file suing `save.image(file=\"filename.RData\") `\n",
    "  * Load data using `load(file=\"filename.RData\") `\n",
    "\n"
   ]
  },
  {
   "cell_type": "code",
   "execution_count": 8,
   "id": "fc728c9b",
   "metadata": {},
   "outputs": [],
   "source": [
    "load(\"data/randomness.Rdata\")"
   ]
  },
  {
   "cell_type": "code",
   "execution_count": 10,
   "id": "c0985836",
   "metadata": {},
   "outputs": [
    {
     "data": {
      "text/plain": [
       "\n",
       "   clubs diamonds   hearts   spades \n",
       "      68       44       41       47 "
      ]
     },
     "metadata": {},
     "output_type": "display_data"
    }
   ],
   "source": [
    "observed <- table( cards$choice_2 )\n",
    "observed"
   ]
  },
  {
   "cell_type": "markdown",
   "id": "3b19fb9c",
   "metadata": {},
   "source": [
    "### How do we reprodcude Similar Data\n",
    "\n",
    "* The Observed frequncies $O = (O_1, O_2, O_3, O_4) = (68, 44, 41, 47)$\n",
    "* How do we sample similar data in R?\n",
    "  * Which distribution should we use?\n",
    "  * Recall, this is simply a generalization of (coin flip)"
   ]
  },
  {
   "cell_type": "code",
   "execution_count": 11,
   "id": "60cd4a5b",
   "metadata": {},
   "outputs": [
    {
     "data": {
      "text/html": [
       "<table class=\"dataframe\">\n",
       "<caption>A matrix: 4 × 1 of type int</caption>\n",
       "<tbody>\n",
       "\t<tr><td>48</td></tr>\n",
       "\t<tr><td>47</td></tr>\n",
       "\t<tr><td>57</td></tr>\n",
       "\t<tr><td>48</td></tr>\n",
       "</tbody>\n",
       "</table>\n"
      ],
      "text/latex": [
       "A matrix: 4 × 1 of type int\n",
       "\\begin{tabular}{l}\n",
       "\t 48\\\\\n",
       "\t 47\\\\\n",
       "\t 57\\\\\n",
       "\t 48\\\\\n",
       "\\end{tabular}\n"
      ],
      "text/markdown": [
       "\n",
       "A matrix: 4 × 1 of type int\n",
       "\n",
       "| 48 |\n",
       "| 47 |\n",
       "| 57 |\n",
       "| 48 |\n",
       "\n"
      ],
      "text/plain": [
       "     [,1]\n",
       "[1,] 48  \n",
       "[2,] 47  \n",
       "[3,] 57  \n",
       "[4,] 48  "
      ]
     },
     "metadata": {},
     "output_type": "display_data"
    }
   ],
   "source": [
    "n = 1\n",
    "size = 200\n",
    "prob = c(1/4, 1/4, 1/4, 1/4)\n",
    "rmultinom(n, size, prob)"
   ]
  },
  {
   "cell_type": "markdown",
   "id": "891815ba",
   "metadata": {},
   "source": [
    "### Pearson’s $\\chi^2$ goodness of fit test\n",
    "\n",
    "* Our assumtpion is that the card (species, or whatever other counts) are not uniformly represented.\n",
    "\n",
    "    * $H_0$: All four suits are chosen with equal probability p=0.25\n",
    "\n",
    "    * $H_A$: At least one of the suit-choice probabilities $\\ne$ 0.25\n",
    "\n",
    "* How to test this hypothesis?\n",
    "\n",
    "* The same test we ran manually\n",
    "\n",
    "  * Sample uniformly represented card.\n",
    "\n",
    "  1. Compute some test statistics\n",
    "\n",
    "  2. Plot where the observed statistic occurs using the data from the null as a reference\n",
    "\n",
    "   2.1 compute a p-value\n",
    "\n",
    "* This is exactly wha the $\\chi^2$ goodness of fit tests\n",
    "\n",
    " * $H_0$: $P = (25,.25,.25,.25)$\n",
    "\n",
    " * $H_A$: $P \\ne (.25,.25,.25,.25)$\n",
    "\n"
   ]
  },
  {
   "cell_type": "markdown",
   "id": "24ab41b8",
   "metadata": {},
   "source": [
    "### The “goodness of fit” test statistic\n",
    "\n",
    "* Similar to what we've done via simulation, if we want to test `H0` against `H1`, we’re going to need a test statistic.\n",
    "  * Measures how “close” the data are to the null hypothesis. \n",
    "      * If the data do not resemble what you’d “expect” to see if the null hypothesis were true, then it probably isn’t true.\n",
    "  * What are the expected frequencies?"
   ]
  },
  {
   "cell_type": "code",
   "execution_count": 12,
   "id": "2381dce8",
   "metadata": {},
   "outputs": [
    {
     "data": {
      "text/html": [
       "<style>\n",
       ".dl-inline {width: auto; margin:0; padding: 0}\n",
       ".dl-inline>dt, .dl-inline>dd {float: none; width: auto; display: inline-block}\n",
       ".dl-inline>dt::after {content: \":\\0020\"; padding-right: .5ex}\n",
       ".dl-inline>dt:not(:first-of-type) {padding-left: .5ex}\n",
       "</style><dl class=dl-inline><dt>clubs</dt><dd>0.25</dd><dt>diamonds</dt><dd>0.25</dd><dt>hearts</dt><dd>0.25</dd><dt>spades</dt><dd>0.25</dd></dl>\n"
      ],
      "text/latex": [
       "\\begin{description*}\n",
       "\\item[clubs] 0.25\n",
       "\\item[diamonds] 0.25\n",
       "\\item[hearts] 0.25\n",
       "\\item[spades] 0.25\n",
       "\\end{description*}\n"
      ],
      "text/markdown": [
       "clubs\n",
       ":   0.25diamonds\n",
       ":   0.25hearts\n",
       ":   0.25spades\n",
       ":   0.25\n",
       "\n"
      ],
      "text/plain": [
       "   clubs diamonds   hearts   spades \n",
       "    0.25     0.25     0.25     0.25 "
      ]
     },
     "metadata": {},
     "output_type": "display_data"
    }
   ],
   "source": [
    "### What is this called in R?\n",
    "probabilities <- c(clubs = .25, diamonds = .25, hearts = .25, spades = .25)\n",
    "probabilities"
   ]
  },
  {
   "cell_type": "code",
   "execution_count": 13,
   "id": "5df97e70",
   "metadata": {},
   "outputs": [
    {
     "data": {
      "text/html": [
       "<style>\n",
       ".dl-inline {width: auto; margin:0; padding: 0}\n",
       ".dl-inline>dt, .dl-inline>dd {float: none; width: auto; display: inline-block}\n",
       ".dl-inline>dt::after {content: \":\\0020\"; padding-right: .5ex}\n",
       ".dl-inline>dt:not(:first-of-type) {padding-left: .5ex}\n",
       "</style><dl class=dl-inline><dt>clubs</dt><dd>50</dd><dt>diamonds</dt><dd>50</dd><dt>hearts</dt><dd>50</dd><dt>spades</dt><dd>50</dd></dl>\n"
      ],
      "text/latex": [
       "\\begin{description*}\n",
       "\\item[clubs] 50\n",
       "\\item[diamonds] 50\n",
       "\\item[hearts] 50\n",
       "\\item[spades] 50\n",
       "\\end{description*}\n"
      ],
      "text/markdown": [
       "clubs\n",
       ":   50diamonds\n",
       ":   50hearts\n",
       ":   50spades\n",
       ":   50\n",
       "\n"
      ],
      "text/plain": [
       "   clubs diamonds   hearts   spades \n",
       "      50       50       50       50 "
      ]
     },
     "metadata": {},
     "output_type": "display_data"
    }
   ],
   "source": [
    "expected= 200 * probabilities\n",
    "expected\n"
   ]
  },
  {
   "cell_type": "markdown",
   "id": "a4327e67",
   "metadata": {},
   "source": [
    "### Deriving a Test Statistic\n",
    "\n",
    "Objetive: compare the expected (Ei) wiht observed vals in each category\n",
    "\n",
    "![](https://www.dropbox.com/s/61z3mx4g33qrq19/obs_exp.png?dl=1)\n",
    "\n",
    "* Sign should not matter + 14 hearts and -15 clubs should be equivalent to -14 hearts and +15 clubs\n",
    "  * Easy: we can just count the squared error\n",
    "* We' also interested in contextualizing that error. \n",
    "  * +14 with regards to what\n",
    "  * Let's divide by the expectation so we can also represent this error in terms of units representing how far form the expectation it is. \n",
    "  * The total distance we're off by is the sum of all of these.\n",
    "\n",
    "\n"
   ]
  },
  {
   "cell_type": "code",
   "execution_count": 15,
   "id": "8e199d68",
   "metadata": {},
   "outputs": [
    {
     "data": {
      "text/plain": [
       "\n",
       "   clubs diamonds   hearts   spades \n",
       "      68       44       41       47 "
      ]
     },
     "metadata": {},
     "output_type": "display_data"
    }
   ],
   "source": [
    "observed"
   ]
  },
  {
   "cell_type": "code",
   "execution_count": 14,
   "id": "02a7d8d1",
   "metadata": {},
   "outputs": [
    {
     "data": {
      "text/plain": [
       "\n",
       "   clubs diamonds   hearts   spades \n",
       "      18       -6       -9       -3 "
      ]
     },
     "metadata": {},
     "output_type": "display_data"
    }
   ],
   "source": [
    "observed - expected"
   ]
  },
  {
   "cell_type": "code",
   "execution_count": 17,
   "id": "257b2245",
   "metadata": {},
   "outputs": [
    {
     "data": {
      "text/plain": [
       "\n",
       "   clubs diamonds   hearts   spades \n",
       "    6.48     0.72     1.62     0.18 "
      ]
     },
     "metadata": {},
     "output_type": "display_data"
    }
   ],
   "source": [
    "(observed - expected)^2 / expected"
   ]
  },
  {
   "cell_type": "code",
   "execution_count": 19,
   "id": "6f3ae69e",
   "metadata": {},
   "outputs": [
    {
     "data": {
      "text/html": [
       "9"
      ],
      "text/latex": [
       "9"
      ],
      "text/markdown": [
       "9"
      ],
      "text/plain": [
       "[1] 9"
      ]
     },
     "metadata": {},
     "output_type": "display_data"
    }
   ],
   "source": [
    "sum((observed - expected)^2 / expected)"
   ]
  },
  {
   "cell_type": "markdown",
   "id": "a45dcd62",
   "metadata": {},
   "source": [
    "### The $\\chi^2$ Statistic\n",
    "\n",
    "* What we Computed Above is the $\\chi^2$ statistic\n",
    "\n",
    "$$\n",
    "\\chi^2 = \\sum_{i=1}^{k} \\frac{(E_i - O_i)^2}{E_i}\n",
    "$$\n",
    "\n",
    "* Where $k$ is the number of categories\n",
    " \n",
    "* Similar to our similations with the distance, it's easy to observe that large vlaue of $\\chi^2$ are in favor of the alternaitves, i.e.:\n",
    "\n",
    "* If $\\chi^2$ is small, then $O_i$  and $E_i$ are close (Null hypothesis is okay)\n",
    "* If $\\chi^2$ is large, then Oi  cannot come from the same distribution as Ei (the uniform here)\n",
    "\n",
    "* Is $\\chi^2 = 9$ large or small? \n"
   ]
  },
  {
   "cell_type": "markdown",
   "id": "00150d08",
   "metadata": {},
   "source": [
    "### The sampling distribution of the GOF statistic\n",
    "\n",
    "* What should $\\chi^2$ values look like if we sample randomly form the uniform. \n",
    "  * i.e., what does the sampling distribution of $\\chi^2$ looks like\n",
    "\n",
    "* Recall, that essentially, $O_i$, observed frequency for a category $i$ is distributed according to a binomial\n",
    "$$\n",
    "O_i \\sim \\text{Binomial}(P_i, N)\n",
    "$$\n",
    "\n",
    "* For large values of N and when $P_i$ isn’t too close to 0 or 1, the Central Limit Theorem say that the  the binomial is similar to the Gaussian \n"
   ]
  },
  {
   "cell_type": "code",
   "execution_count": 6,
   "id": "e630c42f",
   "metadata": {},
   "outputs": [],
   "source": [
    "N = 200\n",
    "p = 0.4\n",
    "\n"
   ]
  },
  {
   "cell_type": "code",
   "execution_count": 7,
   "id": "dcc40fef",
   "metadata": {},
   "outputs": [
    {
     "data": {
      "text/html": [
       "84"
      ],
      "text/latex": [
       "84"
      ],
      "text/markdown": [
       "84"
      ],
      "text/plain": [
       "[1] 84"
      ]
     },
     "metadata": {},
     "output_type": "display_data"
    }
   ],
   "source": [
    "rbinom(1, N, p)"
   ]
  },
  {
   "cell_type": "code",
   "execution_count": 14,
   "id": "9bc222ce",
   "metadata": {},
   "outputs": [
    {
     "data": {
      "image/png": "[encoded data removed]",
      "text/plain": [
       "plot without title"
      ]
     },
     "metadata": {
      "image/png": {
       "height": 420,
       "width": 420
      }
     },
     "output_type": "display_data"
    }
   ],
   "source": [
    "x_axis = c(50:115)\n",
    "y_axis = dbinom(x_axis, N, p)\n",
    "\n",
    "ggplot() +\n",
    " geom_line(aes(x_axis, y_axis))"
   ]
  },
  {
   "cell_type": "markdown",
   "id": "3253b934",
   "metadata": {},
   "source": [
    "# From the Gaussian to the $\\chi^2$\n",
    "\n",
    "* When $E_i = N \\times Pi$ is large, then $O_i$ follows a Gaussian\n",
    "\n",
    "* If $O_i$ is normally distributed, then so is $(O_i - E_i) / \\sqrt{E_i}$\n",
    "\n",
    "  * Here, I simply removed the square by taking the square root\n",
    "\n",
    "* The test consists of a sum of $k$ terms $(O_i - E_i) / \\sqrt{E_i}$\n",
    "\n",
    "* If you have a collection of variables that are normally distributed, square their values and then adding them up yields a quantity that has a chi-square distribution\n",
    "\n",
    " * The $\\chi^2$ distribution is typically used to represent errors.\n",
    "\n",
    " * The parameter of a $\\chi^2$ is its degrees of freedom ($df$)\n"
   ]
  },
  {
   "cell_type": "code",
   "execution_count": 4,
   "id": "ac4d0e53",
   "metadata": {},
   "outputs": [
    {
     "data": {
      "text/html": [
       "<style>\n",
       ".list-inline {list-style: none; margin:0; padding: 0}\n",
       ".list-inline>li {display: inline-block}\n",
       ".list-inline>li:not(:last-child)::after {content: \"\\00b7\"; padding: 0 .5ex}\n",
       "</style>\n",
       "<ol class=list-inline><li>2.92787155992512</li><li>0.832726908115531</li><li>3.43634362014825</li><li>4.24078387782948</li><li>1.36677415850836</li></ol>\n"
      ],
      "text/latex": [
       "\\begin{enumerate*}\n",
       "\\item 2.92787155992512\n",
       "\\item 0.832726908115531\n",
       "\\item 3.43634362014825\n",
       "\\item 4.24078387782948\n",
       "\\item 1.36677415850836\n",
       "\\end{enumerate*}\n"
      ],
      "text/markdown": [
       "1. 2.92787155992512\n",
       "2. 0.832726908115531\n",
       "3. 3.43634362014825\n",
       "4. 4.24078387782948\n",
       "5. 1.36677415850836\n",
       "\n",
       "\n"
      ],
      "text/plain": [
       "[1] 2.9278716 0.8327269 3.4363436 4.2407839 1.3667742"
      ]
     },
     "metadata": {},
     "output_type": "display_data"
    }
   ],
   "source": [
    "rchisq(5, df=3)"
   ]
  },
  {
   "cell_type": "code",
   "execution_count": 16,
   "id": "050dab3d",
   "metadata": {},
   "outputs": [
    {
     "data": {
      "text/html": [
       "<style>\n",
       ".list-inline {list-style: none; margin:0; padding: 0}\n",
       ".list-inline>li {display: inline-block}\n",
       ".list-inline>li:not(:last-child)::after {content: \"\\00b7\"; padding: 0 .5ex}\n",
       "</style>\n",
       "<ol class=list-inline><li>87.1802180938374</li><li>135.245079889886</li><li>99.8832449810328</li><li>101.909702580953</li><li>88.6655723505812</li></ol>\n"
      ],
      "text/latex": [
       "\\begin{enumerate*}\n",
       "\\item 87.1802180938374\n",
       "\\item 135.245079889886\n",
       "\\item 99.8832449810328\n",
       "\\item 101.909702580953\n",
       "\\item 88.6655723505812\n",
       "\\end{enumerate*}\n"
      ],
      "text/markdown": [
       "1. 87.1802180938374\n",
       "2. 135.245079889886\n",
       "3. 99.8832449810328\n",
       "4. 101.909702580953\n",
       "5. 88.6655723505812\n",
       "\n",
       "\n"
      ],
      "text/plain": [
       "[1]  87.18022 135.24508  99.88324 101.90970  88.66557"
      ]
     },
     "metadata": {},
     "output_type": "display_data"
    }
   ],
   "source": [
    "rchisq(5, df=100)"
   ]
  },
  {
   "cell_type": "code",
   "execution_count": 17,
   "id": "578999d7",
   "metadata": {},
   "outputs": [
    {
     "data": {
      "image/png": "[encoded data removed]",
      "text/plain": [
       "plot without title"
      ]
     },
     "metadata": {
      "image/png": {
       "height": 420,
       "width": 420
      }
     },
     "output_type": "display_data"
    }
   ],
   "source": [
    "x_axis = seq(0,40, 0.1)\n",
    "y_axis = dchisq(x_axis, df=10)\n",
    "\n",
    "ggplot() +\n",
    " geom_line(aes(x_axis, y_axis))"
   ]
  },
  {
   "cell_type": "markdown",
   "id": "e6582d55",
   "metadata": {},
   "source": [
    "### Degrees of Freedom of the $\\chi^2$\n",
    "\n",
    "* If you have a collection of variables that are normally distributed, square their values and then add them up yields a quantity that has a chi-square distribution\n",
    "\n",
    "  * If the number of items you're adding up is $k$, then the degrees of freedom for the resulting chi-square distribution is $k-1$\n",
    "\n",
    "* What matters here is the number of independent items we're adding up.\n",
    "\n",
    "  * Here, only k-1 categories are independent, since with k-1 categories we can infer the value of the last category\n",
    "\n",
    "    * The “degrees of freedom” is actually a bit of a messy concept and the above is an oversimplification since degrees of freedom may not even be a whole number.\n",
    "\n"
   ]
  },
  {
   "cell_type": "code",
   "execution_count": 7,
   "id": "365197a5",
   "metadata": {},
   "outputs": [
    {
     "data": {
      "image/png": "[encoded data removed]",
      "text/plain": [
       "plot without title"
      ]
     },
     "metadata": {
      "image/png": {
       "height": 420,
       "width": 420
      }
     },
     "output_type": "display_data"
    }
   ],
   "source": [
    "x_axis = seq(0, 20, 0.1)\n",
    "y_axis = dchisq(x_axis, df=3)\n",
    "\n",
    "ggplot() +\n",
    " geom_line(aes(x_axis, y_axis))"
   ]
  },
  {
   "cell_type": "code",
   "execution_count": 21,
   "id": "b869f076",
   "metadata": {},
   "outputs": [
    {
     "data": {
      "text/html": [
       "1"
      ],
      "text/latex": [
       "1"
      ],
      "text/markdown": [
       "1"
      ],
      "text/plain": [
       "[1] 1"
      ]
     },
     "metadata": {},
     "output_type": "display_data"
    }
   ],
   "source": []
  },
  {
   "cell_type": "markdown",
   "id": "a9f31154",
   "metadata": {},
   "source": [
    "### Cumulative desity function \n",
    "* The `pchisq`, like `pnorm` or `ppois`, returns the value of the cumulative density function (cdf) \n",
    "* Given a random variable x and some parameters (here df)\n",
    "\n",
    "\n",
    "```\n",
    "pchisq (x, df=m)\n",
    "```"
   ]
  },
  {
   "cell_type": "code",
   "execution_count": 22,
   "id": "d21828e8",
   "metadata": {},
   "outputs": [
    {
     "data": {
      "text/html": [
       "0"
      ],
      "text/latex": [
       "0"
      ],
      "text/markdown": [
       "0"
      ],
      "text/plain": [
       "[1] 0"
      ]
     },
     "metadata": {},
     "output_type": "display_data"
    }
   ],
   "source": [
    "pchisq(0, df=3)\n",
    "# same as pchisq(0, 3)"
   ]
  },
  {
   "cell_type": "code",
   "execution_count": 23,
   "id": "d8e8ebb9",
   "metadata": {},
   "outputs": [
    {
     "data": {
      "text/html": [
       "0.999830257564447"
      ],
      "text/latex": [
       "0.999830257564447"
      ],
      "text/markdown": [
       "0.999830257564447"
      ],
      "text/plain": [
       "[1] 0.9998303"
      ]
     },
     "metadata": {},
     "output_type": "display_data"
    }
   ],
   "source": [
    "pchisq(20, df=3)"
   ]
  },
  {
   "cell_type": "code",
   "execution_count": 24,
   "id": "7e8024b3",
   "metadata": {},
   "outputs": [
    {
     "data": {
      "text/html": [
       "<style>\n",
       ".list-inline {list-style: none; margin:0; padding: 0}\n",
       ".list-inline>li {display: inline-block}\n",
       ".list-inline>li:not(:last-child)::after {content: \"\\00b7\"; padding: 0 .5ex}\n",
       "</style>\n",
       "<ol class=list-inline><li>0</li><li>0.1</li><li>0.2</li><li>0.3</li><li>0.4</li><li>0.5</li><li>0.6</li><li>0.7</li><li>0.8</li><li>0.9</li><li>1</li><li>1.1</li><li>1.2</li><li>1.3</li><li>1.4</li><li>1.5</li><li>1.6</li><li>1.7</li><li>1.8</li><li>1.9</li><li>2</li><li>2.1</li><li>2.2</li><li>2.3</li><li>2.4</li><li>2.5</li><li>2.6</li><li>2.7</li><li>2.8</li><li>2.9</li><li>3</li><li>3.1</li><li>3.2</li><li>3.3</li><li>3.4</li><li>3.5</li><li>3.6</li><li>3.7</li><li>3.8</li><li>3.9</li><li>4</li><li>4.1</li><li>4.2</li><li>4.3</li><li>4.4</li><li>4.5</li><li>4.6</li><li>4.7</li><li>4.8</li><li>4.9</li><li>5</li><li>5.1</li><li>5.2</li><li>5.3</li><li>5.4</li><li>5.5</li><li>5.6</li><li>5.7</li><li>5.8</li><li>5.9</li><li>6</li><li>6.1</li><li>6.2</li><li>6.3</li><li>6.4</li><li>6.5</li><li>6.6</li><li>6.7</li><li>6.8</li><li>6.9</li><li>7</li><li>7.1</li><li>7.2</li><li>7.3</li><li>7.4</li><li>7.5</li><li>7.6</li><li>7.7</li><li>7.8</li><li>7.9</li><li>8</li><li>8.1</li><li>8.2</li><li>8.3</li><li>8.4</li><li>8.5</li><li>8.6</li><li>8.7</li><li>8.8</li><li>8.9</li><li>9</li><li>9.1</li><li>9.2</li><li>9.3</li><li>9.4</li><li>9.5</li><li>9.6</li><li>9.7</li><li>9.8</li><li>9.9</li><li>10</li><li>10.1</li><li>10.2</li><li>10.3</li><li>10.4</li><li>10.5</li><li>10.6</li><li>10.7</li><li>10.8</li><li>10.9</li><li>11</li><li>11.1</li><li>11.2</li><li>11.3</li><li>11.4</li><li>11.5</li><li>11.6</li><li>11.7</li><li>11.8</li><li>11.9</li><li>12</li><li>12.1</li><li>12.2</li><li>12.3</li><li>12.4</li><li>12.5</li><li>12.6</li><li>12.7</li><li>12.8</li><li>12.9</li><li>13</li><li>13.1</li><li>13.2</li><li>13.3</li><li>13.4</li><li>13.5</li><li>13.6</li><li>13.7</li><li>13.8</li><li>13.9</li><li>14</li><li>14.1</li><li>14.2</li><li>14.3</li><li>14.4</li><li>14.5</li><li>14.6</li><li>14.7</li><li>14.8</li><li>14.9</li><li>15</li><li>15.1</li><li>15.2</li><li>15.3</li><li>15.4</li><li>15.5</li><li>15.6</li><li>15.7</li><li>15.8</li><li>15.9</li><li>16</li><li>16.1</li><li>16.2</li><li>16.3</li><li>16.4</li><li>16.5</li><li>16.6</li><li>16.7</li><li>16.8</li><li>16.9</li><li>17</li><li>17.1</li><li>17.2</li><li>17.3</li><li>17.4</li><li>17.5</li><li>17.6</li><li>17.7</li><li>17.8</li><li>17.9</li><li>18</li><li>18.1</li><li>18.2</li><li>18.3</li><li>18.4</li><li>18.5</li><li>18.6</li><li>18.7</li><li>18.8</li><li>18.9</li><li>19</li><li>19.1</li><li>19.2</li><li>19.3</li><li>19.4</li><li>19.5</li><li>19.6</li><li>19.7</li><li>19.8</li><li>19.9</li><li>20</li></ol>\n"
      ],
      "text/latex": [
       "\\begin{enumerate*}\n",
       "\\item 0\n",
       "\\item 0.1\n",
       "\\item 0.2\n",
       "\\item 0.3\n",
       "\\item 0.4\n",
       "\\item 0.5\n",
       "\\item 0.6\n",
       "\\item 0.7\n",
       "\\item 0.8\n",
       "\\item 0.9\n",
       "\\item 1\n",
       "\\item 1.1\n",
       "\\item 1.2\n",
       "\\item 1.3\n",
       "\\item 1.4\n",
       "\\item 1.5\n",
       "\\item 1.6\n",
       "\\item 1.7\n",
       "\\item 1.8\n",
       "\\item 1.9\n",
       "\\item 2\n",
       "\\item 2.1\n",
       "\\item 2.2\n",
       "\\item 2.3\n",
       "\\item 2.4\n",
       "\\item 2.5\n",
       "\\item 2.6\n",
       "\\item 2.7\n",
       "\\item 2.8\n",
       "\\item 2.9\n",
       "\\item 3\n",
       "\\item 3.1\n",
       "\\item 3.2\n",
       "\\item 3.3\n",
       "\\item 3.4\n",
       "\\item 3.5\n",
       "\\item 3.6\n",
       "\\item 3.7\n",
       "\\item 3.8\n",
       "\\item 3.9\n",
       "\\item 4\n",
       "\\item 4.1\n",
       "\\item 4.2\n",
       "\\item 4.3\n",
       "\\item 4.4\n",
       "\\item 4.5\n",
       "\\item 4.6\n",
       "\\item 4.7\n",
       "\\item 4.8\n",
       "\\item 4.9\n",
       "\\item 5\n",
       "\\item 5.1\n",
       "\\item 5.2\n",
       "\\item 5.3\n",
       "\\item 5.4\n",
       "\\item 5.5\n",
       "\\item 5.6\n",
       "\\item 5.7\n",
       "\\item 5.8\n",
       "\\item 5.9\n",
       "\\item 6\n",
       "\\item 6.1\n",
       "\\item 6.2\n",
       "\\item 6.3\n",
       "\\item 6.4\n",
       "\\item 6.5\n",
       "\\item 6.6\n",
       "\\item 6.7\n",
       "\\item 6.8\n",
       "\\item 6.9\n",
       "\\item 7\n",
       "\\item 7.1\n",
       "\\item 7.2\n",
       "\\item 7.3\n",
       "\\item 7.4\n",
       "\\item 7.5\n",
       "\\item 7.6\n",
       "\\item 7.7\n",
       "\\item 7.8\n",
       "\\item 7.9\n",
       "\\item 8\n",
       "\\item 8.1\n",
       "\\item 8.2\n",
       "\\item 8.3\n",
       "\\item 8.4\n",
       "\\item 8.5\n",
       "\\item 8.6\n",
       "\\item 8.7\n",
       "\\item 8.8\n",
       "\\item 8.9\n",
       "\\item 9\n",
       "\\item 9.1\n",
       "\\item 9.2\n",
       "\\item 9.3\n",
       "\\item 9.4\n",
       "\\item 9.5\n",
       "\\item 9.6\n",
       "\\item 9.7\n",
       "\\item 9.8\n",
       "\\item 9.9\n",
       "\\item 10\n",
       "\\item 10.1\n",
       "\\item 10.2\n",
       "\\item 10.3\n",
       "\\item 10.4\n",
       "\\item 10.5\n",
       "\\item 10.6\n",
       "\\item 10.7\n",
       "\\item 10.8\n",
       "\\item 10.9\n",
       "\\item 11\n",
       "\\item 11.1\n",
       "\\item 11.2\n",
       "\\item 11.3\n",
       "\\item 11.4\n",
       "\\item 11.5\n",
       "\\item 11.6\n",
       "\\item 11.7\n",
       "\\item 11.8\n",
       "\\item 11.9\n",
       "\\item 12\n",
       "\\item 12.1\n",
       "\\item 12.2\n",
       "\\item 12.3\n",
       "\\item 12.4\n",
       "\\item 12.5\n",
       "\\item 12.6\n",
       "\\item 12.7\n",
       "\\item 12.8\n",
       "\\item 12.9\n",
       "\\item 13\n",
       "\\item 13.1\n",
       "\\item 13.2\n",
       "\\item 13.3\n",
       "\\item 13.4\n",
       "\\item 13.5\n",
       "\\item 13.6\n",
       "\\item 13.7\n",
       "\\item 13.8\n",
       "\\item 13.9\n",
       "\\item 14\n",
       "\\item 14.1\n",
       "\\item 14.2\n",
       "\\item 14.3\n",
       "\\item 14.4\n",
       "\\item 14.5\n",
       "\\item 14.6\n",
       "\\item 14.7\n",
       "\\item 14.8\n",
       "\\item 14.9\n",
       "\\item 15\n",
       "\\item 15.1\n",
       "\\item 15.2\n",
       "\\item 15.3\n",
       "\\item 15.4\n",
       "\\item 15.5\n",
       "\\item 15.6\n",
       "\\item 15.7\n",
       "\\item 15.8\n",
       "\\item 15.9\n",
       "\\item 16\n",
       "\\item 16.1\n",
       "\\item 16.2\n",
       "\\item 16.3\n",
       "\\item 16.4\n",
       "\\item 16.5\n",
       "\\item 16.6\n",
       "\\item 16.7\n",
       "\\item 16.8\n",
       "\\item 16.9\n",
       "\\item 17\n",
       "\\item 17.1\n",
       "\\item 17.2\n",
       "\\item 17.3\n",
       "\\item 17.4\n",
       "\\item 17.5\n",
       "\\item 17.6\n",
       "\\item 17.7\n",
       "\\item 17.8\n",
       "\\item 17.9\n",
       "\\item 18\n",
       "\\item 18.1\n",
       "\\item 18.2\n",
       "\\item 18.3\n",
       "\\item 18.4\n",
       "\\item 18.5\n",
       "\\item 18.6\n",
       "\\item 18.7\n",
       "\\item 18.8\n",
       "\\item 18.9\n",
       "\\item 19\n",
       "\\item 19.1\n",
       "\\item 19.2\n",
       "\\item 19.3\n",
       "\\item 19.4\n",
       "\\item 19.5\n",
       "\\item 19.6\n",
       "\\item 19.7\n",
       "\\item 19.8\n",
       "\\item 19.9\n",
       "\\item 20\n",
       "\\end{enumerate*}\n"
      ],
      "text/markdown": [
       "1. 0\n",
       "2. 0.1\n",
       "3. 0.2\n",
       "4. 0.3\n",
       "5. 0.4\n",
       "6. 0.5\n",
       "7. 0.6\n",
       "8. 0.7\n",
       "9. 0.8\n",
       "10. 0.9\n",
       "11. 1\n",
       "12. 1.1\n",
       "13. 1.2\n",
       "14. 1.3\n",
       "15. 1.4\n",
       "16. 1.5\n",
       "17. 1.6\n",
       "18. 1.7\n",
       "19. 1.8\n",
       "20. 1.9\n",
       "21. 2\n",
       "22. 2.1\n",
       "23. 2.2\n",
       "24. 2.3\n",
       "25. 2.4\n",
       "26. 2.5\n",
       "27. 2.6\n",
       "28. 2.7\n",
       "29. 2.8\n",
       "30. 2.9\n",
       "31. 3\n",
       "32. 3.1\n",
       "33. 3.2\n",
       "34. 3.3\n",
       "35. 3.4\n",
       "36. 3.5\n",
       "37. 3.6\n",
       "38. 3.7\n",
       "39. 3.8\n",
       "40. 3.9\n",
       "41. 4\n",
       "42. 4.1\n",
       "43. 4.2\n",
       "44. 4.3\n",
       "45. 4.4\n",
       "46. 4.5\n",
       "47. 4.6\n",
       "48. 4.7\n",
       "49. 4.8\n",
       "50. 4.9\n",
       "51. 5\n",
       "52. 5.1\n",
       "53. 5.2\n",
       "54. 5.3\n",
       "55. 5.4\n",
       "56. 5.5\n",
       "57. 5.6\n",
       "58. 5.7\n",
       "59. 5.8\n",
       "60. 5.9\n",
       "61. 6\n",
       "62. 6.1\n",
       "63. 6.2\n",
       "64. 6.3\n",
       "65. 6.4\n",
       "66. 6.5\n",
       "67. 6.6\n",
       "68. 6.7\n",
       "69. 6.8\n",
       "70. 6.9\n",
       "71. 7\n",
       "72. 7.1\n",
       "73. 7.2\n",
       "74. 7.3\n",
       "75. 7.4\n",
       "76. 7.5\n",
       "77. 7.6\n",
       "78. 7.7\n",
       "79. 7.8\n",
       "80. 7.9\n",
       "81. 8\n",
       "82. 8.1\n",
       "83. 8.2\n",
       "84. 8.3\n",
       "85. 8.4\n",
       "86. 8.5\n",
       "87. 8.6\n",
       "88. 8.7\n",
       "89. 8.8\n",
       "90. 8.9\n",
       "91. 9\n",
       "92. 9.1\n",
       "93. 9.2\n",
       "94. 9.3\n",
       "95. 9.4\n",
       "96. 9.5\n",
       "97. 9.6\n",
       "98. 9.7\n",
       "99. 9.8\n",
       "100. 9.9\n",
       "101. 10\n",
       "102. 10.1\n",
       "103. 10.2\n",
       "104. 10.3\n",
       "105. 10.4\n",
       "106. 10.5\n",
       "107. 10.6\n",
       "108. 10.7\n",
       "109. 10.8\n",
       "110. 10.9\n",
       "111. 11\n",
       "112. 11.1\n",
       "113. 11.2\n",
       "114. 11.3\n",
       "115. 11.4\n",
       "116. 11.5\n",
       "117. 11.6\n",
       "118. 11.7\n",
       "119. 11.8\n",
       "120. 11.9\n",
       "121. 12\n",
       "122. 12.1\n",
       "123. 12.2\n",
       "124. 12.3\n",
       "125. 12.4\n",
       "126. 12.5\n",
       "127. 12.6\n",
       "128. 12.7\n",
       "129. 12.8\n",
       "130. 12.9\n",
       "131. 13\n",
       "132. 13.1\n",
       "133. 13.2\n",
       "134. 13.3\n",
       "135. 13.4\n",
       "136. 13.5\n",
       "137. 13.6\n",
       "138. 13.7\n",
       "139. 13.8\n",
       "140. 13.9\n",
       "141. 14\n",
       "142. 14.1\n",
       "143. 14.2\n",
       "144. 14.3\n",
       "145. 14.4\n",
       "146. 14.5\n",
       "147. 14.6\n",
       "148. 14.7\n",
       "149. 14.8\n",
       "150. 14.9\n",
       "151. 15\n",
       "152. 15.1\n",
       "153. 15.2\n",
       "154. 15.3\n",
       "155. 15.4\n",
       "156. 15.5\n",
       "157. 15.6\n",
       "158. 15.7\n",
       "159. 15.8\n",
       "160. 15.9\n",
       "161. 16\n",
       "162. 16.1\n",
       "163. 16.2\n",
       "164. 16.3\n",
       "165. 16.4\n",
       "166. 16.5\n",
       "167. 16.6\n",
       "168. 16.7\n",
       "169. 16.8\n",
       "170. 16.9\n",
       "171. 17\n",
       "172. 17.1\n",
       "173. 17.2\n",
       "174. 17.3\n",
       "175. 17.4\n",
       "176. 17.5\n",
       "177. 17.6\n",
       "178. 17.7\n",
       "179. 17.8\n",
       "180. 17.9\n",
       "181. 18\n",
       "182. 18.1\n",
       "183. 18.2\n",
       "184. 18.3\n",
       "185. 18.4\n",
       "186. 18.5\n",
       "187. 18.6\n",
       "188. 18.7\n",
       "189. 18.8\n",
       "190. 18.9\n",
       "191. 19\n",
       "192. 19.1\n",
       "193. 19.2\n",
       "194. 19.3\n",
       "195. 19.4\n",
       "196. 19.5\n",
       "197. 19.6\n",
       "198. 19.7\n",
       "199. 19.8\n",
       "200. 19.9\n",
       "201. 20\n",
       "\n",
       "\n"
      ],
      "text/plain": [
       "  [1]  0.0  0.1  0.2  0.3  0.4  0.5  0.6  0.7  0.8  0.9  1.0  1.1  1.2  1.3  1.4\n",
       " [16]  1.5  1.6  1.7  1.8  1.9  2.0  2.1  2.2  2.3  2.4  2.5  2.6  2.7  2.8  2.9\n",
       " [31]  3.0  3.1  3.2  3.3  3.4  3.5  3.6  3.7  3.8  3.9  4.0  4.1  4.2  4.3  4.4\n",
       " [46]  4.5  4.6  4.7  4.8  4.9  5.0  5.1  5.2  5.3  5.4  5.5  5.6  5.7  5.8  5.9\n",
       " [61]  6.0  6.1  6.2  6.3  6.4  6.5  6.6  6.7  6.8  6.9  7.0  7.1  7.2  7.3  7.4\n",
       " [76]  7.5  7.6  7.7  7.8  7.9  8.0  8.1  8.2  8.3  8.4  8.5  8.6  8.7  8.8  8.9\n",
       " [91]  9.0  9.1  9.2  9.3  9.4  9.5  9.6  9.7  9.8  9.9 10.0 10.1 10.2 10.3 10.4\n",
       "[106] 10.5 10.6 10.7 10.8 10.9 11.0 11.1 11.2 11.3 11.4 11.5 11.6 11.7 11.8 11.9\n",
       "[121] 12.0 12.1 12.2 12.3 12.4 12.5 12.6 12.7 12.8 12.9 13.0 13.1 13.2 13.3 13.4\n",
       "[136] 13.5 13.6 13.7 13.8 13.9 14.0 14.1 14.2 14.3 14.4 14.5 14.6 14.7 14.8 14.9\n",
       "[151] 15.0 15.1 15.2 15.3 15.4 15.5 15.6 15.7 15.8 15.9 16.0 16.1 16.2 16.3 16.4\n",
       "[166] 16.5 16.6 16.7 16.8 16.9 17.0 17.1 17.2 17.3 17.4 17.5 17.6 17.7 17.8 17.9\n",
       "[181] 18.0 18.1 18.2 18.3 18.4 18.5 18.6 18.7 18.8 18.9 19.0 19.1 19.2 19.3 19.4\n",
       "[196] 19.5 19.6 19.7 19.8 19.9 20.0"
      ]
     },
     "metadata": {},
     "output_type": "display_data"
    }
   ],
   "source": [
    "x_axis"
   ]
  },
  {
   "cell_type": "code",
   "execution_count": 25,
   "id": "9ce3f725",
   "metadata": {},
   "outputs": [
    {
     "data": {
      "text/html": [
       "<style>\n",
       ".list-inline {list-style: none; margin:0; padding: 0}\n",
       ".list-inline>li {display: inline-block}\n",
       ".list-inline>li:not(:last-child)::after {content: \"\\00b7\"; padding: 0 .5ex}\n",
       "</style>\n",
       "<ol class=list-inline><li>0</li><li>0.00816257626812352</li><li>0.0224107022383506</li><li>0.0399715196931224</li><li>0.0597575051606393</li><li>0.0811085883453242</li><li>0.103567626658089</li><li>0.126796050936046</li><li>0.150532966608175</li><li>0.174572190958339</li><li>0.198748043098799</li><li>0.222925916385681</li><li>0.246995688343542</li><li>0.270866923728752</li><li>0.294465268795909</li><li>0.317729669663787</li><li>0.340610180288015</li><li>0.363066204347261</li><li>0.385065064217463</li><li>0.406580821637584</li><li>0.427593295529121</li><li>0.448087236660289</li><li>0.468051628789513</li><li>0.487479093022855</li><li>0.506365377288271</li><li>0.524708916656979</li><li>0.542510453121817</li><li>0.559772705639769</li><li>0.576500082944541</li><li>0.592698432964052</li><li>0.608374823728911</li><li>0.623537351497734</li><li>0.638194972502468</li><li>0.652357355267726</li><li>0.66603475090984</li><li>0.679237879194361</li><li>0.691977828441006</li><li>0.704265967624724</li><li>0.716113869240173</li><li>0.727533241682012</li><li>0.738535870050889</li><li>0.749133564429707</li><li>0.759338114790384</li><li>0.769161251791123</li><li>0.778614612810512</li><li>0.787709712639867</li><li>0.796457918320635</li><li>0.804870427670881</li><li>0.812958251095092</li><li>0.820732196315651</li><li>0.828202855703267</li><li>0.835380595918047</li><li>0.842275549603337</li><li>0.848897608901542</li><li>0.855256420585144</li><li>0.861361382617585</li><li>0.867221641977769</li><li>0.872846093599039</li><li>0.878243380288746</li><li>0.883421893508227</li><li>0.888389774905287</li><li>0.893154918502317</li><li>0.897724973453062</li><li>0.902107347290012</li><li>0.90630920959237</li><li>0.910337496011832</li><li>0.914198912599877</li><li>0.917899940386202</li><li>0.921446840163202</li><li>0.924845657436212</li><li>0.928102227503535</li><li>0.9312221806342</li><li>0.934210947314929</li><li>0.937073763540957</li><li>0.939815676128265</li><li>0.942441548027364</li><li>0.944956063621122</li><li>0.947363733991276</li><li>0.949668902140147</li><li>0.95187574815584</li><li>0.953988294310769</li><li>0.956010410084727</li><li>0.957945817105034</li><li>0.959798093997386</li><li>0.961570681142112</li><li>0.963266885331411</li><li>0.964889884324019</li><li>0.966442731294462</li><li>0.967928359174735</li><li>0.969349584886836</li><li>0.970709113465112</li><li>0.972009542067843</li><li>0.973253363877912</li><li>0.974442971892775</li><li>0.975580662604283</li><li>0.976668639569168</li><li>0.977709016871298</li><li>0.978703822476975</li><li>0.979655001484792</li><li>0.98056441927168</li><li>0.981433864536957</li><li>0.982265052246272</li><li>0.983059626477466</li><li>0.983819163170434</li><li>0.984545172783142</li><li>0.985239102856009</li><li>0.985902340486894</li><li>0.986536214718959</li><li>0.987141998843702</li><li>0.987720912621445</li><li>0.988274124421579</li><li>0.988802753284856</li><li>0.989307870909996</li><li>0.989790503566866</li><li>0.990251633938463</li><li>0.990692202893904</li><li>0.991113111194591</li><li>0.991515221135695</li><li>0.991899358125038</li><li>0.992266312201456</li><li>0.99261683949464</li><li>0.992951663628439</li><li>0.993271477069539</li><li>0.993576942423422</li><li>0.993868693679422</li><li>0.994147337406673</li><li>0.994413453902698</li><li>0.99466759829632</li><li>0.994910301606563</li><li>0.99514207175912</li><li>0.995363394561958</li><li>0.995574734641569</li><li>0.995776536341314</li><li>0.995969224583294</li><li>0.99615320569511</li><li>0.996328868202844</li><li>0.996496583591542</li><li>0.99665670703445</li><li>0.996809578092203</li><li>0.996955521383118</li><li>0.997094847225733</li><li>0.997227852254649</li><li>0.997354820010754</li><li>0.997476021506803</li><li>0.997591715769353</li><li>0.997702150357981</li><li>0.997807561862693</li><li>0.997908176380392</li><li>0.998004209971246</li><li>0.998095869095777</li><li>0.998183351033428</li><li>0.998266844283376</li><li>0.998346528948312</li><li>0.99842257710187</li><li>0.998495153140389</li><li>0.998564414119637</li><li>0.998630510077131</li><li>0.998693584340628</li><li>0.998753773823376</li><li>0.998811209306667</li><li>0.998866015710215</li><li>0.998918312350871</li><li>0.99896821319017</li><li>0.999015827071155</li><li>0.999061257944955</li><li>0.999104605087524</li><li>0.999145963306971</li><li>0.999185423141871</li><li>0.999223071050941</li><li>0.999258989594441</li><li>0.999293257607663</li><li>0.999325950366831</li><li>0.999357139747746</li><li>0.999386894377475</li><li>0.999415279779395</li><li>0.999442358511863</li><li>0.999468190300794</li><li>0.999492832166401</li><li>0.999516338544361</li><li>0.999538761401632</li><li>0.999560150347161</li><li>0.999580552737701</li><li>0.999600013778948</li><li>0.999618576622205</li><li>0.999636282456761</li><li>0.999653170598174</li><li>0.999669278572636</li><li>0.99968464219759</li><li>0.999699295658768</li><li>0.999713271583793</li><li>0.999726601112509</li><li>0.999739313964178</li><li>0.999751438501673</li><li>0.999763001792813</li><li>0.999774029668952</li><li>0.999784546780953</li><li>0.999794576652659</li><li>0.999804141731962</li><li>0.999813263439592</li><li>0.999821962215717</li><li>0.999830257564447</li></ol>\n"
      ],
      "text/latex": [
       "\\begin{enumerate*}\n",
       "\\item 0\n",
       "\\item 0.00816257626812352\n",
       "\\item 0.0224107022383506\n",
       "\\item 0.0399715196931224\n",
       "\\item 0.0597575051606393\n",
       "\\item 0.0811085883453242\n",
       "\\item 0.103567626658089\n",
       "\\item 0.126796050936046\n",
       "\\item 0.150532966608175\n",
       "\\item 0.174572190958339\n",
       "\\item 0.198748043098799\n",
       "\\item 0.222925916385681\n",
       "\\item 0.246995688343542\n",
       "\\item 0.270866923728752\n",
       "\\item 0.294465268795909\n",
       "\\item 0.317729669663787\n",
       "\\item 0.340610180288015\n",
       "\\item 0.363066204347261\n",
       "\\item 0.385065064217463\n",
       "\\item 0.406580821637584\n",
       "\\item 0.427593295529121\n",
       "\\item 0.448087236660289\n",
       "\\item 0.468051628789513\n",
       "\\item 0.487479093022855\n",
       "\\item 0.506365377288271\n",
       "\\item 0.524708916656979\n",
       "\\item 0.542510453121817\n",
       "\\item 0.559772705639769\n",
       "\\item 0.576500082944541\n",
       "\\item 0.592698432964052\n",
       "\\item 0.608374823728911\n",
       "\\item 0.623537351497734\n",
       "\\item 0.638194972502468\n",
       "\\item 0.652357355267726\n",
       "\\item 0.66603475090984\n",
       "\\item 0.679237879194361\n",
       "\\item 0.691977828441006\n",
       "\\item 0.704265967624724\n",
       "\\item 0.716113869240173\n",
       "\\item 0.727533241682012\n",
       "\\item 0.738535870050889\n",
       "\\item 0.749133564429707\n",
       "\\item 0.759338114790384\n",
       "\\item 0.769161251791123\n",
       "\\item 0.778614612810512\n",
       "\\item 0.787709712639867\n",
       "\\item 0.796457918320635\n",
       "\\item 0.804870427670881\n",
       "\\item 0.812958251095092\n",
       "\\item 0.820732196315651\n",
       "\\item 0.828202855703267\n",
       "\\item 0.835380595918047\n",
       "\\item 0.842275549603337\n",
       "\\item 0.848897608901542\n",
       "\\item 0.855256420585144\n",
       "\\item 0.861361382617585\n",
       "\\item 0.867221641977769\n",
       "\\item 0.872846093599039\n",
       "\\item 0.878243380288746\n",
       "\\item 0.883421893508227\n",
       "\\item 0.888389774905287\n",
       "\\item 0.893154918502317\n",
       "\\item 0.897724973453062\n",
       "\\item 0.902107347290012\n",
       "\\item 0.90630920959237\n",
       "\\item 0.910337496011832\n",
       "\\item 0.914198912599877\n",
       "\\item 0.917899940386202\n",
       "\\item 0.921446840163202\n",
       "\\item 0.924845657436212\n",
       "\\item 0.928102227503535\n",
       "\\item 0.9312221806342\n",
       "\\item 0.934210947314929\n",
       "\\item 0.937073763540957\n",
       "\\item 0.939815676128265\n",
       "\\item 0.942441548027364\n",
       "\\item 0.944956063621122\n",
       "\\item 0.947363733991276\n",
       "\\item 0.949668902140147\n",
       "\\item 0.95187574815584\n",
       "\\item 0.953988294310769\n",
       "\\item 0.956010410084727\n",
       "\\item 0.957945817105034\n",
       "\\item 0.959798093997386\n",
       "\\item 0.961570681142112\n",
       "\\item 0.963266885331411\n",
       "\\item 0.964889884324019\n",
       "\\item 0.966442731294462\n",
       "\\item 0.967928359174735\n",
       "\\item 0.969349584886836\n",
       "\\item 0.970709113465112\n",
       "\\item 0.972009542067843\n",
       "\\item 0.973253363877912\n",
       "\\item 0.974442971892775\n",
       "\\item 0.975580662604283\n",
       "\\item 0.976668639569168\n",
       "\\item 0.977709016871298\n",
       "\\item 0.978703822476975\n",
       "\\item 0.979655001484792\n",
       "\\item 0.98056441927168\n",
       "\\item 0.981433864536957\n",
       "\\item 0.982265052246272\n",
       "\\item 0.983059626477466\n",
       "\\item 0.983819163170434\n",
       "\\item 0.984545172783142\n",
       "\\item 0.985239102856009\n",
       "\\item 0.985902340486894\n",
       "\\item 0.986536214718959\n",
       "\\item 0.987141998843702\n",
       "\\item 0.987720912621445\n",
       "\\item 0.988274124421579\n",
       "\\item 0.988802753284856\n",
       "\\item 0.989307870909996\n",
       "\\item 0.989790503566866\n",
       "\\item 0.990251633938463\n",
       "\\item 0.990692202893904\n",
       "\\item 0.991113111194591\n",
       "\\item 0.991515221135695\n",
       "\\item 0.991899358125038\n",
       "\\item 0.992266312201456\n",
       "\\item 0.99261683949464\n",
       "\\item 0.992951663628439\n",
       "\\item 0.993271477069539\n",
       "\\item 0.993576942423422\n",
       "\\item 0.993868693679422\n",
       "\\item 0.994147337406673\n",
       "\\item 0.994413453902698\n",
       "\\item 0.99466759829632\n",
       "\\item 0.994910301606563\n",
       "\\item 0.99514207175912\n",
       "\\item 0.995363394561958\n",
       "\\item 0.995574734641569\n",
       "\\item 0.995776536341314\n",
       "\\item 0.995969224583294\n",
       "\\item 0.99615320569511\n",
       "\\item 0.996328868202844\n",
       "\\item 0.996496583591542\n",
       "\\item 0.99665670703445\n",
       "\\item 0.996809578092203\n",
       "\\item 0.996955521383118\n",
       "\\item 0.997094847225733\n",
       "\\item 0.997227852254649\n",
       "\\item 0.997354820010754\n",
       "\\item 0.997476021506803\n",
       "\\item 0.997591715769353\n",
       "\\item 0.997702150357981\n",
       "\\item 0.997807561862693\n",
       "\\item 0.997908176380392\n",
       "\\item 0.998004209971246\n",
       "\\item 0.998095869095777\n",
       "\\item 0.998183351033428\n",
       "\\item 0.998266844283376\n",
       "\\item 0.998346528948312\n",
       "\\item 0.99842257710187\n",
       "\\item 0.998495153140389\n",
       "\\item 0.998564414119637\n",
       "\\item 0.998630510077131\n",
       "\\item 0.998693584340628\n",
       "\\item 0.998753773823376\n",
       "\\item 0.998811209306667\n",
       "\\item 0.998866015710215\n",
       "\\item 0.998918312350871\n",
       "\\item 0.99896821319017\n",
       "\\item 0.999015827071155\n",
       "\\item 0.999061257944955\n",
       "\\item 0.999104605087524\n",
       "\\item 0.999145963306971\n",
       "\\item 0.999185423141871\n",
       "\\item 0.999223071050941\n",
       "\\item 0.999258989594441\n",
       "\\item 0.999293257607663\n",
       "\\item 0.999325950366831\n",
       "\\item 0.999357139747746\n",
       "\\item 0.999386894377475\n",
       "\\item 0.999415279779395\n",
       "\\item 0.999442358511863\n",
       "\\item 0.999468190300794\n",
       "\\item 0.999492832166401\n",
       "\\item 0.999516338544361\n",
       "\\item 0.999538761401632\n",
       "\\item 0.999560150347161\n",
       "\\item 0.999580552737701\n",
       "\\item 0.999600013778948\n",
       "\\item 0.999618576622205\n",
       "\\item 0.999636282456761\n",
       "\\item 0.999653170598174\n",
       "\\item 0.999669278572636\n",
       "\\item 0.99968464219759\n",
       "\\item 0.999699295658768\n",
       "\\item 0.999713271583793\n",
       "\\item 0.999726601112509\n",
       "\\item 0.999739313964178\n",
       "\\item 0.999751438501673\n",
       "\\item 0.999763001792813\n",
       "\\item 0.999774029668952\n",
       "\\item 0.999784546780953\n",
       "\\item 0.999794576652659\n",
       "\\item 0.999804141731962\n",
       "\\item 0.999813263439592\n",
       "\\item 0.999821962215717\n",
       "\\item 0.999830257564447\n",
       "\\end{enumerate*}\n"
      ],
      "text/markdown": [
       "1. 0\n",
       "2. 0.00816257626812352\n",
       "3. 0.0224107022383506\n",
       "4. 0.0399715196931224\n",
       "5. 0.0597575051606393\n",
       "6. 0.0811085883453242\n",
       "7. 0.103567626658089\n",
       "8. 0.126796050936046\n",
       "9. 0.150532966608175\n",
       "10. 0.174572190958339\n",
       "11. 0.198748043098799\n",
       "12. 0.222925916385681\n",
       "13. 0.246995688343542\n",
       "14. 0.270866923728752\n",
       "15. 0.294465268795909\n",
       "16. 0.317729669663787\n",
       "17. 0.340610180288015\n",
       "18. 0.363066204347261\n",
       "19. 0.385065064217463\n",
       "20. 0.406580821637584\n",
       "21. 0.427593295529121\n",
       "22. 0.448087236660289\n",
       "23. 0.468051628789513\n",
       "24. 0.487479093022855\n",
       "25. 0.506365377288271\n",
       "26. 0.524708916656979\n",
       "27. 0.542510453121817\n",
       "28. 0.559772705639769\n",
       "29. 0.576500082944541\n",
       "30. 0.592698432964052\n",
       "31. 0.608374823728911\n",
       "32. 0.623537351497734\n",
       "33. 0.638194972502468\n",
       "34. 0.652357355267726\n",
       "35. 0.66603475090984\n",
       "36. 0.679237879194361\n",
       "37. 0.691977828441006\n",
       "38. 0.704265967624724\n",
       "39. 0.716113869240173\n",
       "40. 0.727533241682012\n",
       "41. 0.738535870050889\n",
       "42. 0.749133564429707\n",
       "43. 0.759338114790384\n",
       "44. 0.769161251791123\n",
       "45. 0.778614612810512\n",
       "46. 0.787709712639867\n",
       "47. 0.796457918320635\n",
       "48. 0.804870427670881\n",
       "49. 0.812958251095092\n",
       "50. 0.820732196315651\n",
       "51. 0.828202855703267\n",
       "52. 0.835380595918047\n",
       "53. 0.842275549603337\n",
       "54. 0.848897608901542\n",
       "55. 0.855256420585144\n",
       "56. 0.861361382617585\n",
       "57. 0.867221641977769\n",
       "58. 0.872846093599039\n",
       "59. 0.878243380288746\n",
       "60. 0.883421893508227\n",
       "61. 0.888389774905287\n",
       "62. 0.893154918502317\n",
       "63. 0.897724973453062\n",
       "64. 0.902107347290012\n",
       "65. 0.90630920959237\n",
       "66. 0.910337496011832\n",
       "67. 0.914198912599877\n",
       "68. 0.917899940386202\n",
       "69. 0.921446840163202\n",
       "70. 0.924845657436212\n",
       "71. 0.928102227503535\n",
       "72. 0.9312221806342\n",
       "73. 0.934210947314929\n",
       "74. 0.937073763540957\n",
       "75. 0.939815676128265\n",
       "76. 0.942441548027364\n",
       "77. 0.944956063621122\n",
       "78. 0.947363733991276\n",
       "79. 0.949668902140147\n",
       "80. 0.95187574815584\n",
       "81. 0.953988294310769\n",
       "82. 0.956010410084727\n",
       "83. 0.957945817105034\n",
       "84. 0.959798093997386\n",
       "85. 0.961570681142112\n",
       "86. 0.963266885331411\n",
       "87. 0.964889884324019\n",
       "88. 0.966442731294462\n",
       "89. 0.967928359174735\n",
       "90. 0.969349584886836\n",
       "91. 0.970709113465112\n",
       "92. 0.972009542067843\n",
       "93. 0.973253363877912\n",
       "94. 0.974442971892775\n",
       "95. 0.975580662604283\n",
       "96. 0.976668639569168\n",
       "97. 0.977709016871298\n",
       "98. 0.978703822476975\n",
       "99. 0.979655001484792\n",
       "100. 0.98056441927168\n",
       "101. 0.981433864536957\n",
       "102. 0.982265052246272\n",
       "103. 0.983059626477466\n",
       "104. 0.983819163170434\n",
       "105. 0.984545172783142\n",
       "106. 0.985239102856009\n",
       "107. 0.985902340486894\n",
       "108. 0.986536214718959\n",
       "109. 0.987141998843702\n",
       "110. 0.987720912621445\n",
       "111. 0.988274124421579\n",
       "112. 0.988802753284856\n",
       "113. 0.989307870909996\n",
       "114. 0.989790503566866\n",
       "115. 0.990251633938463\n",
       "116. 0.990692202893904\n",
       "117. 0.991113111194591\n",
       "118. 0.991515221135695\n",
       "119. 0.991899358125038\n",
       "120. 0.992266312201456\n",
       "121. 0.99261683949464\n",
       "122. 0.992951663628439\n",
       "123. 0.993271477069539\n",
       "124. 0.993576942423422\n",
       "125. 0.993868693679422\n",
       "126. 0.994147337406673\n",
       "127. 0.994413453902698\n",
       "128. 0.99466759829632\n",
       "129. 0.994910301606563\n",
       "130. 0.99514207175912\n",
       "131. 0.995363394561958\n",
       "132. 0.995574734641569\n",
       "133. 0.995776536341314\n",
       "134. 0.995969224583294\n",
       "135. 0.99615320569511\n",
       "136. 0.996328868202844\n",
       "137. 0.996496583591542\n",
       "138. 0.99665670703445\n",
       "139. 0.996809578092203\n",
       "140. 0.996955521383118\n",
       "141. 0.997094847225733\n",
       "142. 0.997227852254649\n",
       "143. 0.997354820010754\n",
       "144. 0.997476021506803\n",
       "145. 0.997591715769353\n",
       "146. 0.997702150357981\n",
       "147. 0.997807561862693\n",
       "148. 0.997908176380392\n",
       "149. 0.998004209971246\n",
       "150. 0.998095869095777\n",
       "151. 0.998183351033428\n",
       "152. 0.998266844283376\n",
       "153. 0.998346528948312\n",
       "154. 0.99842257710187\n",
       "155. 0.998495153140389\n",
       "156. 0.998564414119637\n",
       "157. 0.998630510077131\n",
       "158. 0.998693584340628\n",
       "159. 0.998753773823376\n",
       "160. 0.998811209306667\n",
       "161. 0.998866015710215\n",
       "162. 0.998918312350871\n",
       "163. 0.99896821319017\n",
       "164. 0.999015827071155\n",
       "165. 0.999061257944955\n",
       "166. 0.999104605087524\n",
       "167. 0.999145963306971\n",
       "168. 0.999185423141871\n",
       "169. 0.999223071050941\n",
       "170. 0.999258989594441\n",
       "171. 0.999293257607663\n",
       "172. 0.999325950366831\n",
       "173. 0.999357139747746\n",
       "174. 0.999386894377475\n",
       "175. 0.999415279779395\n",
       "176. 0.999442358511863\n",
       "177. 0.999468190300794\n",
       "178. 0.999492832166401\n",
       "179. 0.999516338544361\n",
       "180. 0.999538761401632\n",
       "181. 0.999560150347161\n",
       "182. 0.999580552737701\n",
       "183. 0.999600013778948\n",
       "184. 0.999618576622205\n",
       "185. 0.999636282456761\n",
       "186. 0.999653170598174\n",
       "187. 0.999669278572636\n",
       "188. 0.99968464219759\n",
       "189. 0.999699295658768\n",
       "190. 0.999713271583793\n",
       "191. 0.999726601112509\n",
       "192. 0.999739313964178\n",
       "193. 0.999751438501673\n",
       "194. 0.999763001792813\n",
       "195. 0.999774029668952\n",
       "196. 0.999784546780953\n",
       "197. 0.999794576652659\n",
       "198. 0.999804141731962\n",
       "199. 0.999813263439592\n",
       "200. 0.999821962215717\n",
       "201. 0.999830257564447\n",
       "\n",
       "\n"
      ],
      "text/plain": [
       "  [1] 0.000000000 0.008162576 0.022410702 0.039971520 0.059757505 0.081108588\n",
       "  [7] 0.103567627 0.126796051 0.150532967 0.174572191 0.198748043 0.222925916\n",
       " [13] 0.246995688 0.270866924 0.294465269 0.317729670 0.340610180 0.363066204\n",
       " [19] 0.385065064 0.406580822 0.427593296 0.448087237 0.468051629 0.487479093\n",
       " [25] 0.506365377 0.524708917 0.542510453 0.559772706 0.576500083 0.592698433\n",
       " [31] 0.608374824 0.623537351 0.638194973 0.652357355 0.666034751 0.679237879\n",
       " [37] 0.691977828 0.704265968 0.716113869 0.727533242 0.738535870 0.749133564\n",
       " [43] 0.759338115 0.769161252 0.778614613 0.787709713 0.796457918 0.804870428\n",
       " [49] 0.812958251 0.820732196 0.828202856 0.835380596 0.842275550 0.848897609\n",
       " [55] 0.855256421 0.861361383 0.867221642 0.872846094 0.878243380 0.883421894\n",
       " [61] 0.888389775 0.893154919 0.897724973 0.902107347 0.906309210 0.910337496\n",
       " [67] 0.914198913 0.917899940 0.921446840 0.924845657 0.928102228 0.931222181\n",
       " [73] 0.934210947 0.937073764 0.939815676 0.942441548 0.944956064 0.947363734\n",
       " [79] 0.949668902 0.951875748 0.953988294 0.956010410 0.957945817 0.959798094\n",
       " [85] 0.961570681 0.963266885 0.964889884 0.966442731 0.967928359 0.969349585\n",
       " [91] 0.970709113 0.972009542 0.973253364 0.974442972 0.975580663 0.976668640\n",
       " [97] 0.977709017 0.978703822 0.979655001 0.980564419 0.981433865 0.982265052\n",
       "[103] 0.983059626 0.983819163 0.984545173 0.985239103 0.985902340 0.986536215\n",
       "[109] 0.987141999 0.987720913 0.988274124 0.988802753 0.989307871 0.989790504\n",
       "[115] 0.990251634 0.990692203 0.991113111 0.991515221 0.991899358 0.992266312\n",
       "[121] 0.992616839 0.992951664 0.993271477 0.993576942 0.993868694 0.994147337\n",
       "[127] 0.994413454 0.994667598 0.994910302 0.995142072 0.995363395 0.995574735\n",
       "[133] 0.995776536 0.995969225 0.996153206 0.996328868 0.996496584 0.996656707\n",
       "[139] 0.996809578 0.996955521 0.997094847 0.997227852 0.997354820 0.997476022\n",
       "[145] 0.997591716 0.997702150 0.997807562 0.997908176 0.998004210 0.998095869\n",
       "[151] 0.998183351 0.998266844 0.998346529 0.998422577 0.998495153 0.998564414\n",
       "[157] 0.998630510 0.998693584 0.998753774 0.998811209 0.998866016 0.998918312\n",
       "[163] 0.998968213 0.999015827 0.999061258 0.999104605 0.999145963 0.999185423\n",
       "[169] 0.999223071 0.999258990 0.999293258 0.999325950 0.999357140 0.999386894\n",
       "[175] 0.999415280 0.999442359 0.999468190 0.999492832 0.999516339 0.999538761\n",
       "[181] 0.999560150 0.999580553 0.999600014 0.999618577 0.999636282 0.999653171\n",
       "[187] 0.999669279 0.999684642 0.999699296 0.999713272 0.999726601 0.999739314\n",
       "[193] 0.999751439 0.999763002 0.999774030 0.999784547 0.999794577 0.999804142\n",
       "[199] 0.999813263 0.999821962 0.999830258"
      ]
     },
     "metadata": {},
     "output_type": "display_data"
    }
   ],
   "source": [
    "probs = pchisq(x_axis, 3)\n",
    "probs"
   ]
  },
  {
   "cell_type": "code",
   "execution_count": 78,
   "id": "1843901f",
   "metadata": {},
   "outputs": [
    {
     "data": {
      "text/html": [
       "<style>\n",
       ".list-inline {list-style: none; margin:0; padding: 0}\n",
       ".list-inline>li {display: inline-block}\n",
       ".list-inline>li:not(:last-child)::after {content: \"\\00b7\"; padding: 0 .5ex}\n",
       "</style>\n",
       "<ol class=list-inline><li>80</li><li>81</li><li>82</li><li>83</li><li>84</li><li>85</li><li>86</li><li>87</li><li>88</li><li>89</li><li>90</li><li>91</li><li>92</li><li>93</li><li>94</li><li>95</li><li>96</li><li>97</li><li>98</li><li>99</li><li>100</li><li>101</li><li>102</li><li>103</li><li>104</li><li>105</li><li>106</li><li>107</li><li>108</li><li>109</li><li>110</li><li>111</li><li>112</li><li>113</li><li>114</li><li>115</li><li>116</li><li>117</li><li>118</li><li>119</li><li>120</li><li>121</li><li>122</li><li>123</li><li>124</li><li>125</li><li>126</li><li>127</li><li>128</li><li>129</li><li>130</li><li>131</li><li>132</li><li>133</li><li>134</li><li>135</li><li>136</li><li>137</li><li>138</li><li>139</li><li>140</li><li>141</li><li>142</li><li>143</li><li>144</li><li>145</li><li>146</li><li>147</li><li>148</li><li>149</li><li>150</li><li>151</li><li>152</li><li>153</li><li>154</li><li>155</li><li>156</li><li>157</li><li>158</li><li>159</li><li>160</li><li>161</li><li>162</li><li>163</li><li>164</li><li>165</li><li>166</li><li>167</li><li>168</li><li>169</li><li>170</li><li>171</li><li>172</li><li>173</li><li>174</li><li>175</li><li>176</li><li>177</li><li>178</li><li>179</li><li>180</li><li>181</li><li>182</li><li>183</li><li>184</li><li>185</li><li>186</li><li>187</li><li>188</li><li>189</li><li>190</li><li>191</li><li>192</li><li>193</li><li>194</li><li>195</li><li>196</li><li>197</li><li>198</li><li>199</li><li>200</li><li>201</li></ol>\n"
      ],
      "text/latex": [
       "\\begin{enumerate*}\n",
       "\\item 80\n",
       "\\item 81\n",
       "\\item 82\n",
       "\\item 83\n",
       "\\item 84\n",
       "\\item 85\n",
       "\\item 86\n",
       "\\item 87\n",
       "\\item 88\n",
       "\\item 89\n",
       "\\item 90\n",
       "\\item 91\n",
       "\\item 92\n",
       "\\item 93\n",
       "\\item 94\n",
       "\\item 95\n",
       "\\item 96\n",
       "\\item 97\n",
       "\\item 98\n",
       "\\item 99\n",
       "\\item 100\n",
       "\\item 101\n",
       "\\item 102\n",
       "\\item 103\n",
       "\\item 104\n",
       "\\item 105\n",
       "\\item 106\n",
       "\\item 107\n",
       "\\item 108\n",
       "\\item 109\n",
       "\\item 110\n",
       "\\item 111\n",
       "\\item 112\n",
       "\\item 113\n",
       "\\item 114\n",
       "\\item 115\n",
       "\\item 116\n",
       "\\item 117\n",
       "\\item 118\n",
       "\\item 119\n",
       "\\item 120\n",
       "\\item 121\n",
       "\\item 122\n",
       "\\item 123\n",
       "\\item 124\n",
       "\\item 125\n",
       "\\item 126\n",
       "\\item 127\n",
       "\\item 128\n",
       "\\item 129\n",
       "\\item 130\n",
       "\\item 131\n",
       "\\item 132\n",
       "\\item 133\n",
       "\\item 134\n",
       "\\item 135\n",
       "\\item 136\n",
       "\\item 137\n",
       "\\item 138\n",
       "\\item 139\n",
       "\\item 140\n",
       "\\item 141\n",
       "\\item 142\n",
       "\\item 143\n",
       "\\item 144\n",
       "\\item 145\n",
       "\\item 146\n",
       "\\item 147\n",
       "\\item 148\n",
       "\\item 149\n",
       "\\item 150\n",
       "\\item 151\n",
       "\\item 152\n",
       "\\item 153\n",
       "\\item 154\n",
       "\\item 155\n",
       "\\item 156\n",
       "\\item 157\n",
       "\\item 158\n",
       "\\item 159\n",
       "\\item 160\n",
       "\\item 161\n",
       "\\item 162\n",
       "\\item 163\n",
       "\\item 164\n",
       "\\item 165\n",
       "\\item 166\n",
       "\\item 167\n",
       "\\item 168\n",
       "\\item 169\n",
       "\\item 170\n",
       "\\item 171\n",
       "\\item 172\n",
       "\\item 173\n",
       "\\item 174\n",
       "\\item 175\n",
       "\\item 176\n",
       "\\item 177\n",
       "\\item 178\n",
       "\\item 179\n",
       "\\item 180\n",
       "\\item 181\n",
       "\\item 182\n",
       "\\item 183\n",
       "\\item 184\n",
       "\\item 185\n",
       "\\item 186\n",
       "\\item 187\n",
       "\\item 188\n",
       "\\item 189\n",
       "\\item 190\n",
       "\\item 191\n",
       "\\item 192\n",
       "\\item 193\n",
       "\\item 194\n",
       "\\item 195\n",
       "\\item 196\n",
       "\\item 197\n",
       "\\item 198\n",
       "\\item 199\n",
       "\\item 200\n",
       "\\item 201\n",
       "\\end{enumerate*}\n"
      ],
      "text/markdown": [
       "1. 80\n",
       "2. 81\n",
       "3. 82\n",
       "4. 83\n",
       "5. 84\n",
       "6. 85\n",
       "7. 86\n",
       "8. 87\n",
       "9. 88\n",
       "10. 89\n",
       "11. 90\n",
       "12. 91\n",
       "13. 92\n",
       "14. 93\n",
       "15. 94\n",
       "16. 95\n",
       "17. 96\n",
       "18. 97\n",
       "19. 98\n",
       "20. 99\n",
       "21. 100\n",
       "22. 101\n",
       "23. 102\n",
       "24. 103\n",
       "25. 104\n",
       "26. 105\n",
       "27. 106\n",
       "28. 107\n",
       "29. 108\n",
       "30. 109\n",
       "31. 110\n",
       "32. 111\n",
       "33. 112\n",
       "34. 113\n",
       "35. 114\n",
       "36. 115\n",
       "37. 116\n",
       "38. 117\n",
       "39. 118\n",
       "40. 119\n",
       "41. 120\n",
       "42. 121\n",
       "43. 122\n",
       "44. 123\n",
       "45. 124\n",
       "46. 125\n",
       "47. 126\n",
       "48. 127\n",
       "49. 128\n",
       "50. 129\n",
       "51. 130\n",
       "52. 131\n",
       "53. 132\n",
       "54. 133\n",
       "55. 134\n",
       "56. 135\n",
       "57. 136\n",
       "58. 137\n",
       "59. 138\n",
       "60. 139\n",
       "61. 140\n",
       "62. 141\n",
       "63. 142\n",
       "64. 143\n",
       "65. 144\n",
       "66. 145\n",
       "67. 146\n",
       "68. 147\n",
       "69. 148\n",
       "70. 149\n",
       "71. 150\n",
       "72. 151\n",
       "73. 152\n",
       "74. 153\n",
       "75. 154\n",
       "76. 155\n",
       "77. 156\n",
       "78. 157\n",
       "79. 158\n",
       "80. 159\n",
       "81. 160\n",
       "82. 161\n",
       "83. 162\n",
       "84. 163\n",
       "85. 164\n",
       "86. 165\n",
       "87. 166\n",
       "88. 167\n",
       "89. 168\n",
       "90. 169\n",
       "91. 170\n",
       "92. 171\n",
       "93. 172\n",
       "94. 173\n",
       "95. 174\n",
       "96. 175\n",
       "97. 176\n",
       "98. 177\n",
       "99. 178\n",
       "100. 179\n",
       "101. 180\n",
       "102. 181\n",
       "103. 182\n",
       "104. 183\n",
       "105. 184\n",
       "106. 185\n",
       "107. 186\n",
       "108. 187\n",
       "109. 188\n",
       "110. 189\n",
       "111. 190\n",
       "112. 191\n",
       "113. 192\n",
       "114. 193\n",
       "115. 194\n",
       "116. 195\n",
       "117. 196\n",
       "118. 197\n",
       "119. 198\n",
       "120. 199\n",
       "121. 200\n",
       "122. 201\n",
       "\n",
       "\n"
      ],
      "text/plain": [
       "  [1]  80  81  82  83  84  85  86  87  88  89  90  91  92  93  94  95  96  97\n",
       " [19]  98  99 100 101 102 103 104 105 106 107 108 109 110 111 112 113 114 115\n",
       " [37] 116 117 118 119 120 121 122 123 124 125 126 127 128 129 130 131 132 133\n",
       " [55] 134 135 136 137 138 139 140 141 142 143 144 145 146 147 148 149 150 151\n",
       " [73] 152 153 154 155 156 157 158 159 160 161 162 163 164 165 166 167 168 169\n",
       " [91] 170 171 172 173 174 175 176 177 178 179 180 181 182 183 184 185 186 187\n",
       "[109] 188 189 190 191 192 193 194 195 196 197 198 199 200 201"
      ]
     },
     "metadata": {},
     "output_type": "display_data"
    }
   ],
   "source": [
    "which(probs > 0.95)"
   ]
  },
  {
   "cell_type": "code",
   "execution_count": 81,
   "id": "0bfb3b04",
   "metadata": {},
   "outputs": [
    {
     "data": {
      "text/html": [
       "80"
      ],
      "text/latex": [
       "80"
      ],
      "text/markdown": [
       "80"
      ],
      "text/plain": [
       "[1] 80"
      ]
     },
     "metadata": {},
     "output_type": "display_data"
    }
   ],
   "source": [
    "index = which(probs > 0.95)[1]\n",
    "index"
   ]
  },
  {
   "cell_type": "code",
   "execution_count": 84,
   "id": "a9dc2e73",
   "metadata": {
    "scrolled": true
   },
   "outputs": [
    {
     "data": {
      "text/html": [
       "7.9"
      ],
      "text/latex": [
       "7.9"
      ],
      "text/markdown": [
       "7.9"
      ],
      "text/plain": [
       "[1] 7.9"
      ]
     },
     "metadata": {},
     "output_type": "display_data"
    },
    {
     "data": {
      "text/html": [
       "0.95187574815584"
      ],
      "text/latex": [
       "0.95187574815584"
      ],
      "text/markdown": [
       "0.95187574815584"
      ],
      "text/plain": [
       "[1] 0.9518757"
      ]
     },
     "metadata": {},
     "output_type": "display_data"
    }
   ],
   "source": [
    "x_axis[index]\n",
    "probs[index]"
   ]
  },
  {
   "cell_type": "code",
   "execution_count": 85,
   "id": "8f6e1228",
   "metadata": {},
   "outputs": [
    {
     "data": {
      "text/html": [
       "7.81472790325118"
      ],
      "text/latex": [
       "7.81472790325118"
      ],
      "text/markdown": [
       "7.81472790325118"
      ],
      "text/plain": [
       "[1] 7.814728"
      ]
     },
     "metadata": {},
     "output_type": "display_data"
    }
   ],
   "source": [
    "qchisq( p = .95, df = 3 )"
   ]
  },
  {
   "cell_type": "code",
   "execution_count": 21,
   "id": "c699cb62",
   "metadata": {},
   "outputs": [
    {
     "data": {
      "text/html": [
       "0.000169742435552826"
      ],
      "text/latex": [
       "0.000169742435552826"
      ],
      "text/markdown": [
       "0.000169742435552826"
      ],
      "text/plain": [
       "[1] 0.0001697424"
      ]
     },
     "metadata": {},
     "output_type": "display_data"
    }
   ],
   "source": [
    "pchisq(20, df=3, lower.tail = FALSE)"
   ]
  },
  {
   "cell_type": "code",
   "execution_count": 25,
   "id": "177e9b5f",
   "metadata": {},
   "outputs": [
    {
     "data": {
      "text/html": [
       "0.0292908865348882"
      ],
      "text/latex": [
       "0.0292908865348882"
      ],
      "text/markdown": [
       "0.0292908865348882"
      ],
      "text/plain": [
       "[1] 0.02929089"
      ]
     },
     "metadata": {},
     "output_type": "display_data"
    }
   ],
   "source": [
    "# Give me the area under the upper tail instead\n",
    "pchisq(9, df=3, lower.tail = FALSE)"
   ]
  },
  {
   "cell_type": "code",
   "execution_count": 22,
   "id": "2a963201",
   "metadata": {},
   "outputs": [
    {
     "data": {
      "text/plain": [
       "\n",
       "   clubs diamonds   hearts   spades \n",
       "      68       44       41       47 "
      ]
     },
     "metadata": {},
     "output_type": "display_data"
    }
   ],
   "source": [
    "observed"
   ]
  },
  {
   "cell_type": "code",
   "execution_count": 23,
   "id": "6df4af06",
   "metadata": {},
   "outputs": [
    {
     "data": {
      "text/plain": [
       "\n",
       "   clubs diamonds   hearts   spades \n",
       "      68       44       41       47 "
      ]
     },
     "metadata": {},
     "output_type": "display_data"
    }
   ],
   "source": [
    "observed"
   ]
  },
  {
   "cell_type": "code",
   "execution_count": 24,
   "id": "8c7a25e8",
   "metadata": {},
   "outputs": [
    {
     "name": "stdout",
     "output_type": "stream",
     "text": [
      "\n",
      "   clubs diamonds   hearts   spades \n",
      "      68       44       41       47 \n"
     ]
    },
    {
     "data": {
      "text/plain": [
       "\n",
       "\tChi-squared test for given probabilities\n",
       "\n",
       "data:  observed\n",
       "X-squared = 9, df = 3, p-value = 0.02929\n"
      ]
     },
     "metadata": {},
     "output_type": "display_data"
    }
   ],
   "source": [
    "# using R's chisq.test\n",
    "print(observed)\n",
    "chisq.test( x = observed )"
   ]
  },
  {
   "cell_type": "code",
   "execution_count": 139,
   "id": "db63cb39",
   "metadata": {},
   "outputs": [
    {
     "data": {
      "text/plain": [
       "\n",
       "\tChi-squared test for given probabilities\n",
       "\n",
       "data:  observed\n",
       "X-squared = 4.7417, df = 3, p-value = 0.1917\n"
      ]
     },
     "metadata": {},
     "output_type": "display_data"
    }
   ],
   "source": [
    "# change the null hypothesis,\n",
    "chisq.test( x = observed, p = c(.2, .3, .3, .2) )"
   ]
  },
  {
   "cell_type": "markdown",
   "id": "82197b66",
   "metadata": {},
   "source": [
    "### The $\\chi^2$ test of independence (or association)\n",
    "\n",
    "* Suppose you'd like to know whether a site is more conducive to the growth of some species. You conduct a test where you introduce species to sites A and B and observe whether it lives or dies, or is unhealthy\n",
    "\n",
    "* Note here that:\n",
    "  * We're working categorical data (site vs. health status)\n",
    "  * We have count data\n",
    "\n",
    "  * We're interested in whether there is an association between the site and grow status\n",
    "  \n",
    "* The results are stored in experiment.csv\n"
   ]
  },
  {
   "cell_type": "code",
   "execution_count": 28,
   "id": "f87f8705",
   "metadata": {},
   "outputs": [
    {
     "data": {
      "text/html": [
       "<table class=\"dataframe\">\n",
       "<caption>A tibble: 6 × 3</caption>\n",
       "<thead>\n",
       "\t<tr><th scope=col>EntryID</th><th scope=col>site</th><th scope=col>condition</th></tr>\n",
       "\t<tr><th scope=col>&lt;dbl&gt;</th><th scope=col>&lt;fct&gt;</th><th scope=col>&lt;fct&gt;</th></tr>\n",
       "</thead>\n",
       "<tbody>\n",
       "\t<tr><td>1</td><td>siteA</td><td>dies     </td></tr>\n",
       "\t<tr><td>2</td><td>siteB</td><td>unhealthy</td></tr>\n",
       "\t<tr><td>3</td><td>siteB</td><td>unhealthy</td></tr>\n",
       "\t<tr><td>4</td><td>siteB</td><td>unhealthy</td></tr>\n",
       "\t<tr><td>5</td><td>siteA</td><td>unhealthy</td></tr>\n",
       "\t<tr><td>6</td><td>siteB</td><td>dies     </td></tr>\n",
       "</tbody>\n",
       "</table>\n"
      ],
      "text/latex": [
       "A tibble: 6 × 3\n",
       "\\begin{tabular}{lll}\n",
       " EntryID & site & condition\\\\\n",
       " <dbl> & <fct> & <fct>\\\\\n",
       "\\hline\n",
       "\t 1 & siteA & dies     \\\\\n",
       "\t 2 & siteB & unhealthy\\\\\n",
       "\t 3 & siteB & unhealthy\\\\\n",
       "\t 4 & siteB & unhealthy\\\\\n",
       "\t 5 & siteA & unhealthy\\\\\n",
       "\t 6 & siteB & dies     \\\\\n",
       "\\end{tabular}\n"
      ],
      "text/markdown": [
       "\n",
       "A tibble: 6 × 3\n",
       "\n",
       "| EntryID &lt;dbl&gt; | site &lt;fct&gt; | condition &lt;fct&gt; |\n",
       "|---|---|---|\n",
       "| 1 | siteA | dies      |\n",
       "| 2 | siteB | unhealthy |\n",
       "| 3 | siteB | unhealthy |\n",
       "| 4 | siteB | unhealthy |\n",
       "| 5 | siteA | unhealthy |\n",
       "| 6 | siteB | dies      |\n",
       "\n"
      ],
      "text/plain": [
       "  EntryID site  condition\n",
       "1 1       siteA dies     \n",
       "2 2       siteB unhealthy\n",
       "3 3       siteB unhealthy\n",
       "4 4       siteB unhealthy\n",
       "5 5       siteA unhealthy\n",
       "6 6       siteB dies     "
      ]
     },
     "metadata": {},
     "output_type": "display_data"
    }
   ],
   "source": [
    "data = read_csv(\"data/experiment.csv\", col_types = cols( site = col_factor(), condition=col_factor()))\n",
    "head(data)\n"
   ]
  },
  {
   "cell_type": "code",
   "execution_count": 29,
   "id": "1f8d2a36",
   "metadata": {},
   "outputs": [
    {
     "data": {
      "text/html": [
       "<table class=\"dataframe\">\n",
       "<caption>A tibble: 6 × 2</caption>\n",
       "<thead>\n",
       "\t<tr><th scope=col>site</th><th scope=col>condition</th></tr>\n",
       "\t<tr><th scope=col>&lt;fct&gt;</th><th scope=col>&lt;fct&gt;</th></tr>\n",
       "</thead>\n",
       "<tbody>\n",
       "\t<tr><td>siteA</td><td>dies     </td></tr>\n",
       "\t<tr><td>siteB</td><td>unhealthy</td></tr>\n",
       "\t<tr><td>siteB</td><td>unhealthy</td></tr>\n",
       "\t<tr><td>siteB</td><td>unhealthy</td></tr>\n",
       "\t<tr><td>siteA</td><td>unhealthy</td></tr>\n",
       "\t<tr><td>siteB</td><td>dies     </td></tr>\n",
       "</tbody>\n",
       "</table>\n"
      ],
      "text/latex": [
       "A tibble: 6 × 2\n",
       "\\begin{tabular}{ll}\n",
       " site & condition\\\\\n",
       " <fct> & <fct>\\\\\n",
       "\\hline\n",
       "\t siteA & dies     \\\\\n",
       "\t siteB & unhealthy\\\\\n",
       "\t siteB & unhealthy\\\\\n",
       "\t siteB & unhealthy\\\\\n",
       "\t siteA & unhealthy\\\\\n",
       "\t siteB & dies     \\\\\n",
       "\\end{tabular}\n"
      ],
      "text/markdown": [
       "\n",
       "A tibble: 6 × 2\n",
       "\n",
       "| site &lt;fct&gt; | condition &lt;fct&gt; |\n",
       "|---|---|\n",
       "| siteA | dies      |\n",
       "| siteB | unhealthy |\n",
       "| siteB | unhealthy |\n",
       "| siteB | unhealthy |\n",
       "| siteA | unhealthy |\n",
       "| siteB | dies      |\n",
       "\n"
      ],
      "text/plain": [
       "  site  condition\n",
       "1 siteA dies     \n",
       "2 siteB unhealthy\n",
       "3 siteB unhealthy\n",
       "4 siteB unhealthy\n",
       "5 siteA unhealthy\n",
       "6 siteB dies     "
      ]
     },
     "metadata": {},
     "output_type": "display_data"
    }
   ],
   "source": [
    "head(select(data, -\"EntryID\"))"
   ]
  },
  {
   "cell_type": "code",
   "execution_count": 30,
   "id": "37a7d470",
   "metadata": {},
   "outputs": [
    {
     "data": {
      "text/plain": [
       "    site        condition  \n",
       " siteA:87   dies     : 43  \n",
       " siteB:93   unhealthy:109  \n",
       "            lives    : 28  "
      ]
     },
     "metadata": {},
     "output_type": "display_data"
    }
   ],
   "source": [
    "data = select(data, -\"EntryID\")\n",
    "summary(data)"
   ]
  },
  {
   "cell_type": "code",
   "execution_count": 31,
   "id": "4f07e6a1",
   "metadata": {},
   "outputs": [
    {
     "data": {
      "text/plain": [
       "           site\n",
       "condition   siteA siteB\n",
       "  dies         30    13\n",
       "  unhealthy    44    65\n",
       "  lives        13    15"
      ]
     },
     "metadata": {},
     "output_type": "display_data"
    }
   ],
   "source": [
    "freqs <- xtabs(~condition + site, data)\n",
    "freqs"
   ]
  },
  {
   "cell_type": "markdown",
   "id": "b048983a",
   "metadata": {},
   "source": [
    "\n",
    "* 180 entries animal accross sites A or B \n",
    "  * 87 `siteA` and 97 `siteB`\n",
    "![](https://www.dropbox.com/s/q2i36mlphpyel3w/xtab.png?dl=1)\n",
    "* The question we are interested in tacling pertains to whether or not the distribution of the datat the same across both sites. is site independent of health status?\n",
    "  * Are the proprtions of lives, dies, or unhealthy the same across both sites\n"
   ]
  },
  {
   "cell_type": "markdown",
   "id": "d0e0e9ba",
   "metadata": {},
   "source": [
    "### Constructing our hypothesis test\n",
    "\n",
    "![](https://www.dropbox.com/s/7nl9nnq8gpyattp/xtab_generic.png?dl=1)\n",
    "\n",
    "* $O_{ij}$ is a count (observed frequency) of the number of respondents that are at a site (siteA or siteB) which lead to condition i (lives, dies, unhealth)\n",
    "* The total number of observations is written N, as usual.\n",
    "* $R_i$ to denote the row totals\n",
    "* $C_j$ to denote the column totals \n",
    "\n"
   ]
  },
  {
   "cell_type": "markdown",
   "id": "8c4e3766",
   "metadata": {},
   "source": [
    "### Constructing our hypothesis test\n",
    "\n",
    "* If both sites yield the same outcomes, then probability of dies is equal in both sites\n",
    "  * by the same token, prob of healthy is also similar in both site\n",
    "  * by the same token, prob of lives also similar in both site\n",
    "\n",
    "\n",
    "* $H_0$: All of the following are true:\n",
    "    *  $P_{11}$ = $P_{12}$ (same probability of dies),\n",
    "    *  $P_{21}$ = $P_{22}$ (same probability of unhealthy).\n",
    "    *  $P_{31}$ = $P_{32}$ (same probability of lives).\n",
    "    \n",
    "* We denote $p_i$ where $i \\in {1,2,3}$ as the prob of dies, unhealthy or lives respectively in eiher site."
   ]
  },
  {
   "cell_type": "markdown",
   "id": "69cac78e",
   "metadata": {},
   "source": [
    "### Test Statistic\n",
    "\n",
    "* Unlike goodness of fit test, the null hypothesis doesn’t actually specify a particular value for $p_i$. \n",
    "  * We can estimate it from the data\n",
    "  * If 28 out of 180 spcies lives, then the empirical probability is simply 28/180 ( .16)\n",
    "\n",
    "$$\n",
    "\\hat{P}_i = \\frac{R_i}{N}\n",
    "$$\n",
    "\n",
    "Expected frequency is therefore:\n",
    "$$\n",
    "\\hat{E}_{ij} = \\frac{R_i}{C_j}/N\n",
    "$$\n"
   ]
  },
  {
   "cell_type": "markdown",
   "id": "0c7b88d6",
   "metadata": {},
   "source": [
    "### Defining the test statistic\n",
    "\n",
    "* Following the exact same strategy that we used in the goodness of fit test. \n",
    "\n",
    " * Exact same statistic. \n",
    "\n",
    "For a contingency table with r rows and c columns, the equation that defines our $\\chi^2$ statistic is:\n",
    "\n",
    "$$\n",
    "\\chi^2 = \\sum_{i=1}^{r}\\sum_{j=1}^{c}\\frac{(E_{ij}-O_{ij})^2}{E_ij}\n",
    "$$\n",
    "\n",
    "* For the same reasons as above, this stat is also distributed according to the $\\chi^2$ distribution\n",
    "\n",
    "* How many independent points are we analyzing?\n",
    "\n",
    "    * Here, `df = (r-1)(c-1)`\n",
    "\n",
    "  * Values of exactly one row and one column are unnecessary.\n",
    "\n"
   ]
  },
  {
   "cell_type": "markdown",
   "id": "2c082327",
   "metadata": {},
   "source": [
    "### Assumptions of the Test\n",
    "\n",
    "* Expected frequencies are sufficiently large. \n",
    "\n",
    " * Expected frequencies larger than 5, \n",
    "\n",
    "  * For larger tables, at least 80% of the expected frequencies are above 5 and none is 0 \n",
    "\n",
    "* Data points are independent of one another. \n",
    "\n",
    "  * Ex. the fact that a species dies, does not increase the chance of another species dying."
   ]
  },
  {
   "cell_type": "markdown",
   "id": "29a1ad96",
   "metadata": {},
   "source": [
    "### Test of Independence in R\n",
    "\n",
    "* Also uses `chisq.test()` function\n",
    "\n",
    "Requires a cross-tabulation rather than a simple frequency table\n",
    "\n",
    " * Knows you're asking for a test of independence and not goodness of fit test"
   ]
  },
  {
   "cell_type": "code",
   "execution_count": 140,
   "id": "9e799640",
   "metadata": {},
   "outputs": [
    {
     "data": {
      "text/plain": [
       "           site\n",
       "condition   siteA siteB\n",
       "  dies         30    13\n",
       "  unhealthy    44    65\n",
       "  lives        13    15"
      ]
     },
     "metadata": {},
     "output_type": "display_data"
    }
   ],
   "source": [
    "freqs"
   ]
  },
  {
   "cell_type": "code",
   "execution_count": 142,
   "id": "b2639ef1",
   "metadata": {},
   "outputs": [
    {
     "data": {
      "text/plain": [
       "\n",
       "\tPearson's Chi-squared test\n",
       "\n",
       "data:  freqs\n",
       "X-squared = 10.722, df = 2, p-value = 0.004697\n"
      ]
     },
     "metadata": {},
     "output_type": "display_data"
    }
   ],
   "source": [
    "chisq.test( freqs )"
   ]
  },
  {
   "cell_type": "markdown",
   "id": "4de79ebd",
   "metadata": {},
   "source": [
    "### McnNemar Test\n",
    "\n",
    "* Used on 2x2 Contingency tables\n",
    " * Used with paired data\n",
    " * Example: on before after sort of experiment\n",
    "\n",
    "* You measure agressiveness of sharks before and after adding a compound to the water and measure how many exhibited predatory behavior\n",
    "\n",
    "![](https://www.dropbox.com/s/091ap26uwtxe70c/before_after.png?dl=1)\n",
    "\n",
    "* Can we use the chi square to test the independence?\n",
    "\n",
    "\n"
   ]
  },
  {
   "cell_type": "markdown",
   "id": "9f01ce35",
   "metadata": {},
   "source": [
    "### McnNemar Test - Cont'd\n",
    "\n",
    "* We can use the $\\chi^2$ test of independence because the data is not independent\n",
    "\n",
    "  * Each animal shows in the before and after columns\n",
    "\n",
    "  * Suppose that before the drug, Animal 1 shows aggression while animal 2 doesn't. \n",
    "\n",
    "  * After drug, Animal 1 has a higher likelihood of showing aggression than Animal 2. Therefore, the expected probabilities cannot be computed simply as frequencies.\n",
    "\n",
    " "
   ]
  },
  {
   "cell_type": "markdown",
   "id": "10a5f155",
   "metadata": {},
   "source": [
    "### McnNemar Test - Cont'd\n",
    "* Requires re-writing the data to minimize the dependence\n",
    "\n",
    "\n",
    "![](https://www.dropbox.com/s/9s6g1w36vcskbqw/mc_nemar.png?dl=1)\n",
    "\n",
    "* Same data, but each of the 100 animals appears once in the table \n",
    "  * Independence assumption is now satisfied since non of the animal appears twice\n",
    "  * Still assuming that animal agressiveness is independent (no contagious) \n",
    "\n",
    "* Requires computing the $X^2$ test statistic slighly differently  \n",
    "  * Adjust for table transformation"
   ]
  },
  {
   "cell_type": "code",
   "execution_count": 156,
   "id": "cbc3c4e3",
   "metadata": {},
   "outputs": [
    {
     "data": {
      "text/html": [
       "<table class=\"dataframe\">\n",
       "<caption>A data.frame: 6 × 3</caption>\n",
       "<thead>\n",
       "\t<tr><th></th><th scope=col>id</th><th scope=col>response_before</th><th scope=col>response_after</th></tr>\n",
       "\t<tr><th></th><th scope=col>&lt;fct&gt;</th><th scope=col>&lt;fct&gt;</th><th scope=col>&lt;fct&gt;</th></tr>\n",
       "</thead>\n",
       "<tbody>\n",
       "\t<tr><th scope=row>1</th><td>subj.1</td><td>no </td><td>yes</td></tr>\n",
       "\t<tr><th scope=row>2</th><td>subj.2</td><td>yes</td><td>no </td></tr>\n",
       "\t<tr><th scope=row>3</th><td>subj.3</td><td>yes</td><td>no </td></tr>\n",
       "\t<tr><th scope=row>4</th><td>subj.4</td><td>yes</td><td>no </td></tr>\n",
       "\t<tr><th scope=row>5</th><td>subj.5</td><td>no </td><td>no </td></tr>\n",
       "\t<tr><th scope=row>6</th><td>subj.6</td><td>no </td><td>no </td></tr>\n",
       "</tbody>\n",
       "</table>\n"
      ],
      "text/latex": [
       "A data.frame: 6 × 3\n",
       "\\begin{tabular}{r|lll}\n",
       "  & id & response\\_before & response\\_after\\\\\n",
       "  & <fct> & <fct> & <fct>\\\\\n",
       "\\hline\n",
       "\t1 & subj.1 & no  & yes\\\\\n",
       "\t2 & subj.2 & yes & no \\\\\n",
       "\t3 & subj.3 & yes & no \\\\\n",
       "\t4 & subj.4 & yes & no \\\\\n",
       "\t5 & subj.5 & no  & no \\\\\n",
       "\t6 & subj.6 & no  & no \\\\\n",
       "\\end{tabular}\n"
      ],
      "text/markdown": [
       "\n",
       "A data.frame: 6 × 3\n",
       "\n",
       "| <!--/--> | id &lt;fct&gt; | response_before &lt;fct&gt; | response_after &lt;fct&gt; |\n",
       "|---|---|---|---|\n",
       "| 1 | subj.1 | no  | yes |\n",
       "| 2 | subj.2 | yes | no  |\n",
       "| 3 | subj.3 | yes | no  |\n",
       "| 4 | subj.4 | yes | no  |\n",
       "| 5 | subj.5 | no  | no  |\n",
       "| 6 | subj.6 | no  | no  |\n",
       "\n"
      ],
      "text/plain": [
       "  id     response_before response_after\n",
       "1 subj.1 no              yes           \n",
       "2 subj.2 yes             no            \n",
       "3 subj.3 yes             no            \n",
       "4 subj.4 yes             no            \n",
       "5 subj.5 no              no            \n",
       "6 subj.6 no              no            "
      ]
     },
     "metadata": {},
     "output_type": "display_data"
    }
   ],
   "source": [
    "load(\"data/animal_agression.Rdata\")\n",
    "head(agpp)"
   ]
  },
  {
   "cell_type": "code",
   "execution_count": 157,
   "id": "d0f7c2b9",
   "metadata": {},
   "outputs": [
    {
     "data": {
      "text/plain": [
       "        id     response_before response_after\n",
       " subj.1  : 1   no :70          no :90        \n",
       " subj.10 : 1   yes:30          yes:10        \n",
       " subj.100: 1                                 \n",
       " subj.11 : 1                                 \n",
       " subj.12 : 1                                 \n",
       " subj.13 : 1                                 \n",
       " (Other) :94                                 "
      ]
     },
     "metadata": {},
     "output_type": "display_data"
    }
   ],
   "source": [
    "summary(agpp)"
   ]
  },
  {
   "cell_type": "code",
   "execution_count": 160,
   "id": "326d0ac5",
   "metadata": {},
   "outputs": [
    {
     "data": {
      "text/plain": [
       "               response_after\n",
       "response_before no yes\n",
       "            no  65   5\n",
       "            yes 25   5"
      ]
     },
     "metadata": {},
     "output_type": "display_data"
    }
   ],
   "source": [
    "freq_table = xtabs( ~ response_before + response_after, data = agpp)\n",
    "freq_table\n"
   ]
  },
  {
   "cell_type": "code",
   "execution_count": 162,
   "id": "6521da05",
   "metadata": {},
   "outputs": [
    {
     "data": {
      "text/plain": [
       "\n",
       "\tMcNemar's Chi-squared test with continuity correction\n",
       "\n",
       "data:  freq_table\n",
       "McNemar's chi-squared = 12.033, df = 1, p-value = 0.0005226\n"
      ]
     },
     "metadata": {},
     "output_type": "display_data"
    }
   ],
   "source": [
    "mcnemar.test( freq_table)"
   ]
  },
  {
   "cell_type": "markdown",
   "id": "c267daac",
   "metadata": {},
   "source": [
    "### T-Test\n",
    "\n",
    "* When you’re interested in finding out whether the average value of the outcome variable is higher in one group or another. \n",
    "\n",
    "* Expression of a gene is higher at low or high temperatures.\n",
    "\n",
    "* In a medical context, we might want to know if a new drug increases or decreases blood pressure. \n",
    "\n",
    "* We use t-tests\n",
    "\n",
    "  * Approach very similar to what we covered using simulations.\n",
    "\n",
    "* First, we'll take a look at the z-test, which assumes that the population standard deviation is for the population is known."
   ]
  },
  {
   "cell_type": "code",
   "execution_count": 37,
   "id": "6a47bee4",
   "metadata": {},
   "outputs": [
    {
     "data": {
      "text/html": [
       "1.71980159914078"
      ],
      "text/latex": [
       "1.71980159914078"
      ],
      "text/markdown": [
       "1.71980159914078"
      ],
      "text/plain": [
       "[1] 1.719802"
      ]
     },
     "metadata": {},
     "output_type": "display_data"
    }
   ],
   "source": [
    "mean(rnorm(20, 67.5, 9.5)) - 67.5  \n"
   ]
  },
  {
   "cell_type": "markdown",
   "id": "3061b43a",
   "metadata": {},
   "source": [
    "### Z-Test\n",
    "\n",
    "* Average expression of gene `X` in a normal coral is $\\mu = 67.5$ with $\\sigma=9.5$\n",
    "\n",
    "* You measure the exrepssion of genes $X$ in survivors of a heat wave and obtain the following values:\n",
    "```\n",
    "50 60 60 64 66 66 67 69 70 74 76 76 77 79 79 79 81 82 82 89\n",
    "```"
   ]
  },
  {
   "cell_type": "code",
   "execution_count": 37,
   "id": "56aafe5b",
   "metadata": {},
   "outputs": [],
   "source": [
    "new_data = c(50,60, 60, 64, 66, 66, 67, 69, 70, 74, 76, 76, 77, 79, 79, 79, 81, 82, 82, 89)"
   ]
  },
  {
   "cell_type": "code",
   "execution_count": 38,
   "id": "1090bc5d",
   "metadata": {},
   "outputs": [
    {
     "data": {
      "text/html": [
       "72.3"
      ],
      "text/latex": [
       "72.3"
      ],
      "text/markdown": [
       "72.3"
      ],
      "text/plain": [
       "[1] 72.3"
      ]
     },
     "metadata": {},
     "output_type": "display_data"
    }
   ],
   "source": [
    "mean(new_data)\n"
   ]
  },
  {
   "cell_type": "code",
   "execution_count": 38,
   "id": "8ac87f12",
   "metadata": {},
   "outputs": [
    {
     "data": {
      "text/html": [
       "4.8"
      ],
      "text/latex": [
       "4.8"
      ],
      "text/markdown": [
       "4.8"
      ],
      "text/plain": [
       "[1] 4.8"
      ]
     },
     "metadata": {},
     "output_type": "display_data"
    }
   ],
   "source": [
    "72.3 - 67.5"
   ]
  },
  {
   "cell_type": "markdown",
   "id": "8ad1e9ce",
   "metadata": {},
   "source": [
    "# Z-Test: cont'd\n",
    "\n",
    "* We are interested in whether there is a difference between the means\n",
    "\n",
    "* Test statistic: $\\bar{X} - \\mu$\n",
    "\n",
    " If the difference is very* close to 0, things are looking good for the null hypothesis. \n",
    "\n",
    "* If this quantity is too large or too small, then it’s looking less likely that the null hypothesis is true\n",
    "\n",
    "* How far away from zero should it be for us to reject `H0`\n",
    "\n"
   ]
  },
  {
   "cell_type": "markdown",
   "id": "848410c2",
   "metadata": {},
   "source": [
    "* $X \\sim \\text{Normal}(\\mu, \\sigma)$\n",
    "\n",
    "![](https://www.dropbox.com/s/c17z427bv4p7s3l/gaussian%20example.png?dl=1)"
   ]
  },
  {
   "cell_type": "markdown",
   "id": "e620be53",
   "metadata": {},
   "source": [
    "### Standar Error of $\\bar{X}$\n",
    "\n",
    "* If the null hypothesis is true then the sampling distribution of the mean can be written as follows\n",
    "\n",
    "$\\bar{X}\\sim \\text{Normal}(\\mu, SE(\\bar{X}))$\n",
    "\n",
    "where $SE(\\bar{X}) = \\sigma/\\sqrt{N}$\n",
    "\n",
    "What we can do is convert the sample mean $\\bar{X}$ into a standard score\n",
    "$$\n",
    "z_{\\bar{X}}= \\frac{\\bar{X} - \\mu}{SE(\\bar{X})}\n",
    "$$\n",
    "\n",
    "* This z-score is our test statistic. \n",
    "  * The z-scores has a standard normal distribution:\n",
    "  "
   ]
  },
  {
   "cell_type": "markdown",
   "id": "8a3c9191",
   "metadata": {},
   "source": [
    "![](https://www.dropbox.com/s/uae9otpdwe0ynto/one_two_test.png?dl=1)"
   ]
  },
  {
   "cell_type": "code",
   "execution_count": 39,
   "id": "d0bea5bf",
   "metadata": {},
   "outputs": [
    {
     "data": {
      "text/html": [
       "72.3"
      ],
      "text/latex": [
       "72.3"
      ],
      "text/markdown": [
       "72.3"
      ],
      "text/plain": [
       "[1] 72.3"
      ]
     },
     "metadata": {},
     "output_type": "display_data"
    }
   ],
   "source": [
    "sample_mean = mean(new_data)\n",
    "sample_mean"
   ]
  },
  {
   "cell_type": "code",
   "execution_count": 40,
   "id": "9e83d893",
   "metadata": {},
   "outputs": [],
   "source": [
    "mu_null = 67.5\n",
    "sd_true = 9.5"
   ]
  },
  {
   "cell_type": "code",
   "execution_count": 42,
   "id": "08f14bc2",
   "metadata": {},
   "outputs": [
    {
     "data": {
      "text/html": [
       "2.25960553515768"
      ],
      "text/latex": [
       "2.25960553515768"
      ],
      "text/markdown": [
       "2.25960553515768"
      ],
      "text/plain": [
       "[1] 2.259606"
      ]
     },
     "metadata": {},
     "output_type": "display_data"
    }
   ],
   "source": [
    "N = length(new_data)\n",
    "sem = sd_true / sqrt(N)\n",
    "z_score = (sample_mean - mu_null) / sem\n",
    "z_score\n"
   ]
  },
  {
   "cell_type": "code",
   "execution_count": 43,
   "id": "ad572971",
   "metadata": {},
   "outputs": [
    {
     "data": {
      "text/html": [
       "0.0238457437649398"
      ],
      "text/latex": [
       "0.0238457437649398"
      ],
      "text/markdown": [
       "0.0238457437649398"
      ],
      "text/plain": [
       "[1] 0.02384574"
      ]
     },
     "metadata": {},
     "output_type": "display_data"
    }
   ],
   "source": [
    "upper_area = pnorm( z_score, lower.tail = FALSE )\n",
    "lower_area = pnorm( q = -z_score, lower.tail = TRUE )\n",
    "p_value = lower_area + upper_area\n",
    "p_value\n"
   ]
  },
  {
   "cell_type": "markdown",
   "id": "4506dbe9",
   "metadata": {},
   "source": [
    "### Assumptions of the z-text\n",
    "\n",
    "* As usually described, the z-test assumes that the true population distribution is normal \n",
    "* Independence of data points\n",
    "* Known standard deviation"
   ]
  },
  {
   "cell_type": "markdown",
   "id": "ed22f34f",
   "metadata": {},
   "source": [
    "### One Sample t-Test\n",
    "\n",
    "* We don't know the population's `sd`\n",
    "  * we need to make some adjustments for the fact that we have some uncertainty about what the true population\n",
    "standard deviation actually is\n",
    "* If our null hypothesis is that the true mean is \\mu, but our sample has mean \\bar{X} \n",
    "our estimate of the population standard deviation is $\\hat{\\sigma}$, then our $t$\n",
    "statistic is\n",
    "\n",
    "$$\n",
    "t = \\frac{\\bar{X} - \\mu}{\\hat{\\sigma} /\\sqrt{N}}\n",
    "$$\n",
    "\n",
    "* The  sampling distribution turns into a t-distribution with N -1 degrees of freedom (df).\n"
   ]
  },
  {
   "cell_type": "markdown",
   "id": "3a3e649e",
   "metadata": {},
   "source": [
    "### The independent samples t-test (Student test)\n",
    "* Two independet set of continuous values\n",
    "  * $H_0$: $\\mu_1 = \\mu_2$\n",
    "  * $H_a$: $\\mu_1 \\ne \\mu_2$\n",
    "               \n",
    "![](https://www.dropbox.com/s/b4gmvnol70hc9w6/independent.png?dl=1)\n"
   ]
  },
  {
   "cell_type": "markdown",
   "id": "a91631d1",
   "metadata": {},
   "source": [
    "### Pooled Estimate of the Standard Deviation\n",
    "\n",
    "* We make the assumption that the two groups have the same population standard deviation\n",
    "  * $\\sigma_1$ = $\\sigma_2 = \\sigma$\n",
    "* compute it simply as the wighted average across both samples\n",
    "\n",
    "\n"
   ]
  },
  {
   "cell_type": "markdown",
   "id": "41060e92",
   "metadata": {},
   "source": [
    "### Test statistic\n",
    "$$\n",
    "t = \\frac{\\bar{X_1} - \\bar{X_2}}{SE(\\bar{X_1} - \\bar{X_2})}\n",
    "$$\n",
    "Where\n",
    "$$\n",
    "SE(\\bar{X_1} - \\bar{X_2})  = \\hat{\\sigma}\\sqrt{\\frac{1}{N_1}+ \\frac{1}{N_2}}\n",
    "$$\n",
    "* the sampling distribution of this t-statistic is a t-distribution with N-2 degree of freedom"
   ]
  },
  {
   "cell_type": "markdown",
   "id": "e89d560c",
   "metadata": {},
   "source": [
    "### Assumptions of the test\n",
    "* Normality.\n",
    "* Independence.\n",
    "* Homogeneity of variance (also called “homoscedasticity”). \n",
    "  * population standard deviation is the same in both groups. \n",
    "   * can be tested using the Levene test"
   ]
  },
  {
   "cell_type": "markdown",
   "id": "60dad224",
   "metadata": {},
   "source": [
    "### The independent samples t-test (Welch test)\n",
    "\n",
    "Third assumption of Student test rarely holds with real data\n",
    "  * Both groups may not have the same standard deviation\n",
    "  * if two samples don’t have the same means, why should we expect them to have the same standard deviation?\n",
    "\n",
    "Does not assume homogeneity of variance\n",
    "  * This leaves only the assumption of normality, and the assumption of independence. \n"
   ]
  },
  {
   "cell_type": "code",
   "execution_count": 44,
   "id": "c3c9e6de",
   "metadata": {},
   "outputs": [
    {
     "data": {
      "text/plain": [
       "\n",
       "\tOne Sample t-test\n",
       "\n",
       "data:  new_data\n",
       "t = 2.2547, df = 19, p-value = 0.03615\n",
       "alternative hypothesis: true mean is not equal to 67.5\n",
       "95 percent confidence interval:\n",
       " 67.84422 76.75578\n",
       "sample estimates:\n",
       "mean of x \n",
       "     72.3 \n"
      ]
     },
     "metadata": {},
     "output_type": "display_data"
    }
   ],
   "source": [
    "t.test( x = new_data, mu = 67.5 )"
   ]
  },
  {
   "cell_type": "code",
   "execution_count": 45,
   "id": "32dd0aa5",
   "metadata": {},
   "outputs": [
    {
     "data": {
      "text/plain": [
       "\n",
       "\tWelch Two Sample t-test\n",
       "\n",
       "data:  data_1 and data_2\n",
       "t = 2.0251, df = 35.028, p-value = 0.05053\n",
       "alternative hypothesis: true difference in means is not equal to 0\n",
       "95 percent confidence interval:\n",
       " -0.003819447  3.120024905\n",
       "sample estimates:\n",
       "mean of x mean of y \n",
       "1.8565261 0.2984234 \n"
      ]
     },
     "metadata": {},
     "output_type": "display_data"
    }
   ],
   "source": [
    "set.seed(142)\n",
    "data_1 = rnorm(20, 1, 3)\n",
    "data_2 = rnorm(20, 1, 2)\n",
    "t.test( data_1, data_2) "
   ]
  },
  {
   "cell_type": "code",
   "execution_count": 46,
   "id": "78197445",
   "metadata": {},
   "outputs": [
    {
     "data": {
      "text/plain": [
       "\n",
       "\tTwo Sample t-test\n",
       "\n",
       "data:  data_1 and data_2\n",
       "t = 2.0251, df = 38, p-value = 0.04993\n",
       "alternative hypothesis: true difference in means is not equal to 0\n",
       "95 percent confidence interval:\n",
       " 0.0005316754 3.1156737829\n",
       "sample estimates:\n",
       "mean of x mean of y \n",
       "1.8565261 0.2984234 \n"
      ]
     },
     "metadata": {},
     "output_type": "display_data"
    }
   ],
   "source": [
    "t.test( data_1, data_2, var.equal=TRUE) "
   ]
  },
  {
   "cell_type": "code",
   "execution_count": 47,
   "id": "c63ccff2",
   "metadata": {},
   "outputs": [
    {
     "data": {
      "text/plain": [
       "\n",
       "\tPaired t-test\n",
       "\n",
       "data:  data_1 and data_2\n",
       "t = 1.7103, df = 19, p-value = 0.1035\n",
       "alternative hypothesis: true mean difference is not equal to 0\n",
       "95 percent confidence interval:\n",
       " -0.3486233  3.4648288\n",
       "sample estimates:\n",
       "mean difference \n",
       "       1.558103 \n"
      ]
     },
     "metadata": {},
     "output_type": "display_data"
    }
   ],
   "source": [
    "t.test( data_1, data_2, paired=TRUE) "
   ]
  },
  {
   "cell_type": "markdown",
   "id": "b3de42dd",
   "metadata": {},
   "source": [
    "### Checking the Normality of the Data\n",
    "\n",
    "* QQ plots provide a nice way to informally check the normality of your data, \n",
    "* Shapiro-Wilk test provide a formal test\n",
    "* The test statistic that it calculates is conventionally denoted as `W`\n"
   ]
  },
  {
   "cell_type": "code",
   "execution_count": 293,
   "id": "89c056a0",
   "metadata": {},
   "outputs": [
    {
     "data": {
      "text/plain": [
       "\n",
       "\tShapiro-Wilk normality test\n",
       "\n",
       "data:  normal_data\n",
       "W = 0.98412, p-value = 0.274\n"
      ]
     },
     "metadata": {},
     "output_type": "display_data"
    }
   ],
   "source": [
    "normal_data = rnorm(100, 1, 2)\n",
    "shapiro.test(normal_data)"
   ]
  },
  {
   "cell_type": "code",
   "execution_count": 48,
   "id": "e1b33c15",
   "metadata": {},
   "outputs": [
    {
     "data": {
      "text/plain": [
       "\n",
       "\tShapiro-Wilk normality test\n",
       "\n",
       "data:  non_normal_data\n",
       "W = 0.92509, p-value = 2.65e-05\n"
      ]
     },
     "metadata": {},
     "output_type": "display_data"
    }
   ],
   "source": [
    "non_normal_data = rpois(100, 3)\n",
    "shapiro.test(non_normal_data)"
   ]
  },
  {
   "cell_type": "markdown",
   "id": "fbdf2195",
   "metadata": {},
   "source": [
    "### About the Degrees of Freedom\n",
    "\n",
    "* Degrees of Freedom (DF) indicate the number of independent values that can vary in an  analysis without breaking any constraints. \n",
    "  * You can also think of it as the number of values that are free to vary as you estimate parameters.\n",
    "  * Typically, the degrees of freedom equal your sample size minus the number of parameters you need to  calculate during an analysis. It is usually a positive  whole number. \n",
    "\n",
    "* Degrees of freedom is an essential but slippery idea that appears in all parametric hypothesis tests.\n",
    "\n",
    "\n"
   ]
  },
  {
   "cell_type": "markdown",
   "id": "b3b42b98",
   "metadata": {},
   "source": [
    "### About the Degrees of Freedom: Example\n",
    "Supposed you have the following \n",
    "```data <-  c(6,8,5,9,6,8,4,11,7,X)```\n",
    "* If we know that that the sample mean is 6.9, then we can deduct that X = 5\n",
    "* Therefore,the last number has no freedom to \n",
    "vary. \n",
    "  * It is not an independent piece of information because it cannot be any other value. \n",
    "  * Estimating the sum or t mean in this case, imposes a constraint on the freedom to vary. \n",
    "  \n",
    "* That’s the basic idea for degrees of freedom in statistics. \n",
    "  * In a general sense, DF are the number of observations in a sample that are free to vary while estimating statistical parameters. \n",
    "  * You can also think of it as the amount of independent data that you can use to estimate a parameter.\n",
    "\n",
    "\n"
   ]
  },
  {
   "cell_type": "markdown",
   "id": "d533ae87",
   "metadata": {},
   "source": [
    "### Degrees of Freedom and Probability  Distributions \n",
    "\n",
    "For parametric tests, degrees of freedom also define the probability distributions for the test statistics of various hypothesis tests. \n",
    "  * ex. degrees of freedom define the shape t-distribution, F-distribution, and the chi-square\n"
   ]
  }
 ],
 "metadata": {
  "kernelspec": {
   "display_name": "R",
   "language": "R",
   "name": "ir"
  },
  "language_info": {
   "codemirror_mode": "r",
   "file_extension": ".r",
   "mimetype": "text/x-r-source",
   "name": "R",
   "pygments_lexer": "r",
   "version": "4.2.1"
  }
 },
 "nbformat": 4,
 "nbformat_minor": 5
}
