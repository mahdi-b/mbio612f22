{
 "cells": [
  {
   "cell_type": "markdown",
   "id": "11259c7f",
   "metadata": {},
   "source": [
    "### Effect \n",
    "* The effect is the difference between the population  value and the null hypothesis value. \n",
    "\n",
    "* The effect is also  known as population effect or the difference. \n",
    "\n",
    "* However, you can use a hypothesis test to determine whether an effect exists and estimate its size. \n",
    "  * For example, if the mean of one group is 10 and the mean of another group is 2, the effect is 8. \n"
   ]
  }
 ],
 "metadata": {
  "kernelspec": {
   "display_name": "Python 3 (ipykernel)",
   "language": "python",
   "name": "python3"
  },
  "language_info": {
   "codemirror_mode": {
    "name": "ipython",
    "version": 3
   },
   "file_extension": ".py",
   "mimetype": "text/x-python",
   "name": "python",
   "nbconvert_exporter": "python",
   "pygments_lexer": "ipython3",
   "version": "3.8.13"
  }
 },
 "nbformat": 4,
 "nbformat_minor": 5
}
