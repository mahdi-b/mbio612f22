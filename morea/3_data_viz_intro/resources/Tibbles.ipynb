{
 "cells": [
  {
   "cell_type": "code",
   "execution_count": 1,
   "id": "c598b4f2",
   "metadata": {},
   "outputs": [
    {
     "name": "stderr",
     "output_type": "stream",
     "text": [
      "── \u001b[1mAttaching packages\u001b[22m ─────────────────────────────────────── tidyverse 1.3.0 ──\n",
      "\n",
      "\u001b[32m✔\u001b[39m \u001b[34mggplot2\u001b[39m 3.3.2     \u001b[32m✔\u001b[39m \u001b[34mpurrr  \u001b[39m 0.3.4\n",
      "\u001b[32m✔\u001b[39m \u001b[34mtibble \u001b[39m 3.0.3     \u001b[32m✔\u001b[39m \u001b[34mdplyr  \u001b[39m 1.0.2\n",
      "\u001b[32m✔\u001b[39m \u001b[34mtidyr  \u001b[39m 1.1.2     \u001b[32m✔\u001b[39m \u001b[34mstringr\u001b[39m 1.4.0\n",
      "\u001b[32m✔\u001b[39m \u001b[34mreadr  \u001b[39m 1.3.1     \u001b[32m✔\u001b[39m \u001b[34mforcats\u001b[39m 0.5.0\n",
      "\n",
      "── \u001b[1mConflicts\u001b[22m ────────────────────────────────────────── tidyverse_conflicts() ──\n",
      "\u001b[31m✖\u001b[39m \u001b[34mdplyr\u001b[39m::\u001b[32mfilter()\u001b[39m masks \u001b[34mstats\u001b[39m::filter()\n",
      "\u001b[31m✖\u001b[39m \u001b[34mdplyr\u001b[39m::\u001b[32mlag()\u001b[39m    masks \u001b[34mstats\u001b[39m::lag()\n",
      "\n"
     ]
    }
   ],
   "source": [
    "library(tidyverse)"
   ]
  },
  {
   "cell_type": "markdown",
   "id": "eee78cf0",
   "metadata": {},
   "source": [
    "### What are tibbles?\n",
    "* Tibbles are dataframes on steroid\n",
    "* Fundamental data structure of `tidyverse`\n",
    "    * From now on, we will work with tibbles as much as possible\n",
    "* Easiest way to construct a tibble is corercing (coverting) a data.frame into a tibble\n",
    "* Can create new tibbles using `tibble()`\n",
    "* Use `tribble()` to document a table"
   ]
  },
  {
   "cell_type": "code",
   "execution_count": 15,
   "id": "f9d63da2",
   "metadata": {},
   "outputs": [
    {
     "name": "stdout",
     "output_type": "stream",
     "text": [
      "           city state\n",
      "1      Honolulu    HI\n",
      "2           LAX    CA\n",
      "3 San Francisco    CA\n"
     ]
    }
   ],
   "source": [
    "my_df = data.frame(city = c(\"Honolulu\", \"LAX\", \"San Francisco\"), state=c(\"HI\", \"CA\", \"CA\"))\n",
    "print(my_df)\n"
   ]
  },
  {
   "cell_type": "code",
   "execution_count": 16,
   "id": "bd015e6d",
   "metadata": {},
   "outputs": [
    {
     "name": "stdout",
     "output_type": "stream",
     "text": [
      "tibble [3 × 2] (S3: tbl_df/tbl/data.frame)\n",
      " $ city : chr [1:3] \"Honolulu\" \"LAX\" \"San Francisco\"\n",
      " $ state: chr [1:3] \"HI\" \"CA\" \"CA\"\n"
     ]
    }
   ],
   "source": [
    "my_tibble = as_tibble(my_df)\n",
    "str(my_tibble)"
   ]
  },
  {
   "cell_type": "code",
   "execution_count": 4,
   "id": "af5b2b6f",
   "metadata": {},
   "outputs": [
    {
     "data": {
      "text/html": [
       "<table class=\"dataframe\">\n",
       "<caption>A data.frame: 2 × 15</caption>\n",
       "<thead>\n",
       "\t<tr><th></th><th scope=col>Latitude</th><th scope=col>Longitude</th><th scope=col>Date.of.Collection</th><th scope=col>Sample.ID</th><th scope=col>Core.Length</th><th scope=col>Water.depth</th><th scope=col>Lifespan</th><th scope=col>Tissue.thickness</th><th scope=col>Growth.rate</th><th scope=col>Density</th><th scope=col>Bioerosion.volume</th><th scope=col>Calcification.rate</th><th scope=col>Bioerosion.rate</th><th scope=col>delta.N.15</th><th scope=col>delta.N.15..error.</th></tr>\n",
       "\t<tr><th></th><th scope=col>&lt;dbl&gt;</th><th scope=col>&lt;dbl&gt;</th><th scope=col>&lt;chr&gt;</th><th scope=col>&lt;chr&gt;</th><th scope=col>&lt;int&gt;</th><th scope=col>&lt;int&gt;</th><th scope=col>&lt;int&gt;</th><th scope=col>&lt;dbl&gt;</th><th scope=col>&lt;dbl&gt;</th><th scope=col>&lt;dbl&gt;</th><th scope=col>&lt;dbl&gt;</th><th scope=col>&lt;dbl&gt;</th><th scope=col>&lt;dbl&gt;</th><th scope=col>&lt;dbl&gt;</th><th scope=col>&lt;dbl&gt;</th></tr>\n",
       "</thead>\n",
       "<tbody>\n",
       "\t<tr><th scope=row>1</th><td>20.9386</td><td>-156.6933</td><td>7/10/13</td><td>LobataHead01 </td><td>50</td><td>2</td><td>43</td><td>5.1</td><td>1.17</td><td>1.04</td><td>6.6</td><td>1.10</td><td>72.32</td><td>11.29</td><td>1.76</td></tr>\n",
       "\t<tr><th scope=row>2</th><td>20.9387</td><td>-156.6934</td><td>7/10/13</td><td>LobataHead02 </td><td>18</td><td>2</td><td>21</td><td>5.6</td><td>0.88</td><td>1.08</td><td>5.9</td><td>0.94</td><td>56.03</td><td> 8.44</td><td>0.12</td></tr>\n",
       "</tbody>\n",
       "</table>\n"
      ],
      "text/latex": [
       "A data.frame: 2 × 15\n",
       "\\begin{tabular}{r|lllllllllllllll}\n",
       "  & Latitude & Longitude & Date.of.Collection & Sample.ID & Core.Length & Water.depth & Lifespan & Tissue.thickness & Growth.rate & Density & Bioerosion.volume & Calcification.rate & Bioerosion.rate & delta.N.15 & delta.N.15..error.\\\\\n",
       "  & <dbl> & <dbl> & <chr> & <chr> & <int> & <int> & <int> & <dbl> & <dbl> & <dbl> & <dbl> & <dbl> & <dbl> & <dbl> & <dbl>\\\\\n",
       "\\hline\n",
       "\t1 & 20.9386 & -156.6933 & 7/10/13 & LobataHead01  & 50 & 2 & 43 & 5.1 & 1.17 & 1.04 & 6.6 & 1.10 & 72.32 & 11.29 & 1.76\\\\\n",
       "\t2 & 20.9387 & -156.6934 & 7/10/13 & LobataHead02  & 18 & 2 & 21 & 5.6 & 0.88 & 1.08 & 5.9 & 0.94 & 56.03 &  8.44 & 0.12\\\\\n",
       "\\end{tabular}\n"
      ],
      "text/markdown": [
       "\n",
       "A data.frame: 2 × 15\n",
       "\n",
       "| <!--/--> | Latitude &lt;dbl&gt; | Longitude &lt;dbl&gt; | Date.of.Collection &lt;chr&gt; | Sample.ID &lt;chr&gt; | Core.Length &lt;int&gt; | Water.depth &lt;int&gt; | Lifespan &lt;int&gt; | Tissue.thickness &lt;dbl&gt; | Growth.rate &lt;dbl&gt; | Density &lt;dbl&gt; | Bioerosion.volume &lt;dbl&gt; | Calcification.rate &lt;dbl&gt; | Bioerosion.rate &lt;dbl&gt; | delta.N.15 &lt;dbl&gt; | delta.N.15..error. &lt;dbl&gt; |\n",
       "|---|---|---|---|---|---|---|---|---|---|---|---|---|---|---|---|\n",
       "| 1 | 20.9386 | -156.6933 | 7/10/13 | LobataHead01  | 50 | 2 | 43 | 5.1 | 1.17 | 1.04 | 6.6 | 1.10 | 72.32 | 11.29 | 1.76 |\n",
       "| 2 | 20.9387 | -156.6934 | 7/10/13 | LobataHead02  | 18 | 2 | 21 | 5.6 | 0.88 | 1.08 | 5.9 | 0.94 | 56.03 |  8.44 | 0.12 |\n",
       "\n"
      ],
      "text/plain": [
       "  Latitude Longitude Date.of.Collection Sample.ID     Core.Length Water.depth\n",
       "1 20.9386  -156.6933 7/10/13            LobataHead01  50          2          \n",
       "2 20.9387  -156.6934 7/10/13            LobataHead02  18          2          \n",
       "  Lifespan Tissue.thickness Growth.rate Density Bioerosion.volume\n",
       "1 43       5.1              1.17        1.04    6.6              \n",
       "2 21       5.6              0.88        1.08    5.9              \n",
       "  Calcification.rate Bioerosion.rate delta.N.15 delta.N.15..error.\n",
       "1 1.10               72.32           11.29      1.76              \n",
       "2 0.94               56.03            8.44      0.12              "
      ]
     },
     "metadata": {},
     "output_type": "display_data"
    }
   ],
   "source": [
    "# https://www.sciencebase.gov/catalog/item/58f7a16ee4b0b7ea5451f474\n",
    "data_df = read.csv(file = '/Users/mahdi/Documents/GitHub/mbio612f22/morea/4_tidyvere_and_data/resources/data/Kahekili_coral.csv')\n",
    "head(data_df, 2)"
   ]
  },
  {
   "cell_type": "code",
   "execution_count": 5,
   "id": "f5b4b94f",
   "metadata": {},
   "outputs": [
    {
     "name": "stdout",
     "output_type": "stream",
     "text": [
      "'data.frame':\t7 obs. of  15 variables:\n",
      " $ Latitude          : num  20.9 20.9 20.9 20.9 20.9 ...\n",
      " $ Longitude         : num  -157 -157 -157 -157 -157 ...\n",
      " $ Date.of.Collection: chr  \"7/10/13\" \"7/10/13\" \"7/10/13\" \"7/10/13\" ...\n",
      " $ Sample.ID         : chr  \"LobataHead01 \" \"LobataHead02 \" \"LobataHead03 \" \"LobataHead04 \" ...\n",
      " $ Core.Length       : int  50 18 19 21 28 22 50\n",
      " $ Water.depth       : int  2 2 2 2 2 1 3\n",
      " $ Lifespan          : int  43 21 26 30 29 NA NA\n",
      " $ Tissue.thickness  : num  5.1 5.6 4.6 4 4.6 NA 5.1\n",
      " $ Growth.rate       : num  1.17 0.88 0.72 0.72 0.95 0.69 NA\n",
      " $ Density           : num  1.04 1.08 0.99 1.01 1.15 1.07 NA\n",
      " $ Bioerosion.volume : num  6.6 5.9 12.5 5.9 2.2 14.6 NA\n",
      " $ Calcification.rate: num  1.1 0.94 0.71 0.67 1.02 0.68 NA\n",
      " $ Bioerosion.rate   : num  72.3 56 89.1 39.9 22.6 ...\n",
      " $ delta.N.15        : num  11.29 8.44 10.87 14.62 7.5 ...\n",
      " $ delta.N.15..error.: num  1.76 0.12 0.45 0.23 0.19 0.4 0.19\n"
     ]
    }
   ],
   "source": [
    "str(data_df)"
   ]
  },
  {
   "cell_type": "code",
   "execution_count": 7,
   "id": "cd3dfd37",
   "metadata": {},
   "outputs": [],
   "source": [
    "library(tibble)"
   ]
  },
  {
   "cell_type": "code",
   "execution_count": 8,
   "id": "9dd04a2a",
   "metadata": {},
   "outputs": [
    {
     "data": {
      "text/html": [
       "<table class=\"dataframe\">\n",
       "<caption>A tibble: 6 × 15</caption>\n",
       "<thead>\n",
       "\t<tr><th scope=col>Latitude</th><th scope=col>Longitude</th><th scope=col>Date.of.Collection</th><th scope=col>Sample.ID</th><th scope=col>Core.Length</th><th scope=col>Water.depth</th><th scope=col>Lifespan</th><th scope=col>Tissue.thickness</th><th scope=col>Growth.rate</th><th scope=col>Density</th><th scope=col>Bioerosion.volume</th><th scope=col>Calcification.rate</th><th scope=col>Bioerosion.rate</th><th scope=col>delta.N.15</th><th scope=col>delta.N.15..error.</th></tr>\n",
       "\t<tr><th scope=col>&lt;dbl&gt;</th><th scope=col>&lt;dbl&gt;</th><th scope=col>&lt;chr&gt;</th><th scope=col>&lt;chr&gt;</th><th scope=col>&lt;int&gt;</th><th scope=col>&lt;int&gt;</th><th scope=col>&lt;int&gt;</th><th scope=col>&lt;dbl&gt;</th><th scope=col>&lt;dbl&gt;</th><th scope=col>&lt;dbl&gt;</th><th scope=col>&lt;dbl&gt;</th><th scope=col>&lt;dbl&gt;</th><th scope=col>&lt;dbl&gt;</th><th scope=col>&lt;dbl&gt;</th><th scope=col>&lt;dbl&gt;</th></tr>\n",
       "</thead>\n",
       "<tbody>\n",
       "\t<tr><td>20.9386</td><td>-156.6933</td><td>7/10/13</td><td>LobataHead01 </td><td>50</td><td>2</td><td>43</td><td>5.1</td><td>1.17</td><td>1.04</td><td> 6.6</td><td>1.10</td><td>72.32</td><td>11.29</td><td>1.76</td></tr>\n",
       "\t<tr><td>20.9387</td><td>-156.6934</td><td>7/10/13</td><td>LobataHead02 </td><td>18</td><td>2</td><td>21</td><td>5.6</td><td>0.88</td><td>1.08</td><td> 5.9</td><td>0.94</td><td>56.03</td><td> 8.44</td><td>0.12</td></tr>\n",
       "\t<tr><td>20.9387</td><td>-156.6932</td><td>7/10/13</td><td>LobataHead03 </td><td>19</td><td>2</td><td>26</td><td>4.6</td><td>0.72</td><td>0.99</td><td>12.5</td><td>0.71</td><td>89.07</td><td>10.87</td><td>0.45</td></tr>\n",
       "\t<tr><td>20.9388</td><td>-156.6931</td><td>7/10/13</td><td>LobataHead04 </td><td>21</td><td>2</td><td>30</td><td>4.0</td><td>0.72</td><td>1.01</td><td> 5.9</td><td>0.67</td><td>39.87</td><td>14.62</td><td>0.23</td></tr>\n",
       "\t<tr><td>20.9451</td><td>-156.6932</td><td>7/10/13</td><td>LobataHead05 </td><td>28</td><td>2</td><td>29</td><td>4.6</td><td>0.95</td><td>1.15</td><td> 2.2</td><td>1.02</td><td>22.58</td><td> 7.50</td><td>0.19</td></tr>\n",
       "\t<tr><td>20.9386</td><td>-156.6932</td><td>7/10/13</td><td>LobataHead06 </td><td>22</td><td>1</td><td>NA</td><td> NA</td><td>0.69</td><td>1.07</td><td>14.6</td><td>0.68</td><td>99.15</td><td>17.08</td><td>0.40</td></tr>\n",
       "</tbody>\n",
       "</table>\n"
      ],
      "text/latex": [
       "A tibble: 6 × 15\n",
       "\\begin{tabular}{lllllllllllllll}\n",
       " Latitude & Longitude & Date.of.Collection & Sample.ID & Core.Length & Water.depth & Lifespan & Tissue.thickness & Growth.rate & Density & Bioerosion.volume & Calcification.rate & Bioerosion.rate & delta.N.15 & delta.N.15..error.\\\\\n",
       " <dbl> & <dbl> & <chr> & <chr> & <int> & <int> & <int> & <dbl> & <dbl> & <dbl> & <dbl> & <dbl> & <dbl> & <dbl> & <dbl>\\\\\n",
       "\\hline\n",
       "\t 20.9386 & -156.6933 & 7/10/13 & LobataHead01  & 50 & 2 & 43 & 5.1 & 1.17 & 1.04 &  6.6 & 1.10 & 72.32 & 11.29 & 1.76\\\\\n",
       "\t 20.9387 & -156.6934 & 7/10/13 & LobataHead02  & 18 & 2 & 21 & 5.6 & 0.88 & 1.08 &  5.9 & 0.94 & 56.03 &  8.44 & 0.12\\\\\n",
       "\t 20.9387 & -156.6932 & 7/10/13 & LobataHead03  & 19 & 2 & 26 & 4.6 & 0.72 & 0.99 & 12.5 & 0.71 & 89.07 & 10.87 & 0.45\\\\\n",
       "\t 20.9388 & -156.6931 & 7/10/13 & LobataHead04  & 21 & 2 & 30 & 4.0 & 0.72 & 1.01 &  5.9 & 0.67 & 39.87 & 14.62 & 0.23\\\\\n",
       "\t 20.9451 & -156.6932 & 7/10/13 & LobataHead05  & 28 & 2 & 29 & 4.6 & 0.95 & 1.15 &  2.2 & 1.02 & 22.58 &  7.50 & 0.19\\\\\n",
       "\t 20.9386 & -156.6932 & 7/10/13 & LobataHead06  & 22 & 1 & NA &  NA & 0.69 & 1.07 & 14.6 & 0.68 & 99.15 & 17.08 & 0.40\\\\\n",
       "\\end{tabular}\n"
      ],
      "text/markdown": [
       "\n",
       "A tibble: 6 × 15\n",
       "\n",
       "| Latitude &lt;dbl&gt; | Longitude &lt;dbl&gt; | Date.of.Collection &lt;chr&gt; | Sample.ID &lt;chr&gt; | Core.Length &lt;int&gt; | Water.depth &lt;int&gt; | Lifespan &lt;int&gt; | Tissue.thickness &lt;dbl&gt; | Growth.rate &lt;dbl&gt; | Density &lt;dbl&gt; | Bioerosion.volume &lt;dbl&gt; | Calcification.rate &lt;dbl&gt; | Bioerosion.rate &lt;dbl&gt; | delta.N.15 &lt;dbl&gt; | delta.N.15..error. &lt;dbl&gt; |\n",
       "|---|---|---|---|---|---|---|---|---|---|---|---|---|---|---|\n",
       "| 20.9386 | -156.6933 | 7/10/13 | LobataHead01  | 50 | 2 | 43 | 5.1 | 1.17 | 1.04 |  6.6 | 1.10 | 72.32 | 11.29 | 1.76 |\n",
       "| 20.9387 | -156.6934 | 7/10/13 | LobataHead02  | 18 | 2 | 21 | 5.6 | 0.88 | 1.08 |  5.9 | 0.94 | 56.03 |  8.44 | 0.12 |\n",
       "| 20.9387 | -156.6932 | 7/10/13 | LobataHead03  | 19 | 2 | 26 | 4.6 | 0.72 | 0.99 | 12.5 | 0.71 | 89.07 | 10.87 | 0.45 |\n",
       "| 20.9388 | -156.6931 | 7/10/13 | LobataHead04  | 21 | 2 | 30 | 4.0 | 0.72 | 1.01 |  5.9 | 0.67 | 39.87 | 14.62 | 0.23 |\n",
       "| 20.9451 | -156.6932 | 7/10/13 | LobataHead05  | 28 | 2 | 29 | 4.6 | 0.95 | 1.15 |  2.2 | 1.02 | 22.58 |  7.50 | 0.19 |\n",
       "| 20.9386 | -156.6932 | 7/10/13 | LobataHead06  | 22 | 1 | NA |  NA | 0.69 | 1.07 | 14.6 | 0.68 | 99.15 | 17.08 | 0.40 |\n",
       "\n"
      ],
      "text/plain": [
       "  Latitude Longitude Date.of.Collection Sample.ID     Core.Length Water.depth\n",
       "1 20.9386  -156.6933 7/10/13            LobataHead01  50          2          \n",
       "2 20.9387  -156.6934 7/10/13            LobataHead02  18          2          \n",
       "3 20.9387  -156.6932 7/10/13            LobataHead03  19          2          \n",
       "4 20.9388  -156.6931 7/10/13            LobataHead04  21          2          \n",
       "5 20.9451  -156.6932 7/10/13            LobataHead05  28          2          \n",
       "6 20.9386  -156.6932 7/10/13            LobataHead06  22          1          \n",
       "  Lifespan Tissue.thickness Growth.rate Density Bioerosion.volume\n",
       "1 43       5.1              1.17        1.04     6.6             \n",
       "2 21       5.6              0.88        1.08     5.9             \n",
       "3 26       4.6              0.72        0.99    12.5             \n",
       "4 30       4.0              0.72        1.01     5.9             \n",
       "5 29       4.6              0.95        1.15     2.2             \n",
       "6 NA        NA              0.69        1.07    14.6             \n",
       "  Calcification.rate Bioerosion.rate delta.N.15 delta.N.15..error.\n",
       "1 1.10               72.32           11.29      1.76              \n",
       "2 0.94               56.03            8.44      0.12              \n",
       "3 0.71               89.07           10.87      0.45              \n",
       "4 0.67               39.87           14.62      0.23              \n",
       "5 1.02               22.58            7.50      0.19              \n",
       "6 0.68               99.15           17.08      0.40              "
      ]
     },
     "metadata": {},
     "output_type": "display_data"
    }
   ],
   "source": [
    "data_tbl = as_tibble(data_df)\n",
    "head(data_tbl)"
   ]
  },
  {
   "cell_type": "code",
   "execution_count": 9,
   "id": "b21c7a10",
   "metadata": {},
   "outputs": [
    {
     "name": "stdout",
     "output_type": "stream",
     "text": [
      "tibble [7 × 15] (S3: tbl_df/tbl/data.frame)\n",
      " $ Latitude          : num [1:7] 20.9 20.9 20.9 20.9 20.9 ...\n",
      " $ Longitude         : num [1:7] -157 -157 -157 -157 -157 ...\n",
      " $ Date.of.Collection: chr [1:7] \"7/10/13\" \"7/10/13\" \"7/10/13\" \"7/10/13\" ...\n",
      " $ Sample.ID         : chr [1:7] \"LobataHead01 \" \"LobataHead02 \" \"LobataHead03 \" \"LobataHead04 \" ...\n",
      " $ Core.Length       : int [1:7] 50 18 19 21 28 22 50\n",
      " $ Water.depth       : int [1:7] 2 2 2 2 2 1 3\n",
      " $ Lifespan          : int [1:7] 43 21 26 30 29 NA NA\n",
      " $ Tissue.thickness  : num [1:7] 5.1 5.6 4.6 4 4.6 NA 5.1\n",
      " $ Growth.rate       : num [1:7] 1.17 0.88 0.72 0.72 0.95 0.69 NA\n",
      " $ Density           : num [1:7] 1.04 1.08 0.99 1.01 1.15 1.07 NA\n",
      " $ Bioerosion.volume : num [1:7] 6.6 5.9 12.5 5.9 2.2 14.6 NA\n",
      " $ Calcification.rate: num [1:7] 1.1 0.94 0.71 0.67 1.02 0.68 NA\n",
      " $ Bioerosion.rate   : num [1:7] 72.3 56 89.1 39.9 22.6 ...\n",
      " $ delta.N.15        : num [1:7] 11.29 8.44 10.87 14.62 7.5 ...\n",
      " $ delta.N.15..error.: num [1:7] 1.76 0.12 0.45 0.23 0.19 0.4 0.19\n"
     ]
    }
   ],
   "source": [
    "str(data_tbl)"
   ]
  },
  {
   "cell_type": "code",
   "execution_count": 22,
   "id": "a531f311",
   "metadata": {},
   "outputs": [
    {
     "name": "stdout",
     "output_type": "stream",
     "text": [
      "\u001b[38;5;246m# A tibble: 10 x 2\u001b[39m\n",
      "       x     y\n",
      "   \u001b[3m\u001b[38;5;246m<int>\u001b[39m\u001b[23m \u001b[3m\u001b[38;5;246m<dbl>\u001b[39m\u001b[23m\n",
      "\u001b[38;5;250m 1\u001b[39m     1     1\n",
      "\u001b[38;5;250m 2\u001b[39m     2     4\n",
      "\u001b[38;5;250m 3\u001b[39m     3     9\n",
      "\u001b[38;5;250m 4\u001b[39m     4    16\n",
      "\u001b[38;5;250m 5\u001b[39m     5    25\n",
      "\u001b[38;5;250m 6\u001b[39m     6    36\n",
      "\u001b[38;5;250m 7\u001b[39m     7    49\n",
      "\u001b[38;5;250m 8\u001b[39m     8    64\n",
      "\u001b[38;5;250m 9\u001b[39m     9    81\n",
      "\u001b[38;5;250m10\u001b[39m    10   100\n"
     ]
    }
   ],
   "source": [
    "print(tibble(x=1:10, y=x^2))"
   ]
  },
  {
   "cell_type": "code",
   "execution_count": 23,
   "id": "ef452f5f",
   "metadata": {},
   "outputs": [
    {
     "name": "stdout",
     "output_type": "stream",
     "text": [
      "\u001b[38;5;246m# A tibble: 2 x 3\u001b[39m\n",
      "  x         y     z\n",
      "  \u001b[3m\u001b[38;5;246m<chr>\u001b[39m\u001b[23m \u001b[3m\u001b[38;5;246m<dbl>\u001b[39m\u001b[23m \u001b[3m\u001b[38;5;246m<dbl>\u001b[39m\u001b[23m\n",
      "\u001b[38;5;250m1\u001b[39m a         2   3.6\n",
      "\u001b[38;5;250m2\u001b[39m b         1   8.5\n"
     ]
    }
   ],
   "source": [
    "x = tribble(   ~x, ~y, ~z,\n",
    "           \"a\", 2, 3.6,\n",
    "           \"b\", 1, 8.5)\n",
    "print(x)"
   ]
  },
  {
   "cell_type": "markdown",
   "id": "4a1ce2c5",
   "metadata": {},
   "source": [
    "### Tibble vs. Data.Frame\n",
    "\n",
    "* You noticed that print of tibble is cleaners\n",
    "  * Show only columns that fit inscreen"
   ]
  },
  {
   "cell_type": "code",
   "execution_count": 30,
   "id": "c1da1057",
   "metadata": {},
   "outputs": [
    {
     "name": "stdout",
     "output_type": "stream",
     "text": [
      "  Latitude Longitude Date.of.Collection     Sample.ID Core.Length Water.depth\n",
      "1  20.9386 -156.6933            7/10/13 LobataHead01           50           2\n",
      "2  20.9387 -156.6934            7/10/13 LobataHead02           18           2\n",
      "3  20.9387 -156.6932            7/10/13 LobataHead03           19           2\n",
      "4  20.9388 -156.6931            7/10/13 LobataHead04           21           2\n",
      "5  20.9451 -156.6932            7/10/13 LobataHead05           28           2\n",
      "6  20.9386 -156.6932            7/10/13 LobataHead06           22           1\n",
      "  Lifespan Tissue.thickness Growth.rate Density Bioerosion.volume\n",
      "1       43              5.1        1.17    1.04               6.6\n",
      "2       21              5.6        0.88    1.08               5.9\n",
      "3       26              4.6        0.72    0.99              12.5\n",
      "4       30              4.0        0.72    1.01               5.9\n",
      "5       29              4.6        0.95    1.15               2.2\n",
      "6       NA               NA        0.69    1.07              14.6\n",
      "  Calcification.rate Bioerosion.rate delta.N.15 delta.N.15..error.\n",
      "1               1.10           72.32      11.29               1.76\n",
      "2               0.94           56.03       8.44               0.12\n",
      "3               0.71           89.07      10.87               0.45\n",
      "4               0.67           39.87      14.62               0.23\n",
      "5               1.02           22.58       7.50               0.19\n",
      "6               0.68           99.15      17.08               0.40\n"
     ]
    }
   ],
   "source": [
    "print(head(data_df))"
   ]
  },
  {
   "cell_type": "code",
   "execution_count": 10,
   "id": "60c9a5f1",
   "metadata": {},
   "outputs": [
    {
     "data": {
      "text/html": [
       "<table class=\"dataframe\">\n",
       "<caption>A tibble: 7 × 15</caption>\n",
       "<thead>\n",
       "\t<tr><th scope=col>Latitude</th><th scope=col>Longitude</th><th scope=col>Date.of.Collection</th><th scope=col>Sample.ID</th><th scope=col>Core.Length</th><th scope=col>Water.depth</th><th scope=col>Lifespan</th><th scope=col>Tissue.thickness</th><th scope=col>Growth.rate</th><th scope=col>Density</th><th scope=col>Bioerosion.volume</th><th scope=col>Calcification.rate</th><th scope=col>Bioerosion.rate</th><th scope=col>delta.N.15</th><th scope=col>delta.N.15..error.</th></tr>\n",
       "\t<tr><th scope=col>&lt;dbl&gt;</th><th scope=col>&lt;dbl&gt;</th><th scope=col>&lt;chr&gt;</th><th scope=col>&lt;chr&gt;</th><th scope=col>&lt;int&gt;</th><th scope=col>&lt;int&gt;</th><th scope=col>&lt;int&gt;</th><th scope=col>&lt;dbl&gt;</th><th scope=col>&lt;dbl&gt;</th><th scope=col>&lt;dbl&gt;</th><th scope=col>&lt;dbl&gt;</th><th scope=col>&lt;dbl&gt;</th><th scope=col>&lt;dbl&gt;</th><th scope=col>&lt;dbl&gt;</th><th scope=col>&lt;dbl&gt;</th></tr>\n",
       "</thead>\n",
       "<tbody>\n",
       "\t<tr><td>20.9386</td><td>-156.6933</td><td>7/10/13</td><td>LobataHead01 </td><td>50</td><td>2</td><td>43</td><td>5.1</td><td>1.17</td><td>1.04</td><td> 6.6</td><td>1.10</td><td>72.32</td><td>11.29</td><td>1.76</td></tr>\n",
       "\t<tr><td>20.9387</td><td>-156.6934</td><td>7/10/13</td><td>LobataHead02 </td><td>18</td><td>2</td><td>21</td><td>5.6</td><td>0.88</td><td>1.08</td><td> 5.9</td><td>0.94</td><td>56.03</td><td> 8.44</td><td>0.12</td></tr>\n",
       "\t<tr><td>20.9387</td><td>-156.6932</td><td>7/10/13</td><td>LobataHead03 </td><td>19</td><td>2</td><td>26</td><td>4.6</td><td>0.72</td><td>0.99</td><td>12.5</td><td>0.71</td><td>89.07</td><td>10.87</td><td>0.45</td></tr>\n",
       "\t<tr><td>20.9388</td><td>-156.6931</td><td>7/10/13</td><td>LobataHead04 </td><td>21</td><td>2</td><td>30</td><td>4.0</td><td>0.72</td><td>1.01</td><td> 5.9</td><td>0.67</td><td>39.87</td><td>14.62</td><td>0.23</td></tr>\n",
       "\t<tr><td>20.9451</td><td>-156.6932</td><td>7/10/13</td><td>LobataHead05 </td><td>28</td><td>2</td><td>29</td><td>4.6</td><td>0.95</td><td>1.15</td><td> 2.2</td><td>1.02</td><td>22.58</td><td> 7.50</td><td>0.19</td></tr>\n",
       "\t<tr><td>20.9386</td><td>-156.6932</td><td>7/10/13</td><td>LobataHead06 </td><td>22</td><td>1</td><td>NA</td><td> NA</td><td>0.69</td><td>1.07</td><td>14.6</td><td>0.68</td><td>99.15</td><td>17.08</td><td>0.40</td></tr>\n",
       "\t<tr><td>20.9373</td><td>-156.6935</td><td>7/11/13</td><td>LobataHead07 </td><td>50</td><td>3</td><td>NA</td><td>5.1</td><td>  NA</td><td>  NA</td><td>  NA</td><td>  NA</td><td>   NA</td><td> 8.17</td><td>0.19</td></tr>\n",
       "</tbody>\n",
       "</table>\n"
      ],
      "text/latex": [
       "A tibble: 7 × 15\n",
       "\\begin{tabular}{lllllllllllllll}\n",
       " Latitude & Longitude & Date.of.Collection & Sample.ID & Core.Length & Water.depth & Lifespan & Tissue.thickness & Growth.rate & Density & Bioerosion.volume & Calcification.rate & Bioerosion.rate & delta.N.15 & delta.N.15..error.\\\\\n",
       " <dbl> & <dbl> & <chr> & <chr> & <int> & <int> & <int> & <dbl> & <dbl> & <dbl> & <dbl> & <dbl> & <dbl> & <dbl> & <dbl>\\\\\n",
       "\\hline\n",
       "\t 20.9386 & -156.6933 & 7/10/13 & LobataHead01  & 50 & 2 & 43 & 5.1 & 1.17 & 1.04 &  6.6 & 1.10 & 72.32 & 11.29 & 1.76\\\\\n",
       "\t 20.9387 & -156.6934 & 7/10/13 & LobataHead02  & 18 & 2 & 21 & 5.6 & 0.88 & 1.08 &  5.9 & 0.94 & 56.03 &  8.44 & 0.12\\\\\n",
       "\t 20.9387 & -156.6932 & 7/10/13 & LobataHead03  & 19 & 2 & 26 & 4.6 & 0.72 & 0.99 & 12.5 & 0.71 & 89.07 & 10.87 & 0.45\\\\\n",
       "\t 20.9388 & -156.6931 & 7/10/13 & LobataHead04  & 21 & 2 & 30 & 4.0 & 0.72 & 1.01 &  5.9 & 0.67 & 39.87 & 14.62 & 0.23\\\\\n",
       "\t 20.9451 & -156.6932 & 7/10/13 & LobataHead05  & 28 & 2 & 29 & 4.6 & 0.95 & 1.15 &  2.2 & 1.02 & 22.58 &  7.50 & 0.19\\\\\n",
       "\t 20.9386 & -156.6932 & 7/10/13 & LobataHead06  & 22 & 1 & NA &  NA & 0.69 & 1.07 & 14.6 & 0.68 & 99.15 & 17.08 & 0.40\\\\\n",
       "\t 20.9373 & -156.6935 & 7/11/13 & LobataHead07  & 50 & 3 & NA & 5.1 &   NA &   NA &   NA &   NA &    NA &  8.17 & 0.19\\\\\n",
       "\\end{tabular}\n"
      ],
      "text/markdown": [
       "\n",
       "A tibble: 7 × 15\n",
       "\n",
       "| Latitude &lt;dbl&gt; | Longitude &lt;dbl&gt; | Date.of.Collection &lt;chr&gt; | Sample.ID &lt;chr&gt; | Core.Length &lt;int&gt; | Water.depth &lt;int&gt; | Lifespan &lt;int&gt; | Tissue.thickness &lt;dbl&gt; | Growth.rate &lt;dbl&gt; | Density &lt;dbl&gt; | Bioerosion.volume &lt;dbl&gt; | Calcification.rate &lt;dbl&gt; | Bioerosion.rate &lt;dbl&gt; | delta.N.15 &lt;dbl&gt; | delta.N.15..error. &lt;dbl&gt; |\n",
       "|---|---|---|---|---|---|---|---|---|---|---|---|---|---|---|\n",
       "| 20.9386 | -156.6933 | 7/10/13 | LobataHead01  | 50 | 2 | 43 | 5.1 | 1.17 | 1.04 |  6.6 | 1.10 | 72.32 | 11.29 | 1.76 |\n",
       "| 20.9387 | -156.6934 | 7/10/13 | LobataHead02  | 18 | 2 | 21 | 5.6 | 0.88 | 1.08 |  5.9 | 0.94 | 56.03 |  8.44 | 0.12 |\n",
       "| 20.9387 | -156.6932 | 7/10/13 | LobataHead03  | 19 | 2 | 26 | 4.6 | 0.72 | 0.99 | 12.5 | 0.71 | 89.07 | 10.87 | 0.45 |\n",
       "| 20.9388 | -156.6931 | 7/10/13 | LobataHead04  | 21 | 2 | 30 | 4.0 | 0.72 | 1.01 |  5.9 | 0.67 | 39.87 | 14.62 | 0.23 |\n",
       "| 20.9451 | -156.6932 | 7/10/13 | LobataHead05  | 28 | 2 | 29 | 4.6 | 0.95 | 1.15 |  2.2 | 1.02 | 22.58 |  7.50 | 0.19 |\n",
       "| 20.9386 | -156.6932 | 7/10/13 | LobataHead06  | 22 | 1 | NA |  NA | 0.69 | 1.07 | 14.6 | 0.68 | 99.15 | 17.08 | 0.40 |\n",
       "| 20.9373 | -156.6935 | 7/11/13 | LobataHead07  | 50 | 3 | NA | 5.1 |   NA |   NA |   NA |   NA |    NA |  8.17 | 0.19 |\n",
       "\n"
      ],
      "text/plain": [
       "  Latitude Longitude Date.of.Collection Sample.ID     Core.Length Water.depth\n",
       "1 20.9386  -156.6933 7/10/13            LobataHead01  50          2          \n",
       "2 20.9387  -156.6934 7/10/13            LobataHead02  18          2          \n",
       "3 20.9387  -156.6932 7/10/13            LobataHead03  19          2          \n",
       "4 20.9388  -156.6931 7/10/13            LobataHead04  21          2          \n",
       "5 20.9451  -156.6932 7/10/13            LobataHead05  28          2          \n",
       "6 20.9386  -156.6932 7/10/13            LobataHead06  22          1          \n",
       "7 20.9373  -156.6935 7/11/13            LobataHead07  50          3          \n",
       "  Lifespan Tissue.thickness Growth.rate Density Bioerosion.volume\n",
       "1 43       5.1              1.17        1.04     6.6             \n",
       "2 21       5.6              0.88        1.08     5.9             \n",
       "3 26       4.6              0.72        0.99    12.5             \n",
       "4 30       4.0              0.72        1.01     5.9             \n",
       "5 29       4.6              0.95        1.15     2.2             \n",
       "6 NA        NA              0.69        1.07    14.6             \n",
       "7 NA       5.1                NA          NA      NA             \n",
       "  Calcification.rate Bioerosion.rate delta.N.15 delta.N.15..error.\n",
       "1 1.10               72.32           11.29      1.76              \n",
       "2 0.94               56.03            8.44      0.12              \n",
       "3 0.71               89.07           10.87      0.45              \n",
       "4 0.67               39.87           14.62      0.23              \n",
       "5 1.02               22.58            7.50      0.19              \n",
       "6 0.68               99.15           17.08      0.40              \n",
       "7   NA                  NA            8.17      0.19              "
      ]
     },
     "metadata": {},
     "output_type": "display_data"
    }
   ],
   "source": [
    "View(data_tbl)"
   ]
  },
  {
   "cell_type": "code",
   "execution_count": 59,
   "id": "2cc5de76",
   "metadata": {},
   "outputs": [
    {
     "data": {
      "text/html": [
       "29.2933801395469"
      ],
      "text/latex": [
       "29.2933801395469"
      ],
      "text/markdown": [
       "29.2933801395469"
      ],
      "text/plain": [
       "[1] 29.29338"
      ]
     },
     "metadata": {},
     "output_type": "display_data"
    }
   ],
   "source": [
    "sd(data_tbl$\"Bioerosion.rate\",  na.rm = TRUE)"
   ]
  },
  {
   "cell_type": "code",
   "execution_count": 13,
   "id": "4622e4db",
   "metadata": {},
   "outputs": [
    {
     "name": "stderr",
     "output_type": "stream",
     "text": [
      "starting httpd help server ...\n",
      " done\n",
      "\n"
     ]
    }
   ],
   "source": [
    "vignette(\"tibble\")"
   ]
  },
  {
   "cell_type": "code",
   "execution_count": 17,
   "id": "b3decfeb",
   "metadata": {},
   "outputs": [],
   "source": [
    "data <- tibble(x=1:10, y=x^2)"
   ]
  },
  {
   "cell_type": "code",
   "execution_count": 18,
   "id": "c8ac2b3d",
   "metadata": {},
   "outputs": [
    {
     "data": {
      "text/html": [
       "<table class=\"dataframe\">\n",
       "<caption>A tibble: 10 × 2</caption>\n",
       "<thead>\n",
       "\t<tr><th scope=col>x</th><th scope=col>y</th></tr>\n",
       "\t<tr><th scope=col>&lt;int&gt;</th><th scope=col>&lt;dbl&gt;</th></tr>\n",
       "</thead>\n",
       "<tbody>\n",
       "\t<tr><td> 1</td><td>  1</td></tr>\n",
       "\t<tr><td> 2</td><td>  4</td></tr>\n",
       "\t<tr><td> 3</td><td>  9</td></tr>\n",
       "\t<tr><td> 4</td><td> 16</td></tr>\n",
       "\t<tr><td> 5</td><td> 25</td></tr>\n",
       "\t<tr><td> 6</td><td> 36</td></tr>\n",
       "\t<tr><td> 7</td><td> 49</td></tr>\n",
       "\t<tr><td> 8</td><td> 64</td></tr>\n",
       "\t<tr><td> 9</td><td> 81</td></tr>\n",
       "\t<tr><td>10</td><td>100</td></tr>\n",
       "</tbody>\n",
       "</table>\n"
      ],
      "text/latex": [
       "A tibble: 10 × 2\n",
       "\\begin{tabular}{ll}\n",
       " x & y\\\\\n",
       " <int> & <dbl>\\\\\n",
       "\\hline\n",
       "\t  1 &   1\\\\\n",
       "\t  2 &   4\\\\\n",
       "\t  3 &   9\\\\\n",
       "\t  4 &  16\\\\\n",
       "\t  5 &  25\\\\\n",
       "\t  6 &  36\\\\\n",
       "\t  7 &  49\\\\\n",
       "\t  8 &  64\\\\\n",
       "\t  9 &  81\\\\\n",
       "\t 10 & 100\\\\\n",
       "\\end{tabular}\n"
      ],
      "text/markdown": [
       "\n",
       "A tibble: 10 × 2\n",
       "\n",
       "| x &lt;int&gt; | y &lt;dbl&gt; |\n",
       "|---|---|\n",
       "|  1 |   1 |\n",
       "|  2 |   4 |\n",
       "|  3 |   9 |\n",
       "|  4 |  16 |\n",
       "|  5 |  25 |\n",
       "|  6 |  36 |\n",
       "|  7 |  49 |\n",
       "|  8 |  64 |\n",
       "|  9 |  81 |\n",
       "| 10 | 100 |\n",
       "\n"
      ],
      "text/plain": [
       "   x  y  \n",
       "1   1   1\n",
       "2   2   4\n",
       "3   3   9\n",
       "4   4  16\n",
       "5   5  25\n",
       "6   6  36\n",
       "7   7  49\n",
       "8   8  64\n",
       "9   9  81\n",
       "10 10 100"
      ]
     },
     "metadata": {},
     "output_type": "display_data"
    }
   ],
   "source": [
    "data"
   ]
  },
  {
   "cell_type": "code",
   "execution_count": 20,
   "id": "d531010b",
   "metadata": {},
   "outputs": [
    {
     "data": {
      "text/html": [
       "<table class=\"dataframe\">\n",
       "<caption>A tibble: 10 × 2</caption>\n",
       "<thead>\n",
       "\t<tr><th scope=col>x</th><th scope=col>y</th></tr>\n",
       "\t<tr><th scope=col>&lt;int&gt;</th><th scope=col>&lt;dbl&gt;</th></tr>\n",
       "</thead>\n",
       "<tbody>\n",
       "\t<tr><td> 1</td><td>  1</td></tr>\n",
       "\t<tr><td> 2</td><td>  4</td></tr>\n",
       "\t<tr><td> 3</td><td>  9</td></tr>\n",
       "\t<tr><td> 4</td><td> 16</td></tr>\n",
       "\t<tr><td> 5</td><td> 25</td></tr>\n",
       "\t<tr><td> 6</td><td> 36</td></tr>\n",
       "\t<tr><td> 7</td><td> 49</td></tr>\n",
       "\t<tr><td> 8</td><td> 64</td></tr>\n",
       "\t<tr><td> 9</td><td> 81</td></tr>\n",
       "\t<tr><td>10</td><td>100</td></tr>\n",
       "</tbody>\n",
       "</table>\n"
      ],
      "text/latex": [
       "A tibble: 10 × 2\n",
       "\\begin{tabular}{ll}\n",
       " x & y\\\\\n",
       " <int> & <dbl>\\\\\n",
       "\\hline\n",
       "\t  1 &   1\\\\\n",
       "\t  2 &   4\\\\\n",
       "\t  3 &   9\\\\\n",
       "\t  4 &  16\\\\\n",
       "\t  5 &  25\\\\\n",
       "\t  6 &  36\\\\\n",
       "\t  7 &  49\\\\\n",
       "\t  8 &  64\\\\\n",
       "\t  9 &  81\\\\\n",
       "\t 10 & 100\\\\\n",
       "\\end{tabular}\n"
      ],
      "text/markdown": [
       "\n",
       "A tibble: 10 × 2\n",
       "\n",
       "| x &lt;int&gt; | y &lt;dbl&gt; |\n",
       "|---|---|\n",
       "|  1 |   1 |\n",
       "|  2 |   4 |\n",
       "|  3 |   9 |\n",
       "|  4 |  16 |\n",
       "|  5 |  25 |\n",
       "|  6 |  36 |\n",
       "|  7 |  49 |\n",
       "|  8 |  64 |\n",
       "|  9 |  81 |\n",
       "| 10 | 100 |\n",
       "\n"
      ],
      "text/plain": [
       "   x  y  \n",
       "1   1   1\n",
       "2   2   4\n",
       "3   3   9\n",
       "4   4  16\n",
       "5   5  25\n",
       "6   6  36\n",
       "7   7  49\n",
       "8   8  64\n",
       "9   9  81\n",
       "10 10 100"
      ]
     },
     "metadata": {},
     "output_type": "display_data"
    }
   ],
   "source": [
    "test_tbl <- tibble(x=1:10, y=x^2)\n",
    "test_tbl"
   ]
  },
  {
   "cell_type": "code",
   "execution_count": 22,
   "id": "e70298c0",
   "metadata": {},
   "outputs": [
    {
     "name": "stdout",
     "output_type": "stream",
     "text": [
      "tibble [10 × 2] (S3: tbl_df/tbl/data.frame)\n",
      " $ x: int [1:10] 1 2 3 4 5 6 7 8 9 10\n",
      " $ y: num [1:10] 1 4 9 16 25 36 49 64 81 100\n"
     ]
    }
   ],
   "source": [
    "str(test_tbl)"
   ]
  },
  {
   "cell_type": "code",
   "execution_count": null,
   "id": "4b7eabb9",
   "metadata": {},
   "outputs": [],
   "source": [
    "some_list = list(matrix(1:4, nrow=2), matrix(6:17, nrow=4), matrix(3:11, ncol=3, byrow=TRUE))\n",
    "print(some_list)\n"
   ]
  },
  {
   "cell_type": "code",
   "execution_count": null,
   "id": "34cda008",
   "metadata": {},
   "outputs": [],
   "source": []
  }
 ],
 "metadata": {
  "kernelspec": {
   "display_name": "R",
   "language": "R",
   "name": "ir"
  },
  "language_info": {
   "codemirror_mode": "r",
   "file_extension": ".r",
   "mimetype": "text/x-r-source",
   "name": "R",
   "pygments_lexer": "r",
   "version": "4.2.1"
  }
 },
 "nbformat": 4,
 "nbformat_minor": 5
}
