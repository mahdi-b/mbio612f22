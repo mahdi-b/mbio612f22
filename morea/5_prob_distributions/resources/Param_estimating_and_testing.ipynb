{
 "cells": [
  {
   "cell_type": "code",
   "execution_count": 4,
   "id": "05a2164f",
   "metadata": {
    "pycharm": {
     "name": "#%%\n"
    }
   },
   "outputs": [
    {
     "name": "stderr",
     "output_type": "stream",
     "text": [
      "── \u001B[1mAttaching packages\u001B[22m ─────────────────────────────────────────────────────────────────────────────────────────────────────────────────────────────────────────────────────────────────────────────────────────────────────────────────────── tidyverse 1.3.2 ──\n",
      "\u001B[32m✔\u001B[39m \u001B[34mggplot2\u001B[39m 3.3.6     \u001B[32m✔\u001B[39m \u001B[34mpurrr  \u001B[39m 0.3.4\n",
      "\u001B[32m✔\u001B[39m \u001B[34mtibble \u001B[39m 3.1.8     \u001B[32m✔\u001B[39m \u001B[34mdplyr  \u001B[39m 1.0.9\n",
      "\u001B[32m✔\u001B[39m \u001B[34mtidyr  \u001B[39m 1.2.0     \u001B[32m✔\u001B[39m \u001B[34mstringr\u001B[39m 1.4.1\n",
      "\u001B[32m✔\u001B[39m \u001B[34mreadr  \u001B[39m 2.1.2     \u001B[32m✔\u001B[39m \u001B[34mforcats\u001B[39m 0.5.2\n",
      "── \u001B[1mConflicts\u001B[22m ────────────────────────────────────────────────────────────────────────────────────────────────────────────────────────────────────────────────────────────────────────────────────────────────────────────────────────── tidyverse_conflicts() ──\n",
      "\u001B[31m✖\u001B[39m \u001B[34mdplyr\u001B[39m::\u001B[32mfilter()\u001B[39m masks \u001B[34mstats\u001B[39m::filter()\n",
      "\u001B[31m✖\u001B[39m \u001B[34mdplyr\u001B[39m::\u001B[32mlag()\u001B[39m    masks \u001B[34mstats\u001B[39m::lag()\n"
     ]
    }
   ],
   "source": [
    "library(tidyverse)"
   ]
  },
  {
   "cell_type": "markdown",
   "id": "06ee6a59",
   "metadata": {
    "pycharm": {
     "name": "#%% md\n"
    }
   },
   "source": [
    "### Empirical Distribution of a Statistic\n",
    "\n",
    "* The Law of Averages implies that with high probability, the empirical distribution of a large random sample will resemble the distribution of the population from which the sample was drawn.\n",
    "\n",
    "* The empirical histogram of a large random sample is likely to resemble the histogram of the population.\n",
    "\n",
    "* Given a large fish tank that contains 580 Mozambique tilapia fish\n",
    " * Suppose that we know, somehow, the weight of all the fishes in the tank\n",
    "  * Population is the total of all fishes in the tank\n",
    "  * Random variable $X \\sim \\mathcal{N}(630.26, 75.89)$.\n"
   ]
  },
  {
   "cell_type": "code",
   "execution_count": 1,
   "id": "32a475c0",
   "metadata": {
    "pycharm": {
     "name": "#%%\n"
    }
   },
   "outputs": [
    {
     "data": {
      "text/html": [
       "<table class=\"dataframe\">\n",
       "<caption>A data.frame: 6 × 2</caption>\n",
       "<thead>\n",
       "\t<tr><th></th><th scope=col>fish_index</th><th scope=col>data</th></tr>\n",
       "\t<tr><th></th><th scope=col>&lt;int&gt;</th><th scope=col>&lt;dbl&gt;</th></tr>\n",
       "</thead>\n",
       "<tbody>\n",
       "\t<tr><th scope=row>1</th><td>1</td><td>574.2974</td></tr>\n",
       "\t<tr><th scope=row>2</th><td>2</td><td>728.5173</td></tr>\n",
       "\t<tr><th scope=row>3</th><td>3</td><td>517.1673</td></tr>\n",
       "\t<tr><th scope=row>4</th><td>4</td><td>561.2709</td></tr>\n",
       "\t<tr><th scope=row>5</th><td>5</td><td>565.4517</td></tr>\n",
       "\t<tr><th scope=row>6</th><td>6</td><td>696.6255</td></tr>\n",
       "</tbody>\n",
       "</table>\n"
      ],
      "text/latex": [
       "A data.frame: 6 × 2\n",
       "\\begin{tabular}{r|ll}\n",
       "  & fish\\_index & data\\\\\n",
       "  & <int> & <dbl>\\\\\n",
       "\\hline\n",
       "\t1 & 1 & 574.2974\\\\\n",
       "\t2 & 2 & 728.5173\\\\\n",
       "\t3 & 3 & 517.1673\\\\\n",
       "\t4 & 4 & 561.2709\\\\\n",
       "\t5 & 5 & 565.4517\\\\\n",
       "\t6 & 6 & 696.6255\\\\\n",
       "\\end{tabular}\n"
      ],
      "text/markdown": [
       "\n",
       "A data.frame: 6 × 2\n",
       "\n",
       "| <!--/--> | fish_index &lt;int&gt; | data &lt;dbl&gt; |\n",
       "|---|---|---|\n",
       "| 1 | 1 | 574.2974 |\n",
       "| 2 | 2 | 728.5173 |\n",
       "| 3 | 3 | 517.1673 |\n",
       "| 4 | 4 | 561.2709 |\n",
       "| 5 | 5 | 565.4517 |\n",
       "| 6 | 6 | 696.6255 |\n",
       "\n"
      ],
      "text/plain": [
       "  fish_index data    \n",
       "1 1          574.2974\n",
       "2 2          728.5173\n",
       "3 3          517.1673\n",
       "4 4          561.2709\n",
       "5 5          565.4517\n",
       "6 6          696.6255"
      ]
     },
     "metadata": {},
     "output_type": "display_data"
    }
   ],
   "source": [
    "weights = read.csv(\"data/tank_5_oreochromis_mossambicus.csv\")\n",
    "head(weights)"
   ]
  },
  {
   "cell_type": "code",
   "execution_count": null,
   "outputs": [],
   "source": [
    "dim(weights)"
   ],
   "metadata": {
    "collapsed": false,
    "pycharm": {
     "name": "#%%\n"
    }
   }
  },
  {
   "cell_type": "code",
   "execution_count": null,
   "outputs": [],
   "source": [
    "weights_tbl = read_csv(\"data/tank_5_oreochromis_mossambicus.csv\")\n",
    "head(weights_tbl)"
   ],
   "metadata": {
    "collapsed": false,
    "pycharm": {
     "name": "#%%\n"
    }
   }
  },
  {
   "cell_type": "code",
   "execution_count": null,
   "outputs": [],
   "source": [
    "weights_tbl <- read_csv(\"data/tank_5_oreochromis_mossambicus.csv\",\n",
    "                      col_types = cols(\n",
    "                        fish_index = col_integer(),\n",
    "                        data = col_double()\n",
    "                      ))\n",
    "head(weights_tbl)"
   ],
   "metadata": {
    "collapsed": false,
    "pycharm": {
     "name": "#%%\n"
    }
   }
  },
  {
   "cell_type": "code",
   "execution_count": null,
   "outputs": [],
   "source": [
    "names(weights_tbl) = c(\"index\", \"weights\")\n",
    "head(weights_tbl)"
   ],
   "metadata": {
    "collapsed": false,
    "pycharm": {
     "name": "#%%\n"
    }
   }
  },
  {
   "cell_type": "code",
   "execution_count": null,
   "outputs": [],
   "source": [
    "ggplot(data=weights_tbl) + \n",
    "  geom_histogram(aes(x=weights), bins = 25, alpha=0.5, color=\"black\", size=1)\n"
   ],
   "metadata": {
    "collapsed": false,
    "pycharm": {
     "name": "#%%\n"
    }
   }
  },
  {
   "cell_type": "markdown",
   "source": [
    "### Working with Kernel Density Estimates\n",
    "\n",
    "\n",
    "* Kernel density estimation (KDE) is a non-parametric way to estimate the probability density function of a random variable\n",
    "  * A fundamental data smoothing problem where inferences about the population are made, based on a finite data sample.\n",
    "\n",
    "* We much prefer to visualize data using KDEs instead of histograms for several reasons, which we will discuss later \n",
    "  * `geom_density` estiames the density using the KDE approach.\n",
    "  * Param `bw` of `geom_density` is tricky to estimate, but for now, we will just use the value that provides the smoothest KDE with the lowest variance.\n"
   ],
   "metadata": {
    "collapsed": false,
    "pycharm": {
     "name": "#%% md\n"
    }
   }
  },
  {
   "cell_type": "code",
   "execution_count": null,
   "outputs": [],
   "source": [
    "ggplot(data=weights_tbl) + \n",
    "  geom_density(aes(x=weights), color=\"black\", size=1, bw=30)\n",
    "\n"
   ],
   "metadata": {
    "collapsed": false,
    "pycharm": {
     "name": "#%%\n"
    }
   }
  },
  {
   "cell_type": "code",
   "execution_count": null,
   "outputs": [],
   "source": [
    "ggplot(data=weights_tbl) + \n",
    "  geom_histogram(aes(x=weights, y=..density..), bins = 25, alpha=0.5, color=\"black\", size=1) +\n",
    "  geom_density(aes(x=weights), color=\"black\", size=1, bw=25) +  \n",
    "  scale_x_continuous(limits=c(300,1200), oob = scales::oob_keep)\n",
    "  \n",
    "# The oob = scales::oob_keep was added to fix an obscure warning\n",
    "# the solution was proposed here\n",
    "# https://github.com/tidyverse/ggplot2/issues/4083"
   ],
   "metadata": {
    "collapsed": false,
    "pycharm": {
     "name": "#%%\n"
    }
   }
  },
  {
   "cell_type": "markdown",
   "source": [
    "### Parameters of a Distribution\n",
    "\n",
    "* Recall that a distribution's parameters define what the distribution looks like\n",
    "  * They are the numerical quantities that define a population\n",
    "\n",
    "* Knowing the parameters can help:\n",
    "  * Calculate the probability of certain events\n",
    "  * Compute expectation\n",
    "  * Understand the variance in the observations\n",
    "\n",
    "* For the fish data, we can easily compute the population parameters.\n",
    " * We distinguish sample mean $\\bar{X}$ from population mean $\\mu$\n",
    "   * We typically compute $\\bar{X}$ based on a small sample of the data as a proxy for $\\mu$\n",
    " * Here, we have access to the whole population, so we can calculate the population mean"
   ],
   "metadata": {
    "collapsed": false,
    "pycharm": {
     "name": "#%% md\n"
    }
   }
  },
  {
   "cell_type": "code",
   "execution_count": null,
   "outputs": [],
   "source": [
    "mean(weights_tbl$weights)\n",
    "sd(weights_tbl$weights)"
   ],
   "metadata": {
    "collapsed": false,
    "pycharm": {
     "name": "#%%\n"
    }
   }
  },
  {
   "cell_type": "markdown",
   "source": [
    "### Statistics \n",
    "\n",
    "- Statistics (field) deals to a large part with the estimation of unknown parameters. \n",
    "\n",
    "- A **statistic** (singular!) is any number computed using the data in a sample. \n",
    "\n",
    "* parameters estimated from subsets of the data are, therefore, statistics\n",
    "\n",
    "  * Statistics are subject to sample bias.\n",
    "\n",
    "* We know that for well behaved distributions samples are likely to resemble the populations they are drawn from\n",
    "  * This is the whole promise in stats\n",
    "\n",
    "* What would the sample mean look like if we randomly sampled from the population of all fish?\n"
   ],
   "metadata": {
    "collapsed": false,
    "pycharm": {
     "name": "#%% md\n"
    }
   }
  },
  {
   "cell_type": "code",
   "execution_count": null,
   "outputs": [],
   "source": [
    "set.seed(32) # Ask me what this means?\n",
    "random_sample = sample(weights_tbl$weights, 50)\n",
    "mean(random_sample)"
   ],
   "metadata": {
    "collapsed": false,
    "pycharm": {
     "name": "#%%\n"
    }
   }
  },
  {
   "cell_type": "code",
   "execution_count": null,
   "outputs": [],
   "source": [
    "random_sample = sample(weights_tbl$weights, 50)\n",
    "mean(random_sample)"
   ],
   "metadata": {
    "collapsed": false,
    "pycharm": {
     "name": "#%%\n"
    }
   }
  },
  {
   "cell_type": "markdown",
   "source": [
    "### Statistics - Cont'd\n",
    "\n",
    "* Each sample (50 fish) produces one observed value of the statistic. \n",
    "  * These values are \"somewhat\" similar to the real population mean (630.26)\n",
    "\n",
    "* It is highly unlikely that different samples will yield the same statistic.\n",
    "* Based on the selected samples, how does the statistic change? It is possible to answer this question by computing the statistic many times and noting the results\n",
    "  * A histogram of those values will show us how the statistic is distributed.\n"
   ],
   "metadata": {
    "collapsed": false,
    "pycharm": {
     "name": "#%% md\n"
    }
   }
  },
  {
   "cell_type": "code",
   "execution_count": null,
   "outputs": [],
   "source": [
    "n = 2\n",
    "\n",
    "n %>%\n",
    "  replicate(sample(weights_tbl$weights, 50))"
   ],
   "metadata": {
    "collapsed": false,
    "pycharm": {
     "name": "#%%\n"
    }
   }
  },
  {
   "cell_type": "code",
   "execution_count": null,
   "outputs": [],
   "source": [
    "n = 2\n",
    "\n",
    "n %>%\n",
    "  replicate(sample(weights_tbl$weights, 50)) %>%\n",
    "  t() %>%\n",
    "  apply(1, mean)\n"
   ],
   "metadata": {
    "collapsed": false,
    "pycharm": {
     "name": "#%%\n"
    }
   }
  },
  {
   "cell_type": "code",
   "execution_count": null,
   "outputs": [],
   "source": [
    "set.seed(42)\n",
    "n = 1000\n",
    "\n",
    "samples_means <- n %>%\n",
    "  replicate(sample(weights_tbl$weights, 50)) %>%\n",
    "  t() %>%\n",
    "  apply(  1, mean)"
   ],
   "metadata": {
    "collapsed": false,
    "pycharm": {
     "name": "#%%\n"
    }
   }
  },
  {
   "cell_type": "code",
   "execution_count": null,
   "outputs": [],
   "source": [
    "samples_means"
   ],
   "metadata": {
    "collapsed": false,
    "pycharm": {
     "name": "#%%\n"
    }
   }
  },
  {
   "cell_type": "code",
   "execution_count": null,
   "outputs": [],
   "source": [
    "ggplot() + \n",
    "  geom_histogram(aes(x=samples_means, y=..density..), bins = 25, alpha=0.1, color=\"black\", size=0.05) +\n",
    "  geom_density(aes(x=samples_means), color=\"black\", size=1, bw=3.5)\n"
   ],
   "metadata": {
    "collapsed": false,
    "pycharm": {
     "name": "#%%\n"
    }
   }
  },
  {
   "cell_type": "code",
   "execution_count": null,
   "outputs": [],
   "source": [
    "mean(samples_means)"
   ],
   "metadata": {
    "collapsed": false,
    "pycharm": {
     "name": "#%%\n"
    }
   }
  },
  {
   "cell_type": "markdown",
   "source": [
    "### Calculating Statistics\n",
    "\n",
    "Example: \n",
    "\n",
    "* You use a DNA Methylation kit that is advertised to have a probability of success of 0.26 on invertebrates.\n",
    "\n",
    "* You repeat the experiment 100 times (100 samples) and you only succeed 10 times (0.10)\n",
    "\n",
    "* You argue with the vendor that the kit is faulty and needs to be replaced.\n"
   ],
   "metadata": {
    "collapsed": false,
    "pycharm": {
     "name": "#%% md\n"
    }
   }
  },
  {
   "cell_type": "markdown",
   "source": [
    "### A Model \n",
    "\n",
    "- A model stipulates that the probability of success is 0.26\n",
    "\n",
    "- The manufacturer explain that they only provide probabilistic guarantees\n",
    "\n",
    "   - I.e., if you were to repeat this a large number of times, you would arrive at the value 0.26\n",
    "      - Repeat this process by trying 100 kits multiple times (say 500 times 100 kits)\n",
    "\n",
    "- We are in a good position to assess this model\n",
    "\n",
    "- What type of probability distribution is appropriate for this example?\n",
    "\n",
    "  - Discrete or continuous?\n",
    "\n",
    "- How can we simulate the experiment?\n",
    "    \n",
    "    - What are we trying to estimate? "
   ],
   "metadata": {
    "collapsed": false,
    "pycharm": {
     "name": "#%% md\n"
    }
   }
  },
  {
   "cell_type": "code",
   "execution_count": null,
   "outputs": [],
   "source": [
    "x <- c(TRUE, TRUE, FALSE)\n",
    "sum(x)"
   ],
   "metadata": {
    "collapsed": false,
    "pycharm": {
     "name": "#%%\n"
    }
   }
  },
  {
   "cell_type": "code",
   "execution_count": null,
   "outputs": [],
   "source": [
    "rbinom(1, 100, 0.26)"
   ],
   "metadata": {
    "collapsed": false,
    "pycharm": {
     "name": "#%%\n"
    }
   }
  },
  {
   "cell_type": "code",
   "execution_count": null,
   "outputs": [],
   "source": [
    "rbinom(1, 100, 0.26)"
   ],
   "metadata": {
    "collapsed": false,
    "pycharm": {
     "name": "#%%\n"
    }
   }
  },
  {
   "cell_type": "code",
   "execution_count": null,
   "outputs": [],
   "source": [
    "set.seed(42)\n",
    "successes = rbinom(10000, 100, 0.26)\n",
    "\n",
    "ggplot() + \n",
    "  geom_histogram(aes(x=successes, y=..density..), bins = 29, alpha=0.1, color=\"black\", size=0.05) +\n",
    "  geom_density(aes(x=successes), color=\"black\", size=1, bw=1.6)\n"
   ],
   "metadata": {
    "collapsed": false,
    "pycharm": {
     "name": "#%%\n"
    }
   }
  },
  {
   "cell_type": "markdown",
   "source": [
    "\n",
    "### The Statistic\n",
    "\n",
    "* The manufacturer says p=0.26 represents the population.\n",
    "\n",
    "* A natural statistic, number of successes in our simulated sample of 100 tests.\n",
    "\n",
    "  * Small value with favor alternative viewpoint.\n",
    "\n",
    "\n",
    "* If the model were true, what is the distribution of success? \n",
    "\n"
   ],
   "metadata": {
    "collapsed": false,
    "pycharm": {
     "name": "#%% md\n"
    }
   }
  },
  {
   "cell_type": "code",
   "execution_count": null,
   "outputs": [],
   "source": [
    "rbinom(10, 100, 0.26)"
   ],
   "metadata": {
    "collapsed": false,
    "pycharm": {
     "name": "#%%\n"
    }
   }
  },
  {
   "cell_type": "code",
   "execution_count": null,
   "outputs": [],
   "source": [
    "\n",
    "n = 2\n",
    "\n",
    "n %>%\n",
    "  replicate(rbinom(10, 100, 0.26)) %>%\n",
    "  t()\n"
   ],
   "metadata": {
    "collapsed": false,
    "pycharm": {
     "name": "#%%\n"
    }
   }
  },
  {
   "cell_type": "code",
   "execution_count": null,
   "outputs": [],
   "source": [
    "# To get a sense of the variability, let's generate 10,000 simulated values of the count. \n",
    "nb_replicates = 10000\n",
    "nb_kits = 100\n",
    "\n",
    "nb_success = rbinom(nb_replicates, nb_kits, 0.26)"
   ],
   "metadata": {
    "collapsed": false,
    "pycharm": {
     "name": "#%%\n"
    }
   }
  },
  {
   "cell_type": "code",
   "execution_count": null,
   "outputs": [],
   "source": [
    "head(nb_success)"
   ],
   "metadata": {
    "collapsed": false,
    "pycharm": {
     "name": "#%%\n"
    }
   }
  },
  {
   "cell_type": "code",
   "execution_count": null,
   "outputs": [],
   "source": [
    "ggplot() + \n",
    "  geom_histogram(aes(x=nb_success, y=..density..), bins = 32, alpha=0.1, color=\"black\", size=0.05) +\n",
    "  geom_density(aes(x=nb_success), color=\"black\", size=1, bw=2) + \n",
    "  geom_vline(aes(xintercept=26))"
   ],
   "metadata": {
    "collapsed": false,
    "pycharm": {
     "name": "#%%\n"
    }
   }
  },
  {
   "cell_type": "code",
   "execution_count": null,
   "outputs": [],
   "source": [
    "sum(nb_success <= 10)"
   ],
   "metadata": {
    "collapsed": false,
    "pycharm": {
     "name": "#%%\n"
    }
   }
  },
  {
   "cell_type": "markdown",
   "source": [
    "### Comparing the Prediction and the Observed Data\n",
    "\n",
    "- The value 10 is far out. \n",
    "  - No samples yield less 10 that 10 successes\n",
    "\n",
    "- Assuming the claim is true, if we use the kit 100 times, the probability of observing 10 successes is ~0 \n",
    "\n",
    "- This is evidence that the model (claim) is not consistent with the data we obtained\n",
    "\n",
    "  - When the data and a model are inconsistent, the model is hard to justify. \n",
    "\n",
    "- While it is *possible* to have 10 successes, simulation shows that it's extremely unlikely. \n",
    "  * The empirical probability of such an event is actually null\n"
   ],
   "metadata": {
    "collapsed": false,
    "pycharm": {
     "name": "#%% md\n"
    }
   }
  },
  {
   "cell_type": "markdown",
   "source": [
    "### General Approach\n",
    "\n",
    "* This method of assessing models is very general. \n",
    "1. We have a value we wish to compare to some distribution\n",
    "2. We generate samples under the hypothesis we would like to test\n",
    "  * This is called the null hypothesis\n",
    "\n",
    "3. we reason about the observed data or statistic\n",
    "\n",
    "\n",
    "* Here is an example in which we use it to assess a model in a completely different setting"
   ],
   "metadata": {
    "collapsed": false,
    "pycharm": {
     "name": "#%% md\n"
    }
   }
  },
  {
   "cell_type": "markdown",
   "source": [
    "### Mendel's Pea Flowers ###\n",
    "\n",
    "* In a particular variety, each pea plant has either purple or white flowers.\n",
    "\n",
    "* Plant colors are independent\n",
    "\n",
    "* Mendel hypothesized that the plants should bear purple or white flowers at random, in the ratio 3:1. \n",
    "\n",
    "* The null model: For every plant, there is a 75% chance that it will have purple flowers, and a 25% chance that the flowers will be white, regardless of the colors in the remaining plants.\n",
    "\n",
    "* We sampled 100 flowers and 72 were actually purple\n",
    "\n",
    "* Do our results agree with Mendel's model?\n"
   ],
   "metadata": {
    "collapsed": false,
    "pycharm": {
     "name": "#%% md\n"
    }
   }
  },
  {
   "cell_type": "markdown",
   "source": [
    "### Approach to Assessment\n",
    "\n",
    "1. Assess the model by simulating plants under the assumptions of the model \n",
    "\n",
    "2. Compare the results to the data that Mendel recorded\n",
    "    * If the model is good, the percent of purple-flowering plants in the sample should be close to 75%. \n",
    " \n",
    "    * If the model is not good, the percent purple-flowering will be away from 75%. \n",
    "\n",
    "        * It may be higher, or lower; the direction doesn't matter.\n",
    "\n",
    "3. The *distance* between 75% and the percent of purple-flowering plants in the sample is critical. \n",
    "\n",
    " * Big distances are evidence that the model isn't good. Therefore, a good statistic is the distance between the sample percent and 75%\n",
    "\n",
    "$$\n",
    "\\big{\\vert} \\text{sample percent of purple-flowering plants} - 75 \\big{\\vert}\n",
    "$$\n"
   ],
   "metadata": {
    "collapsed": false,
    "pycharm": {
     "name": "#%% md\n"
    }
   }
  },
  {
   "cell_type": "markdown",
   "source": [
    "### Predicting the Statistic Under the Model ###\n",
    "\n",
    "* How big the distance would be if Mendel's model were true?\n",
    "\n",
    "  * Use `sample_proportions` to simulate the distance under the assumptions of the model.\n",
    "\n",
    "* Mendel had 929 plants of the variety corresponding to this model.\n",
    "\n",
    "* One simulated value of the experiment would look like\n"
   ],
   "metadata": {
    "collapsed": false,
    "pycharm": {
     "name": "#%% md\n"
    }
   }
  },
  {
   "cell_type": "code",
   "execution_count": null,
   "outputs": [],
   "source": [
    "rbinom(1, 929, 0.75)/929"
   ],
   "metadata": {
    "collapsed": false,
    "pycharm": {
     "name": "#%%\n"
    }
   }
  },
  {
   "cell_type": "code",
   "execution_count": null,
   "outputs": [],
   "source": [
    "rbinom(1, 929, 0.75)/929"
   ],
   "metadata": {
    "collapsed": false,
    "pycharm": {
     "name": "#%%\n"
    }
   }
  },
  {
   "cell_type": "markdown",
   "id": "03070aa4",
   "metadata": {
    "pycharm": {
     "name": "#%% md\n"
    }
   },
   "source": [
    "### Predicting the Statistic Under the Model ###\n",
    "\n",
    "* How big the distance would be if Mendel's model were true?\n",
    "\n",
    "  * Use `sample_proportions` to simulate the distance under the assumptions of the model.\n",
    "\n",
    "* Mendel had 929 plants of the variety corresponding to this model.\n",
    "\n",
    "* One simulated value of the experiment would look like\n"
   ]
  },
  {
   "cell_type": "code",
   "execution_count": 245,
   "id": "18064fa9",
   "metadata": {
    "pycharm": {
     "name": "#%%\n"
    }
   },
   "outputs": [
    {
     "data": {
      "text/html": [
       "0.741657696447793"
      ],
      "text/latex": [
       "0.741657696447793"
      ],
      "text/markdown": [
       "0.741657696447793"
      ],
      "text/plain": [
       "[1] 0.7416577"
      ]
     },
     "metadata": {},
     "output_type": "display_data"
    }
   ],
   "source": [
    "rbinom(1, 929, 0.75)/929"
   ]
  },
  {
   "cell_type": "code",
   "execution_count": 26,
   "id": "b7ac0db4",
   "metadata": {},
   "outputs": [
    {
     "data": {
      "text/html": [
       "0.76210979547901"
      ],
      "text/latex": [
       "0.76210979547901"
      ],
      "text/markdown": [
       "0.76210979547901"
      ],
      "text/plain": [
       "[1] 0.7621098"
      ]
     },
     "metadata": {},
     "output_type": "display_data"
    }
   ],
   "source": [
    "rbinom(1, 929, 0.75)/929"
   ]
  },
  {
   "cell_type": "code",
   "execution_count": 27,
   "id": "fe7001f0",
   "metadata": {},
   "outputs": [
    {
     "data": {
      "text/html": [
       "0.764262648008611"
      ],
      "text/latex": [
       "0.764262648008611"
      ],
      "text/markdown": [
       "0.764262648008611"
      ],
      "text/plain": [
       "[1] 0.7642626"
      ]
     },
     "metadata": {},
     "output_type": "display_data"
    }
   ],
   "source": [
    "rbinom(1, 929, 0.75)/929"
   ]
  },
  {
   "cell_type": "code",
   "execution_count": 31,
   "id": "d778c281",
   "metadata": {
    "pycharm": {
     "name": "#%%\n"
    }
   },
   "outputs": [
    {
     "data": {
      "text/html": [
       "2.44886975242196"
      ],
      "text/latex": [
       "2.44886975242196"
      ],
      "text/markdown": [
       "2.44886975242196"
      ],
      "text/plain": [
       "[1] 2.44887"
      ]
     },
     "metadata": {},
     "output_type": "display_data"
    }
   ],
   "source": [
    "# We could simulate from a batch of size 929, as Mendel did\n",
    "abs((100 * rbinom(1,929, 0.75)/929) - 75)"
   ]
  },
  {
   "cell_type": "markdown",
   "id": "420b889c",
   "metadata": {
    "pycharm": {
     "name": "#%% md\n"
    }
   },
   "source": [
    "### Running the Simulation\n",
    "* To get a sense of how variable the distance could be, we have to simulate it many more times.\n",
    "  * We will generate 10,000 values of the distance.\n",
    "* We will plot the histogram of the simulated values to see the distribution of the distance as predicted by the model.\n"
   ]
  },
  {
   "cell_type": "code",
   "execution_count": 258,
   "id": "49810384",
   "metadata": {
    "pycharm": {
     "name": "#%%\n"
    }
   },
   "outputs": [
    {
     "data": {
      "text/html": [
       "<style>\n",
       ".list-inline {list-style: none; margin:0; padding: 0}\n",
       ".list-inline>li {display: inline-block}\n",
       ".list-inline>li:not(:last-child)::after {content: \"\\00b7\"; padding: 0 .5ex}\n",
       "</style>\n",
       "<ol class=list-inline><li>-0.618945102260497</li><li>0.457481162540361</li><li>-1.3724434876211</li><li>1.42626480086115</li><li>-1.3724434876211</li><li>0.780409041980619</li><li>0.99569429494079</li><li>1.21097954790096</li><li>1.64155005382132</li><li>0.457481162540361</li></ol>\n"
      ],
      "text/latex": [
       "\\begin{enumerate*}\n",
       "\\item -0.618945102260497\n",
       "\\item 0.457481162540361\n",
       "\\item -1.3724434876211\n",
       "\\item 1.42626480086115\n",
       "\\item -1.3724434876211\n",
       "\\item 0.780409041980619\n",
       "\\item 0.99569429494079\n",
       "\\item 1.21097954790096\n",
       "\\item 1.64155005382132\n",
       "\\item 0.457481162540361\n",
       "\\end{enumerate*}\n"
      ],
      "text/markdown": [
       "1. -0.618945102260497\n",
       "2. 0.457481162540361\n",
       "3. -1.3724434876211\n",
       "4. 1.42626480086115\n",
       "5. -1.3724434876211\n",
       "6. 0.780409041980619\n",
       "7. 0.99569429494079\n",
       "8. 1.21097954790096\n",
       "9. 1.64155005382132\n",
       "10. 0.457481162540361\n",
       "\n",
       "\n"
      ],
      "text/plain": [
       " [1] -0.6189451  0.4574812 -1.3724435  1.4262648 -1.3724435  0.7804090\n",
       " [7]  0.9956943  1.2109795  1.6415501  0.4574812"
      ]
     },
     "metadata": {},
     "output_type": "display_data"
    }
   ],
   "source": [
    "\n",
    "(100 * rbinom(10, 929, 0.75)/929) - 75\n"
   ]
  },
  {
   "cell_type": "code",
   "execution_count": 267,
   "id": "af8e768b",
   "metadata": {
    "pycharm": {
     "name": "#%%\n"
    }
   },
   "outputs": [
    {
     "data": {
      "text/html": [
       "<style>\n",
       ".list-inline {list-style: none; margin:0; padding: 0}\n",
       ".list-inline>li {display: inline-block}\n",
       ".list-inline>li:not(:last-child)::after {content: \"\\00b7\"; padding: 0 .5ex}\n",
       "</style>\n",
       "<ol class=list-inline><li>1.26480086114101</li><li>0.618945102260497</li><li>2.01829924650161</li><li>0.403659849300325</li><li>1.21097954790096</li><li>0.188374596340154</li><li>0.0807319698600679</li><li>1.64155005382132</li><li>0.24219590958019</li><li>0.29601722282024</li></ol>\n"
      ],
      "text/latex": [
       "\\begin{enumerate*}\n",
       "\\item 1.26480086114101\n",
       "\\item 0.618945102260497\n",
       "\\item 2.01829924650161\n",
       "\\item 0.403659849300325\n",
       "\\item 1.21097954790096\n",
       "\\item 0.188374596340154\n",
       "\\item 0.0807319698600679\n",
       "\\item 1.64155005382132\n",
       "\\item 0.24219590958019\n",
       "\\item 0.29601722282024\n",
       "\\end{enumerate*}\n"
      ],
      "text/markdown": [
       "1. 1.26480086114101\n",
       "2. 0.618945102260497\n",
       "3. 2.01829924650161\n",
       "4. 0.403659849300325\n",
       "5. 1.21097954790096\n",
       "6. 0.188374596340154\n",
       "7. 0.0807319698600679\n",
       "8. 1.64155005382132\n",
       "9. 0.24219590958019\n",
       "10. 0.29601722282024\n",
       "\n",
       "\n"
      ],
      "text/plain": [
       " [1] 1.26480086 0.61894510 2.01829925 0.40365985 1.21097955 0.18837460\n",
       " [7] 0.08073197 1.64155005 0.24219591 0.29601722"
      ]
     },
     "metadata": {},
     "output_type": "display_data"
    }
   ],
   "source": [
    "distances = abs((100 * rbinom(10000, 929, 0.75)/929) - 75)\n",
    "distances[0:10]"
   ]
  },
  {
   "cell_type": "code",
   "execution_count": 288,
   "id": "b3fa081c",
   "metadata": {
    "pycharm": {
     "name": "#%%\n"
    }
   },
   "outputs": [
    {
     "data": {
      "image/png": "[encoded data removed]",
      "text/plain": [
       "plot without title"
      ]
     },
     "metadata": {
      "image/png": {
       "height": 420,
       "width": 420
      }
     },
     "output_type": "display_data"
    }
   ],
   "source": [
    "set.seed(42)\n",
    "successes = rbinom(10000, 100, 0.26)\n",
    "\n",
    "ggplot() + \n",
    "  geom_histogram(aes(x=distances, y=..density..), bins = 29, alpha=0.1, color=\"black\", size=0.05) +\n",
    "  geom_density(aes(x=distances), color=\"black\", size=1, bw=0.3) + \n",
    "  geom_point(aes(x=3, y=0), size=10, color=\"red\")\n"
   ]
  },
  {
   "cell_type": "code",
   "execution_count": 292,
   "id": "38ee057c",
   "metadata": {
    "pycharm": {
     "name": "#%%\n"
    }
   },
   "outputs": [
    {
     "data": {
      "text/html": [
       "0.0331"
      ],
      "text/latex": [
       "0.0331"
      ],
      "text/markdown": [
       "0.0331"
      ],
      "text/plain": [
       "[1] 0.0331"
      ]
     },
     "metadata": {},
     "output_type": "display_data"
    }
   ],
   "source": [
    "sum(distances >=3)/10000"
   ]
  }
 ],
 "metadata": {
  "kernelspec": {
   "display_name": "R",
   "language": "R",
   "name": "ir"
  },
  "language_info": {
   "codemirror_mode": "r",
   "file_extension": ".r",
   "mimetype": "text/x-r-source",
   "name": "R",
   "pygments_lexer": "r",
   "version": "4.2.1"
  }
 },
 "nbformat": 4,
 "nbformat_minor": 5
}